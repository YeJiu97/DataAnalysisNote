{
 "cells": [
  {
   "cell_type": "markdown",
   "id": "21c9d5f5-874a-4098-93d3-f4d04b301f22",
   "metadata": {},
   "source": [
    "**关于数据集的说明**\n",
    "这是一个关于用户在小红书购买金额的数据集，共有29452条数据和7个变量\n",
    "\n",
    "这7个变量为：\n",
    "1. revenue 用户下单的购买金额\n",
    "2. 3rd_party_stores 用户过往在app种从第三方购买的数量，为0则代表只在自商品种购买\n",
    "3. Gender 性别 男性：1   女性：0\n",
    "4. engaged_last_30 最近30天在app商有参与重点活动（讨论或者卖家秀）\n",
    "5. Lifecycle 生命周期，分为A，B，C，分别对应 6个月之内，1年之内和2年之内\n",
    "6. day_since_last_order 最近一次下单距今的天数\n",
    "7. previous_order_amount 以往累计的用户购买金额"
   ]
  },
  {
   "cell_type": "markdown",
   "id": "8c2e379a-4978-4c45-b078-a05ce7ce141e",
   "metadata": {},
   "source": [
    "                           "
   ]
  },
  {
   "cell_type": "markdown",
   "id": "4cfe1ab1-8bd5-4191-ad30-030a0b4914a7",
   "metadata": {},
   "source": [
    "**Part 1: 分析的目的**\n",
    "\n",
    "假设用户购买金额为因变量，其他六个变量为自变量\n",
    "探寻不同特征的人群对总购买金额的贡献大小，帮助企业定位消费人群并在营销推广等方面做出更好的决策"
   ]
  },
  {
   "cell_type": "code",
   "execution_count": 116,
   "id": "a17762b0-d751-4451-af2d-2361f8452bba",
   "metadata": {},
   "outputs": [],
   "source": [
    "# 还是导入一些和数据分析相关的库\n",
    "import pandas as pd\n",
    "import numpy as np\n",
    "import seaborn as sns\n",
    "from matplotlib import pyplot as plt"
   ]
  },
  {
   "cell_type": "code",
   "execution_count": 117,
   "id": "93a1fc65-b858-43c0-88e1-9848f247fe35",
   "metadata": {},
   "outputs": [],
   "source": [
    "data = pd.read_csv(\"book.csv\")"
   ]
  },
  {
   "cell_type": "code",
   "execution_count": 118,
   "id": "395f3dfa-01e0-44f1-9fcb-42db3d954582",
   "metadata": {},
   "outputs": [
    {
     "data": {
      "text/plain": [
       "revenue                    False\n",
       "gender                      True\n",
       "age                         True\n",
       "engaged_last_30             True\n",
       "lifecycle                  False\n",
       " days_since_last_order     False\n",
       "previous_order_amount      False\n",
       "3rd_party_stores           False\n",
       "dtype: bool"
      ]
     },
     "execution_count": 118,
     "metadata": {},
     "output_type": "execute_result"
    }
   ],
   "source": [
    "data.isnull().any()"
   ]
  },
  {
   "cell_type": "code",
   "execution_count": 119,
   "id": "842b7f53-317d-4a7b-9e5c-75c7637ca41e",
   "metadata": {},
   "outputs": [
    {
     "data": {
      "text/plain": [
       "revenue                    0.000000\n",
       "gender                     0.398241\n",
       "age                        0.432432\n",
       "engaged_last_30            0.398241\n",
       "lifecycle                  0.000000\n",
       " days_since_last_order     0.000000\n",
       "previous_order_amount      0.000000\n",
       "3rd_party_stores           0.000000\n",
       "dtype: float64"
      ]
     },
     "execution_count": 119,
     "metadata": {},
     "output_type": "execute_result"
    }
   ],
   "source": [
    "data.isnull().mean()"
   ]
  },
  {
   "cell_type": "code",
   "execution_count": 120,
   "id": "da241bb3-c9ec-46f9-aaaf-ed812b30e7a3",
   "metadata": {},
   "outputs": [],
   "source": [
    "data.dropna(inplace=True)"
   ]
  },
  {
   "cell_type": "code",
   "execution_count": 121,
   "id": "380db8f1-7a72-42e1-9680-3a194c13b002",
   "metadata": {},
   "outputs": [
    {
     "data": {
      "text/plain": [
       "(16716, 8)"
      ]
     },
     "execution_count": 121,
     "metadata": {},
     "output_type": "execute_result"
    }
   ],
   "source": [
    "data.shape"
   ]
  },
  {
   "cell_type": "code",
   "execution_count": 122,
   "id": "1898fbd5-8cce-4c9e-b231-6cfe066c07a5",
   "metadata": {},
   "outputs": [
    {
     "data": {
      "text/plain": [
       "0.0"
      ]
     },
     "execution_count": 122,
     "metadata": {},
     "output_type": "execute_result"
    }
   ],
   "source": [
    "data.duplicated().mean()"
   ]
  },
  {
   "cell_type": "markdown",
   "id": "8ab2af31-55e2-49f5-83c3-1493251190ef",
   "metadata": {},
   "source": [
    "**了解的信息一：不同性别用户的下单比较**"
   ]
  },
  {
   "cell_type": "code",
   "execution_count": 123,
   "id": "549bfd8b-4698-471f-b7fb-ebb5dcf6e18d",
   "metadata": {},
   "outputs": [
    {
     "data": {
      "text/html": [
       "<div>\n",
       "<style scoped>\n",
       "    .dataframe tbody tr th:only-of-type {\n",
       "        vertical-align: middle;\n",
       "    }\n",
       "\n",
       "    .dataframe tbody tr th {\n",
       "        vertical-align: top;\n",
       "    }\n",
       "\n",
       "    .dataframe thead th {\n",
       "        text-align: right;\n",
       "    }\n",
       "</style>\n",
       "<table border=\"1\" class=\"dataframe\">\n",
       "  <thead>\n",
       "    <tr style=\"text-align: right;\">\n",
       "      <th></th>\n",
       "      <th>revenue</th>\n",
       "      <th>gender</th>\n",
       "      <th>age</th>\n",
       "      <th>engaged_last_30</th>\n",
       "      <th>lifecycle</th>\n",
       "      <th>days_since_last_order</th>\n",
       "      <th>previous_order_amount</th>\n",
       "      <th>3rd_party_stores</th>\n",
       "    </tr>\n",
       "  </thead>\n",
       "  <tbody>\n",
       "    <tr>\n",
       "      <th>0</th>\n",
       "      <td>72.98</td>\n",
       "      <td>1.0</td>\n",
       "      <td>59.0</td>\n",
       "      <td>0.0</td>\n",
       "      <td>B</td>\n",
       "      <td>4.26</td>\n",
       "      <td>2343.870</td>\n",
       "      <td>0</td>\n",
       "    </tr>\n",
       "    <tr>\n",
       "      <th>1</th>\n",
       "      <td>200.99</td>\n",
       "      <td>1.0</td>\n",
       "      <td>51.0</td>\n",
       "      <td>0.0</td>\n",
       "      <td>A</td>\n",
       "      <td>0.94</td>\n",
       "      <td>8539.872</td>\n",
       "      <td>0</td>\n",
       "    </tr>\n",
       "    <tr>\n",
       "      <th>2</th>\n",
       "      <td>69.98</td>\n",
       "      <td>1.0</td>\n",
       "      <td>79.0</td>\n",
       "      <td>0.0</td>\n",
       "      <td>C</td>\n",
       "      <td>4.29</td>\n",
       "      <td>1687.646</td>\n",
       "      <td>1</td>\n",
       "    </tr>\n",
       "    <tr>\n",
       "      <th>5</th>\n",
       "      <td>319.99</td>\n",
       "      <td>1.0</td>\n",
       "      <td>80.0</td>\n",
       "      <td>0.0</td>\n",
       "      <td>C</td>\n",
       "      <td>15.13</td>\n",
       "      <td>2811.491</td>\n",
       "      <td>10</td>\n",
       "    </tr>\n",
       "    <tr>\n",
       "      <th>6</th>\n",
       "      <td>140.00</td>\n",
       "      <td>1.0</td>\n",
       "      <td>60.0</td>\n",
       "      <td>0.0</td>\n",
       "      <td>C</td>\n",
       "      <td>11.45</td>\n",
       "      <td>769.990</td>\n",
       "      <td>4</td>\n",
       "    </tr>\n",
       "  </tbody>\n",
       "</table>\n",
       "</div>"
      ],
      "text/plain": [
       "   revenue  gender   age  engaged_last_30 lifecycle   days_since_last_order   \\\n",
       "0    72.98     1.0  59.0              0.0         B                     4.26   \n",
       "1   200.99     1.0  51.0              0.0         A                     0.94   \n",
       "2    69.98     1.0  79.0              0.0         C                     4.29   \n",
       "5   319.99     1.0  80.0              0.0         C                    15.13   \n",
       "6   140.00     1.0  60.0              0.0         C                    11.45   \n",
       "\n",
       "   previous_order_amount  3rd_party_stores  \n",
       "0               2343.870                 0  \n",
       "1               8539.872                 0  \n",
       "2               1687.646                 1  \n",
       "5               2811.491                10  \n",
       "6                769.990                 4  "
      ]
     },
     "execution_count": 123,
     "metadata": {},
     "output_type": "execute_result"
    }
   ],
   "source": [
    "data.head()"
   ]
  },
  {
   "cell_type": "code",
   "execution_count": 124,
   "id": "e3c7b602-95af-40b6-94d2-bc189026f30e",
   "metadata": {},
   "outputs": [],
   "source": [
    "data.gender = data.gender.map(\n",
    "    {1:\"男\",\n",
    "    0:\"女\"})"
   ]
  },
  {
   "cell_type": "code",
   "execution_count": 125,
   "id": "ada3823d-5468-4115-aeee-cc0f82baf2a2",
   "metadata": {},
   "outputs": [
    {
     "data": {
      "text/html": [
       "<div>\n",
       "<style scoped>\n",
       "    .dataframe tbody tr th:only-of-type {\n",
       "        vertical-align: middle;\n",
       "    }\n",
       "\n",
       "    .dataframe tbody tr th {\n",
       "        vertical-align: top;\n",
       "    }\n",
       "\n",
       "    .dataframe thead th {\n",
       "        text-align: right;\n",
       "    }\n",
       "</style>\n",
       "<table border=\"1\" class=\"dataframe\">\n",
       "  <thead>\n",
       "    <tr style=\"text-align: right;\">\n",
       "      <th></th>\n",
       "      <th>revenue</th>\n",
       "      <th>gender</th>\n",
       "      <th>age</th>\n",
       "      <th>engaged_last_30</th>\n",
       "      <th>lifecycle</th>\n",
       "      <th>days_since_last_order</th>\n",
       "      <th>previous_order_amount</th>\n",
       "      <th>3rd_party_stores</th>\n",
       "    </tr>\n",
       "  </thead>\n",
       "  <tbody>\n",
       "    <tr>\n",
       "      <th>0</th>\n",
       "      <td>72.98</td>\n",
       "      <td>男</td>\n",
       "      <td>59.0</td>\n",
       "      <td>0.0</td>\n",
       "      <td>B</td>\n",
       "      <td>4.26</td>\n",
       "      <td>2343.870</td>\n",
       "      <td>0</td>\n",
       "    </tr>\n",
       "    <tr>\n",
       "      <th>1</th>\n",
       "      <td>200.99</td>\n",
       "      <td>男</td>\n",
       "      <td>51.0</td>\n",
       "      <td>0.0</td>\n",
       "      <td>A</td>\n",
       "      <td>0.94</td>\n",
       "      <td>8539.872</td>\n",
       "      <td>0</td>\n",
       "    </tr>\n",
       "    <tr>\n",
       "      <th>2</th>\n",
       "      <td>69.98</td>\n",
       "      <td>男</td>\n",
       "      <td>79.0</td>\n",
       "      <td>0.0</td>\n",
       "      <td>C</td>\n",
       "      <td>4.29</td>\n",
       "      <td>1687.646</td>\n",
       "      <td>1</td>\n",
       "    </tr>\n",
       "    <tr>\n",
       "      <th>5</th>\n",
       "      <td>319.99</td>\n",
       "      <td>男</td>\n",
       "      <td>80.0</td>\n",
       "      <td>0.0</td>\n",
       "      <td>C</td>\n",
       "      <td>15.13</td>\n",
       "      <td>2811.491</td>\n",
       "      <td>10</td>\n",
       "    </tr>\n",
       "    <tr>\n",
       "      <th>6</th>\n",
       "      <td>140.00</td>\n",
       "      <td>男</td>\n",
       "      <td>60.0</td>\n",
       "      <td>0.0</td>\n",
       "      <td>C</td>\n",
       "      <td>11.45</td>\n",
       "      <td>769.990</td>\n",
       "      <td>4</td>\n",
       "    </tr>\n",
       "  </tbody>\n",
       "</table>\n",
       "</div>"
      ],
      "text/plain": [
       "   revenue gender   age  engaged_last_30 lifecycle   days_since_last_order   \\\n",
       "0    72.98      男  59.0              0.0         B                     4.26   \n",
       "1   200.99      男  51.0              0.0         A                     0.94   \n",
       "2    69.98      男  79.0              0.0         C                     4.29   \n",
       "5   319.99      男  80.0              0.0         C                    15.13   \n",
       "6   140.00      男  60.0              0.0         C                    11.45   \n",
       "\n",
       "   previous_order_amount  3rd_party_stores  \n",
       "0               2343.870                 0  \n",
       "1               8539.872                 0  \n",
       "2               1687.646                 1  \n",
       "5               2811.491                10  \n",
       "6                769.990                 4  "
      ]
     },
     "execution_count": 125,
     "metadata": {},
     "output_type": "execute_result"
    }
   ],
   "source": [
    "data.head()"
   ]
  },
  {
   "cell_type": "code",
   "execution_count": 126,
   "id": "e0fc9f69-667d-4d0f-814c-39b0f31c57bc",
   "metadata": {},
   "outputs": [],
   "source": [
    "sns.set()\n",
    "plt.rcParams['font.sans-serif'] = \"SimHei\""
   ]
  },
  {
   "cell_type": "code",
   "execution_count": 127,
   "id": "4933c091-94be-4397-a16c-78a0249dad5b",
   "metadata": {},
   "outputs": [
    {
     "data": {
      "text/plain": [
       "<AxesSubplot:xlabel='gender', ylabel='revenue'>"
      ]
     },
     "execution_count": 127,
     "metadata": {},
     "output_type": "execute_result"
    },
    {
     "data": {
      "image/png": "[encoded data removed]",
      "text/plain": [
       "<Figure size 432x288 with 1 Axes>"
      ]
     },
     "metadata": {},
     "output_type": "display_data"
    }
   ],
   "source": [
    "sns.barplot(x='gender', y = 'revenue', data=data)"
   ]
  },
  {
   "cell_type": "markdown",
   "id": "bab3df6e-4a45-495e-9485-3873f7dacd08",
   "metadata": {},
   "source": [
    "**了解的信息二：不同年龄的用户下单比较**"
   ]
  },
  {
   "cell_type": "code",
   "execution_count": 128,
   "id": "7a49bc43-a022-4d0a-9bc2-08260ba8cfc5",
   "metadata": {},
   "outputs": [
    {
     "name": "stderr",
     "output_type": "stream",
     "text": [
      "c:\\users\\yinia\\appdata\\local\\programs\\python\\python37\\lib\\site-packages\\seaborn\\distributions.py:2619: FutureWarning: `distplot` is a deprecated function and will be removed in a future version. Please adapt your code to use either `displot` (a figure-level function with similar flexibility) or `histplot` (an axes-level function for histograms).\n",
      "  warnings.warn(msg, FutureWarning)\n"
     ]
    },
    {
     "data": {
      "text/plain": [
       "<AxesSubplot:xlabel='age', ylabel='Density'>"
      ]
     },
     "execution_count": 128,
     "metadata": {},
     "output_type": "execute_result"
    },
    {
     "data": {
      "image/png": "[encoded data removed]",
      "text/plain": [
       "<Figure size 432x288 with 1 Axes>"
      ]
     },
     "metadata": {},
     "output_type": "display_data"
    }
   ],
   "source": [
    "sns.distplot(data.age)"
   ]
  },
  {
   "cell_type": "code",
   "execution_count": 129,
   "id": "d61f62ce-04c3-47aa-b317-41bd5cabe2bb",
   "metadata": {},
   "outputs": [],
   "source": [
    "data.age = pd.cut(data.age, bins=[-1, 10, 20, 30, 40, 50, 60, 70, 80, 90, 110])"
   ]
  },
  {
   "cell_type": "code",
   "execution_count": 130,
   "id": "bba79e2c-b6c4-4220-9d55-8f39079e840d",
   "metadata": {},
   "outputs": [
    {
     "data": {
      "text/plain": [
       "0        (50, 60]\n",
       "1        (50, 60]\n",
       "2        (70, 80]\n",
       "5        (70, 80]\n",
       "6        (50, 60]\n",
       "           ...   \n",
       "29436    (40, 50]\n",
       "29440    (20, 30]\n",
       "29443    (30, 40]\n",
       "29448    (50, 60]\n",
       "29450    (60, 70]\n",
       "Name: age, Length: 16716, dtype: category\n",
       "Categories (10, interval[int64, right]): [(-1, 10] < (10, 20] < (20, 30] < (30, 40] ... (60, 70] < (70, 80] < (80, 90] < (90, 110]]"
      ]
     },
     "execution_count": 130,
     "metadata": {},
     "output_type": "execute_result"
    }
   ],
   "source": [
    "data.age"
   ]
  },
  {
   "cell_type": "code",
   "execution_count": 131,
   "id": "85a9b857-0652-481b-93ae-b246b7b58de1",
   "metadata": {},
   "outputs": [
    {
     "data": {
      "text/plain": [
       "(array([0, 1, 2, 3, 4, 5, 6, 7, 8, 9]),\n",
       " [Text(0, 0, '(-1, 10]'),\n",
       "  Text(1, 0, '(10, 20]'),\n",
       "  Text(2, 0, '(20, 30]'),\n",
       "  Text(3, 0, '(30, 40]'),\n",
       "  Text(4, 0, '(40, 50]'),\n",
       "  Text(5, 0, '(50, 60]'),\n",
       "  Text(6, 0, '(60, 70]'),\n",
       "  Text(7, 0, '(70, 80]'),\n",
       "  Text(8, 0, '(80, 90]'),\n",
       "  Text(9, 0, '(90, 110]')])"
      ]
     },
     "execution_count": 131,
     "metadata": {},
     "output_type": "execute_result"
    },
    {
     "data": {
      "image/png": "[encoded data removed]",
      "text/plain": [
       "<Figure size 432x288 with 1 Axes>"
      ]
     },
     "metadata": {},
     "output_type": "display_data"
    }
   ],
   "source": [
    "sns.barplot(x='age', y='revenue', data=data)\n",
    "plt.xticks(rotation=90)"
   ]
  },
  {
   "cell_type": "code",
   "execution_count": 132,
   "id": "0efc1f9a-3bf7-478a-aa42-65263bde5f36",
   "metadata": {},
   "outputs": [
    {
     "name": "stderr",
     "output_type": "stream",
     "text": [
      "c:\\users\\yinia\\appdata\\local\\programs\\python\\python37\\lib\\site-packages\\seaborn\\_decorators.py:43: FutureWarning: Pass the following variable as a keyword arg: x. From version 0.12, the only valid positional argument will be `data`, and passing other arguments without an explicit keyword will result in an error or misinterpretation.\n",
      "  FutureWarning\n"
     ]
    },
    {
     "data": {
      "text/plain": [
       "<AxesSubplot:xlabel='engaged_last_30', ylabel='count'>"
      ]
     },
     "execution_count": 132,
     "metadata": {},
     "output_type": "execute_result"
    },
    {
     "data": {
      "image/png": "[encoded data removed]",
      "text/plain": [
       "<Figure size 432x288 with 1 Axes>"
      ]
     },
     "metadata": {},
     "output_type": "display_data"
    }
   ],
   "source": [
    "sns.countplot(data.engaged_last_30)"
   ]
  },
  {
   "cell_type": "markdown",
   "id": "cf30e5ba-bc06-48e3-90d0-91484f3a31bd",
   "metadata": {},
   "source": [
    "**了解信息三：用户生命周期的比较**"
   ]
  },
  {
   "cell_type": "code",
   "execution_count": 133,
   "id": "3ead0a8a-ed4c-436a-9f9f-7bf123342b2a",
   "metadata": {},
   "outputs": [
    {
     "name": "stderr",
     "output_type": "stream",
     "text": [
      "c:\\users\\yinia\\appdata\\local\\programs\\python\\python37\\lib\\site-packages\\seaborn\\_decorators.py:43: FutureWarning: Pass the following variable as a keyword arg: x. From version 0.12, the only valid positional argument will be `data`, and passing other arguments without an explicit keyword will result in an error or misinterpretation.\n",
      "  FutureWarning\n"
     ]
    },
    {
     "data": {
      "text/plain": [
       "<AxesSubplot:xlabel='lifecycle', ylabel='count'>"
      ]
     },
     "execution_count": 133,
     "metadata": {},
     "output_type": "execute_result"
    },
    {
     "data": {
      "image/png": "[encoded data removed]",
      "text/plain": [
       "<Figure size 432x288 with 1 Axes>"
      ]
     },
     "metadata": {},
     "output_type": "display_data"
    }
   ],
   "source": [
    "sns.countplot(data.lifecycle)"
   ]
  },
  {
   "cell_type": "code",
   "execution_count": 134,
   "id": "3e8d1bb5-09b0-41b3-b97c-156720673e2a",
   "metadata": {},
   "outputs": [
    {
     "data": {
      "image/png": "[encoded data removed]",
      "text/plain": [
       "<Figure size 432x288 with 1 Axes>"
      ]
     },
     "metadata": {},
     "output_type": "display_data"
    }
   ],
   "source": [
    "data.lifecycle.value_counts().plot(kind=\"pie\", autopct=\"%.2f%%\")\n",
    "plt.axis('equal')\n",
    "plt.show()"
   ]
  },
  {
   "cell_type": "code",
   "execution_count": 135,
   "id": "44c9493e-709b-444e-b785-340c05e82c51",
   "metadata": {},
   "outputs": [
    {
     "data": {
      "text/plain": [
       "<AxesSubplot:xlabel='lifecycle', ylabel='revenue'>"
      ]
     },
     "execution_count": 135,
     "metadata": {},
     "output_type": "execute_result"
    },
    {
     "data": {
      "image/png": "[encoded data removed]",
      "text/plain": [
       "<Figure size 432x288 with 1 Axes>"
      ]
     },
     "metadata": {},
     "output_type": "display_data"
    }
   ],
   "source": [
    "sns.barplot(x='lifecycle', y = \"revenue\", data=data)"
   ]
  },
  {
   "cell_type": "code",
   "execution_count": 136,
   "id": "6e1afa89-c612-4ed6-af36-5c31e032d978",
   "metadata": {},
   "outputs": [
    {
     "data": {
      "text/plain": [
       "<AxesSubplot:xlabel='lifecycle', ylabel='previous_order_amount'>"
      ]
     },
     "execution_count": 136,
     "metadata": {},
     "output_type": "execute_result"
    },
    {
     "data": {
      "image/png": "[encoded data removed]",
      "text/plain": [
       "<Figure size 432x288 with 1 Axes>"
      ]
     },
     "metadata": {},
     "output_type": "display_data"
    }
   ],
   "source": [
    "sns.barplot(x='lifecycle', y = 'previous_order_amount', data=data)"
   ]
  },
  {
   "cell_type": "markdown",
   "id": "ac1aa3ca-9a83-4387-87cb-7cbb9b441892",
   "metadata": {},
   "source": [
    "**信息：最近一次下单的时间分布**"
   ]
  },
  {
   "cell_type": "code",
   "execution_count": 140,
   "id": "f3fae154-eff1-4aef-a88c-8b4ecaeeba20",
   "metadata": {},
   "outputs": [],
   "source": [
    "data.rename(columns={' days_since_last_order ':'days_since_last_order'}, inplace = True)"
   ]
  },
  {
   "cell_type": "code",
   "execution_count": 141,
   "id": "c1a4db95-26ec-471a-a8de-c208fbc03619",
   "metadata": {},
   "outputs": [
    {
     "name": "stderr",
     "output_type": "stream",
     "text": [
      "c:\\users\\yinia\\appdata\\local\\programs\\python\\python37\\lib\\site-packages\\seaborn\\distributions.py:2619: FutureWarning: `distplot` is a deprecated function and will be removed in a future version. Please adapt your code to use either `displot` (a figure-level function with similar flexibility) or `histplot` (an axes-level function for histograms).\n",
      "  warnings.warn(msg, FutureWarning)\n"
     ]
    },
    {
     "data": {
      "text/plain": [
       "<AxesSubplot:xlabel='days_since_last_order', ylabel='Density'>"
      ]
     },
     "execution_count": 141,
     "metadata": {},
     "output_type": "execute_result"
    },
    {
     "data": {
      "image/png": "[encoded data removed]",
      "text/plain": [
       "<Figure size 432x288 with 1 Axes>"
      ]
     },
     "metadata": {},
     "output_type": "display_data"
    }
   ],
   "source": [
    "sns.distplot(data.days_since_last_order)"
   ]
  }
 ],
 "metadata": {
  "kernelspec": {
   "display_name": "Python 3 (ipykernel)",
   "language": "python",
   "name": "python3"
  },
  "language_info": {
   "codemirror_mode": {
    "name": "ipython",
    "version": 3
   },
   "file_extension": ".py",
   "mimetype": "text/x-python",
   "name": "python",
   "nbconvert_exporter": "python",
   "pygments_lexer": "ipython3",
   "version": "3.7.9"
  }
 },
 "nbformat": 4,
 "nbformat_minor": 5
}
