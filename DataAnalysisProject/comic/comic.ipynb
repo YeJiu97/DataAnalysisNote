{
 "cells": [
  {
   "cell_type": "markdown",
   "id": "37b45461",
   "metadata": {},
   "source": [
    "我们首先要做的是导入常用的数据分析的库\n",
    "包括：numpy，pandas，seaborn，matplotlib"
   ]
  },
  {
   "cell_type": "code",
   "execution_count": 115,
   "id": "e5de2061",
   "metadata": {},
   "outputs": [],
   "source": [
    "import numpy as np\n",
    "import pandas as pd\n",
    "import seaborn as sns\n",
    "import matplotlib.pyplot as plt\n",
    "%matplotlib inline"
   ]
  },
  {
   "cell_type": "markdown",
   "id": "981c0b1c",
   "metadata": {},
   "source": [
    "接着我们需要将comic.csv文件导入\n",
    "使用pd.read_csv()函数来进行导入\n",
    "将导入赋值给comic"
   ]
  },
  {
   "cell_type": "code",
   "execution_count": 116,
   "id": "fafdce5a",
   "metadata": {},
   "outputs": [],
   "source": [
    "comic = pd.read_csv('comic.csv')"
   ]
  },
  {
   "cell_type": "markdown",
   "id": "ddf10e4c",
   "metadata": {},
   "source": [
    "我们可以直接打印comic来查看"
   ]
  },
  {
   "cell_type": "code",
   "execution_count": 117,
   "id": "f87692ac",
   "metadata": {
    "scrolled": false
   },
   "outputs": [
    {
     "data": {
      "text/html": [
       "<div>\n",
       "<style scoped>\n",
       "    .dataframe tbody tr th:only-of-type {\n",
       "        vertical-align: middle;\n",
       "    }\n",
       "\n",
       "    .dataframe tbody tr th {\n",
       "        vertical-align: top;\n",
       "    }\n",
       "\n",
       "    .dataframe thead th {\n",
       "        text-align: right;\n",
       "    }\n",
       "</style>\n",
       "<table border=\"1\" class=\"dataframe\">\n",
       "  <thead>\n",
       "    <tr style=\"text-align: right;\">\n",
       "      <th></th>\n",
       "      <th>标题</th>\n",
       "      <th>标签</th>\n",
       "      <th>播放量</th>\n",
       "      <th>追番人数</th>\n",
       "      <th>弹幕总数</th>\n",
       "      <th>承包人数</th>\n",
       "      <th>集数</th>\n",
       "      <th>开播时间</th>\n",
       "      <th>声优</th>\n",
       "      <th>简介</th>\n",
       "      <th>国家</th>\n",
       "    </tr>\n",
       "  </thead>\n",
       "  <tbody>\n",
       "    <tr>\n",
       "      <th>0</th>\n",
       "      <td>Re：从零开始的异世界生活</td>\n",
       "      <td>奇幻\\n战斗\\n励志</td>\n",
       "      <td>1.4亿</td>\n",
       "      <td>324万</td>\n",
       "      <td>677.4万</td>\n",
       "      <td>?</td>\n",
       "      <td>25话</td>\n",
       "      <td>2016年4月</td>\n",
       "      <td>小林裕介\\n高桥李依\\n内山夕实\\n赤崎千夏\\n水濑祈\\n村川梨衣\\n新井里美\\n中村悠一</td>\n",
       "      <td>在异世界陷入迷茫的普通高中生菜月昴，邂逅了一位银发的美少女。但想助她一臂之力的昴，却一次次地...</td>\n",
       "      <td>日本</td>\n",
       "    </tr>\n",
       "    <tr>\n",
       "      <th>1</th>\n",
       "      <td>埃罗芒阿老师</td>\n",
       "      <td>搞笑\\n恋爱\\n轻改</td>\n",
       "      <td>5645.7万</td>\n",
       "      <td>294.7万</td>\n",
       "      <td>271.5万</td>\n",
       "      <td>NaN</td>\n",
       "      <td>12话</td>\n",
       "      <td>2017年4月</td>\n",
       "      <td>松岡禎丞\\n藤田茜\\n高橋未奈美\\n大西沙織\\n木戸衣吹\\n石川由依</td>\n",
       "      <td>高中生兼小说作家的“和泉正宗”（笔名：和泉征宗）有个家里蹲的妹妹“和泉纱雾”。一年前才成为家...</td>\n",
       "      <td>日本</td>\n",
       "    </tr>\n",
       "    <tr>\n",
       "      <th>2</th>\n",
       "      <td>在下坂本，有何贵干？</td>\n",
       "      <td>日常\\n搞笑\\n校园\\n装逼</td>\n",
       "      <td>9511.1万</td>\n",
       "      <td>263.4万</td>\n",
       "      <td>514.4万</td>\n",
       "      <td>NaN</td>\n",
       "      <td>13话</td>\n",
       "      <td>2016年4月</td>\n",
       "      <td>绿川光\\n森久保祥太郎\\n石田彰\\n堀江由衣\\n游佐浩二\\n鲸（松本和香子）\\n中原麻衣\\n...</td>\n",
       "      <td>于日本县立学文高中之中，有一名叫坂本的全能高中生，平常总是用著各种超乎常理的无厘头行为来完成...</td>\n",
       "      <td>日本</td>\n",
       "    </tr>\n",
       "    <tr>\n",
       "      <th>3</th>\n",
       "      <td>小林家的龙女仆</td>\n",
       "      <td>百合\\n日常\\n搞笑\\n萌系\\n漫改</td>\n",
       "      <td>6624.1万</td>\n",
       "      <td>252万</td>\n",
       "      <td>155.2万</td>\n",
       "      <td>?</td>\n",
       "      <td>13话</td>\n",
       "      <td>2017年1月</td>\n",
       "      <td>田村睦心\\n桑原由気\\n長縄まりあ\\n高田憂希\\n高橋未奈美\\n小野大輔\\n中村悠一\\n加藤...</td>\n",
       "      <td>在单身的辛苦OL小林身边突然出现的女仆装束的美少女托尔。\\n长着角和尾巴的她的身姿正是所谓的...</td>\n",
       "      <td>日本</td>\n",
       "    </tr>\n",
       "    <tr>\n",
       "      <th>4</th>\n",
       "      <td>Fate/Apocrypha</td>\n",
       "      <td>热血\\n战斗</td>\n",
       "      <td>1758万</td>\n",
       "      <td>235.6万</td>\n",
       "      <td>49.7万</td>\n",
       "      <td>24353</td>\n",
       "      <td>NaN</td>\n",
       "      <td>2017年7月</td>\n",
       "      <td>花江夏樹\\n坂本真綾\\n乃村健次\\n沢城みゆき\\n内山昂輝\\n真堂圭\\n早見沙織\\n遊佐浩二...</td>\n",
       "      <td>过去，在被称作冬木的城市曾举行过由七位魔术师与英灵参加的“圣杯战争”。然而趁着第二次世界大战...</td>\n",
       "      <td>日本</td>\n",
       "    </tr>\n",
       "    <tr>\n",
       "      <th>...</th>\n",
       "      <td>...</td>\n",
       "      <td>...</td>\n",
       "      <td>...</td>\n",
       "      <td>...</td>\n",
       "      <td>...</td>\n",
       "      <td>...</td>\n",
       "      <td>...</td>\n",
       "      <td>...</td>\n",
       "      <td>...</td>\n",
       "      <td>...</td>\n",
       "      <td>...</td>\n",
       "    </tr>\n",
       "    <tr>\n",
       "      <th>3200</th>\n",
       "      <td>闯闯闯！我是闯堂兔！</td>\n",
       "      <td>搞笑\\n原创</td>\n",
       "      <td>3万</td>\n",
       "      <td>689</td>\n",
       "      <td>139</td>\n",
       "      <td>?</td>\n",
       "      <td>20话</td>\n",
       "      <td>2015年11月</td>\n",
       "      <td>毛毛糙糙又不失机灵\\n帅酷但是爱现\\n看似呆笨其实心细\\n少言却神奇\\n疯狂的捣蛋专家</td>\n",
       "      <td>《闯闯闯！我是闯堂兔！》是一部爆笑三维动画系列片，全剧采用少量对白，使用滑稽动作和丰富的肢体...</td>\n",
       "      <td>国产</td>\n",
       "    </tr>\n",
       "    <tr>\n",
       "      <th>3201</th>\n",
       "      <td>拯救侏罗纪</td>\n",
       "      <td>奇幻</td>\n",
       "      <td>9105</td>\n",
       "      <td>636</td>\n",
       "      <td>726</td>\n",
       "      <td>4</td>\n",
       "      <td>13话</td>\n",
       "      <td>2008年9月</td>\n",
       "      <td>NaN</td>\n",
       "      <td>黑魔王的元神从封印下逃脱，为了吸取足够的生命能源，黑魔王带领黑魔族小怪，来到地球上恐龙繁荣的...</td>\n",
       "      <td>国产</td>\n",
       "    </tr>\n",
       "    <tr>\n",
       "      <th>3202</th>\n",
       "      <td>抗日英雄杨来西</td>\n",
       "      <td>历史\\n原创</td>\n",
       "      <td>7万</td>\n",
       "      <td>613</td>\n",
       "      <td>8149</td>\n",
       "      <td>33</td>\n",
       "      <td>12话</td>\n",
       "      <td>2011年3月</td>\n",
       "      <td>NaN</td>\n",
       "      <td>《抗日英雄杨来西》讲述一个真实的故事，70年前，上海有一个战争孤儿，父母姐姐被日本鬼子杀死了...</td>\n",
       "      <td>国产</td>\n",
       "    </tr>\n",
       "    <tr>\n",
       "      <th>3203</th>\n",
       "      <td>Hello Kitty爱漫游</td>\n",
       "      <td>萌系</td>\n",
       "      <td>4948</td>\n",
       "      <td>526</td>\n",
       "      <td>79</td>\n",
       "      <td>3</td>\n",
       "      <td>52话</td>\n",
       "      <td>2008年1月</td>\n",
       "      <td>NaN</td>\n",
       "      <td>世界顶级卡通偶像Hello Kitty轻松愉快的冒险故事由香港三丽鸥搬上荧幕，本作是Hell...</td>\n",
       "      <td>国产</td>\n",
       "    </tr>\n",
       "    <tr>\n",
       "      <th>3204</th>\n",
       "      <td>环保特勤组</td>\n",
       "      <td>科幻\\n原创</td>\n",
       "      <td>1.5万</td>\n",
       "      <td>481</td>\n",
       "      <td>798</td>\n",
       "      <td>3</td>\n",
       "      <td>26话</td>\n",
       "      <td>2011年1月</td>\n",
       "      <td>NaN</td>\n",
       "      <td>《环保特勤组》是由幸星动画与世界第一超模——吉赛尔·邦辰（Gisele Bundchen）合...</td>\n",
       "      <td>国产</td>\n",
       "    </tr>\n",
       "  </tbody>\n",
       "</table>\n",
       "<p>3205 rows × 11 columns</p>\n",
       "</div>"
      ],
      "text/plain": [
       "                  标题                  标签      播放量    追番人数    弹幕总数   承包人数   集数  \\\n",
       "0      Re：从零开始的异世界生活          奇幻\\n战斗\\n励志     1.4亿    324万  677.4万     ?   25话   \n",
       "1             埃罗芒阿老师          搞笑\\n恋爱\\n轻改  5645.7万  294.7万  271.5万    NaN  12话   \n",
       "2         在下坂本，有何贵干？      日常\\n搞笑\\n校园\\n装逼  9511.1万  263.4万  514.4万    NaN  13话   \n",
       "3            小林家的龙女仆  百合\\n日常\\n搞笑\\n萌系\\n漫改  6624.1万    252万  155.2万     ?   13话   \n",
       "4     Fate/Apocrypha              热血\\n战斗    1758万  235.6万   49.7万  24353  NaN   \n",
       "...              ...                 ...      ...     ...     ...    ...  ...   \n",
       "3200      闯闯闯！我是闯堂兔！              搞笑\\n原创       3万     689     139     ?   20话   \n",
       "3201           拯救侏罗纪                  奇幻     9105     636     726      4  13话   \n",
       "3202         抗日英雄杨来西              历史\\n原创       7万     613    8149     33  12话   \n",
       "3203  Hello Kitty爱漫游                  萌系     4948     526      79      3  52话   \n",
       "3204           环保特勤组              科幻\\n原创     1.5万     481     798      3  26话   \n",
       "\n",
       "          开播时间                                                 声优  \\\n",
       "0      2016年4月      小林裕介\\n高桥李依\\n内山夕实\\n赤崎千夏\\n水濑祈\\n村川梨衣\\n新井里美\\n中村悠一   \n",
       "1      2017年4月                 松岡禎丞\\n藤田茜\\n高橋未奈美\\n大西沙織\\n木戸衣吹\\n石川由依   \n",
       "2      2016年4月  绿川光\\n森久保祥太郎\\n石田彰\\n堀江由衣\\n游佐浩二\\n鲸（松本和香子）\\n中原麻衣\\n...   \n",
       "3      2017年1月  田村睦心\\n桑原由気\\n長縄まりあ\\n高田憂希\\n高橋未奈美\\n小野大輔\\n中村悠一\\n加藤...   \n",
       "4      2017年7月  花江夏樹\\n坂本真綾\\n乃村健次\\n沢城みゆき\\n内山昂輝\\n真堂圭\\n早見沙織\\n遊佐浩二...   \n",
       "...        ...                                                ...   \n",
       "3200  2015年11月        毛毛糙糙又不失机灵\\n帅酷但是爱现\\n看似呆笨其实心细\\n少言却神奇\\n疯狂的捣蛋专家   \n",
       "3201   2008年9月                                                NaN   \n",
       "3202   2011年3月                                                NaN   \n",
       "3203   2008年1月                                                NaN   \n",
       "3204   2011年1月                                                NaN   \n",
       "\n",
       "                                                     简介  国家  \n",
       "0     在异世界陷入迷茫的普通高中生菜月昴，邂逅了一位银发的美少女。但想助她一臂之力的昴，却一次次地...  日本  \n",
       "1     高中生兼小说作家的“和泉正宗”（笔名：和泉征宗）有个家里蹲的妹妹“和泉纱雾”。一年前才成为家...  日本  \n",
       "2     于日本县立学文高中之中，有一名叫坂本的全能高中生，平常总是用著各种超乎常理的无厘头行为来完成...  日本  \n",
       "3     在单身的辛苦OL小林身边突然出现的女仆装束的美少女托尔。\\n长着角和尾巴的她的身姿正是所谓的...  日本  \n",
       "4     过去，在被称作冬木的城市曾举行过由七位魔术师与英灵参加的“圣杯战争”。然而趁着第二次世界大战...  日本  \n",
       "...                                                 ...  ..  \n",
       "3200  《闯闯闯！我是闯堂兔！》是一部爆笑三维动画系列片，全剧采用少量对白，使用滑稽动作和丰富的肢体...  国产  \n",
       "3201  黑魔王的元神从封印下逃脱，为了吸取足够的生命能源，黑魔王带领黑魔族小怪，来到地球上恐龙繁荣的...  国产  \n",
       "3202  《抗日英雄杨来西》讲述一个真实的故事，70年前，上海有一个战争孤儿，父母姐姐被日本鬼子杀死了...  国产  \n",
       "3203  世界顶级卡通偶像Hello Kitty轻松愉快的冒险故事由香港三丽鸥搬上荧幕，本作是Hell...  国产  \n",
       "3204  《环保特勤组》是由幸星动画与世界第一超模——吉赛尔·邦辰（Gisele Bundchen）合...  国产  \n",
       "\n",
       "[3205 rows x 11 columns]"
      ]
     },
     "execution_count": 117,
     "metadata": {},
     "output_type": "execute_result"
    }
   ],
   "source": [
    "comic"
   ]
  },
  {
   "attachments": {
    "image.png": {
     "image/png": "[encoded data removed]"
    }
   },
   "cell_type": "markdown",
   "id": "df2af81f",
   "metadata": {},
   "source": [
    "通过数据\n",
    "![image.png](attachment:image.png)\n",
    "我们可以发现这个csv文件中的数据一共有3205行和11列"
   ]
  },
  {
   "cell_type": "markdown",
   "id": "6e3d07ec",
   "metadata": {},
   "source": [
    "接着我们使用info()函数来查看信息"
   ]
  },
  {
   "cell_type": "code",
   "execution_count": 118,
   "id": "b13f8c6b",
   "metadata": {},
   "outputs": [
    {
     "name": "stdout",
     "output_type": "stream",
     "text": [
      "<class 'pandas.core.frame.DataFrame'>\n",
      "RangeIndex: 3205 entries, 0 to 3204\n",
      "Data columns (total 11 columns):\n",
      " #   Column  Non-Null Count  Dtype \n",
      "---  ------  --------------  ----- \n",
      " 0   标题      3205 non-null   object\n",
      " 1   标签      3025 non-null   object\n",
      " 2   播放量     3205 non-null   object\n",
      " 3   追番人数    3205 non-null   object\n",
      " 4   弹幕总数    3205 non-null   object\n",
      " 5   承包人数    3171 non-null   object\n",
      " 6   集数      3055 non-null   object\n",
      " 7   开播时间    3205 non-null   object\n",
      " 8   声优      2645 non-null   object\n",
      " 9   简介      3205 non-null   object\n",
      " 10  国家      3205 non-null   object\n",
      "dtypes: object(11)\n",
      "memory usage: 275.6+ KB\n"
     ]
    }
   ],
   "source": [
    "comic.info()"
   ]
  },
  {
   "cell_type": "markdown",
   "id": "3b401a86",
   "metadata": {},
   "source": [
    "我们可以发现一共有3205条目（entries），index从0到3204；一共有11列，index从1到11，分别对应的标题，以及这一列的non-null的值。\n",
    "\n",
    "不难发现大部分的值为3205，但是部分值低于了这个数字，比如说集数就是3055，这说明了部分数据是空数据，也就是数据缺失\n",
    "\n",
    "我们可以使用 isnull().mean() 来查看我们列方向上的空值的占比"
   ]
  },
  {
   "cell_type": "code",
   "execution_count": 119,
   "id": "28ca15d7",
   "metadata": {},
   "outputs": [
    {
     "data": {
      "text/plain": [
       "标题      0.000000\n",
       "标签      0.056162\n",
       "播放量     0.000000\n",
       "追番人数    0.000000\n",
       "弹幕总数    0.000000\n",
       "承包人数    0.010608\n",
       "集数      0.046802\n",
       "开播时间    0.000000\n",
       "声优      0.174727\n",
       "简介      0.000000\n",
       "国家      0.000000\n",
       "dtype: float64"
      ]
     },
     "execution_count": 119,
     "metadata": {},
     "output_type": "execute_result"
    }
   ],
   "source": [
    "comic.isnull().mean()"
   ]
  },
  {
   "cell_type": "markdown",
   "id": "44b01e90",
   "metadata": {},
   "source": [
    "当然，我们可以将其可视化\n",
    "\n",
    "但是因为汉字的问题，我们只能够看到口口"
   ]
  },
  {
   "cell_type": "code",
   "execution_count": 120,
   "id": "800bcb90",
   "metadata": {},
   "outputs": [
    {
     "data": {
      "text/plain": [
       "<AxesSubplot:>"
      ]
     },
     "execution_count": 120,
     "metadata": {},
     "output_type": "execute_result"
    },
    {
     "data": {
      "image/png": "[encoded data removed]",
      "text/plain": [
       "<Figure size 432x288 with 1 Axes>"
      ]
     },
     "metadata": {
      "needs_background": "light"
     },
     "output_type": "display_data"
    }
   ],
   "source": [
    "comic.isnull().mean().plot(kind=\"bar\")"
   ]
  },
  {
   "cell_type": "markdown",
   "id": "c675d462",
   "metadata": {},
   "source": [
    "我们来尝一下将汉字导入进来"
   ]
  },
  {
   "cell_type": "code",
   "execution_count": 121,
   "id": "efbac4ef",
   "metadata": {},
   "outputs": [
    {
     "data": {
      "text/plain": [
       "<AxesSubplot:>"
      ]
     },
     "execution_count": 121,
     "metadata": {},
     "output_type": "execute_result"
    },
    {
     "data": {
      "image/png": "[encoded data removed]",
      "text/plain": [
       "<Figure size 432x288 with 1 Axes>"
      ]
     },
     "metadata": {
      "needs_background": "light"
     },
     "output_type": "display_data"
    }
   ],
   "source": [
    "plt.rcParams[\"font.sans-serif\"] = \"SimHei\"\n",
    "comic.isnull().mean().plot(kind=\"bar\")"
   ]
  },
  {
   "cell_type": "markdown",
   "id": "2aae268e",
   "metadata": {},
   "source": [
    "可以发现缺失最高的是声优，缺失最少的是承包人数\n",
    "\n",
    "为了便于查看，我们还可以这么做："
   ]
  },
  {
   "cell_type": "code",
   "execution_count": 122,
   "id": "6731c777",
   "metadata": {},
   "outputs": [
    {
     "data": {
      "text/plain": [
       "<AxesSubplot:>"
      ]
     },
     "execution_count": 122,
     "metadata": {},
     "output_type": "execute_result"
    },
    {
     "data": {
      "image/png": "[encoded data removed]",
      "text/plain": [
       "<Figure size 432x288 with 1 Axes>"
      ]
     },
     "metadata": {},
     "output_type": "display_data"
    }
   ],
   "source": [
    "sns.set()\n",
    "plt.rcParams[\"font.sans-serif\"] = \"SimHei\"  # 需要在sns.set()之后运行\n",
    "comic.isnull().mean().plot(kind=\"bar\")"
   ]
  },
  {
   "cell_type": "markdown",
   "id": "df13527d",
   "metadata": {},
   "source": [
    "我们来查看一下B站的用户比较喜欢哪一类的动漫"
   ]
  },
  {
   "cell_type": "code",
   "execution_count": 123,
   "id": "8bc24c91",
   "metadata": {},
   "outputs": [],
   "source": [
    "comic[\"标签\"] = comic['标签'].fillna(value='未知')"
   ]
  },
  {
   "cell_type": "code",
   "execution_count": 124,
   "id": "e34dc4b9",
   "metadata": {},
   "outputs": [
    {
     "data": {
      "text/plain": [
       "标题      0.000000\n",
       "标签      0.000000\n",
       "播放量     0.000000\n",
       "追番人数    0.000000\n",
       "弹幕总数    0.000000\n",
       "承包人数    0.010608\n",
       "集数      0.046802\n",
       "开播时间    0.000000\n",
       "声优      0.174727\n",
       "简介      0.000000\n",
       "国家      0.000000\n",
       "dtype: float64"
      ]
     },
     "execution_count": 124,
     "metadata": {},
     "output_type": "execute_result"
    }
   ],
   "source": [
    "comic.isnull().mean()  # 如果求得的结果为0，则意味着这个方向上已经没有空值了"
   ]
  },
  {
   "cell_type": "code",
   "execution_count": 125,
   "id": "305737a6",
   "metadata": {},
   "outputs": [],
   "source": [
    "import re"
   ]
  },
  {
   "cell_type": "code",
   "execution_count": 126,
   "id": "545d2ff2",
   "metadata": {},
   "outputs": [],
   "source": [
    "def remove_space(x):\n",
    "    return re.sub(r'\\s+', '', x)"
   ]
  },
  {
   "cell_type": "code",
   "execution_count": 127,
   "id": "87817d4f",
   "metadata": {},
   "outputs": [
    {
     "data": {
      "text/plain": [
       "'奇幻战斗励志'"
      ]
     },
     "execution_count": 127,
     "metadata": {},
     "output_type": "execute_result"
    }
   ],
   "source": [
    "remove_space('奇幻\\n战斗\\n励志')   # 测试"
   ]
  },
  {
   "cell_type": "code",
   "execution_count": 128,
   "id": "15787950",
   "metadata": {},
   "outputs": [],
   "source": [
    "comic[\"标签\"] = comic['标签'].map(remove_space)"
   ]
  },
  {
   "cell_type": "code",
   "execution_count": 129,
   "id": "b22986c3",
   "metadata": {},
   "outputs": [
    {
     "data": {
      "text/plain": [
       "未知            180\n",
       "热血科幻          119\n",
       "科幻             86\n",
       "热血             65\n",
       "战斗             61\n",
       "             ... \n",
       "科幻战斗机战原创        1\n",
       "日常治愈萌系美食        1\n",
       "日常搞笑萌系声控职场      1\n",
       "热血奇幻基腐战斗        1\n",
       "热血科幻原创          1\n",
       "Name: 标签, Length: 1076, dtype: int64"
      ]
     },
     "execution_count": 129,
     "metadata": {},
     "output_type": "execute_result"
    }
   ],
   "source": [
    "comic[\"标签\"].value_counts()"
   ]
  },
  {
   "cell_type": "code",
   "execution_count": 130,
   "id": "062c864e",
   "metadata": {},
   "outputs": [
    {
     "data": {
      "text/plain": [
       "0          1.4亿\n",
       "1       5645.7万\n",
       "2       9511.1万\n",
       "3       6624.1万\n",
       "4         1758万\n",
       "         ...   \n",
       "3200         3万\n",
       "3201       9105\n",
       "3202         7万\n",
       "3203       4948\n",
       "3204       1.5万\n",
       "Name: 播放量, Length: 3205, dtype: object"
      ]
     },
     "execution_count": 130,
     "metadata": {},
     "output_type": "execute_result"
    }
   ],
   "source": [
    "comic[\"播放量\"]"
   ]
  },
  {
   "cell_type": "code",
   "execution_count": 131,
   "id": "e306aadf",
   "metadata": {},
   "outputs": [
    {
     "data": {
      "text/plain": [
       "-         218\n",
       "2.1万       22\n",
       "2.3万       22\n",
       "1.3万       21\n",
       "3.7万       19\n",
       "         ... \n",
       "583.9万      1\n",
       "402万        1\n",
       "142.2万      1\n",
       "92.2万       1\n",
       "4948        1\n",
       "Name: 播放量, Length: 1529, dtype: int64"
      ]
     },
     "execution_count": 131,
     "metadata": {},
     "output_type": "execute_result"
    }
   ],
   "source": [
    "comic[\"播放量\"].value_counts()"
   ]
  },
  {
   "cell_type": "code",
   "execution_count": 132,
   "id": "1d40d00a",
   "metadata": {},
   "outputs": [
    {
     "data": {
      "text/plain": [
       "False"
      ]
     },
     "execution_count": 132,
     "metadata": {},
     "output_type": "execute_result"
    }
   ],
   "source": [
    "comic['播放量'].isnull().any()  # 可以播放量这一块并没有任何的缺失"
   ]
  },
  {
   "cell_type": "code",
   "execution_count": 133,
   "id": "4c812b7b",
   "metadata": {},
   "outputs": [],
   "source": [
    "def transform_count(x):\n",
    "    if isinstance(x, str):\n",
    "        if x.endswith('亿'):\n",
    "            return float(x[:-1]) * 1e8\n",
    "        elif x.endswith('万'):\n",
    "            return float(x[:-1]) * 1e4\n",
    "        else:\n",
    "            return float(x)\n",
    "    else:\n",
    "        return float(x)"
   ]
  },
  {
   "cell_type": "code",
   "execution_count": 134,
   "id": "700de488",
   "metadata": {},
   "outputs": [
    {
     "data": {
      "text/plain": [
       "-         218\n",
       "2.1万       22\n",
       "2.3万       22\n",
       "1.3万       21\n",
       "3.7万       19\n",
       "         ... \n",
       "583.9万      1\n",
       "402万        1\n",
       "142.2万      1\n",
       "92.2万       1\n",
       "4948        1\n",
       "Name: 播放量, Length: 1529, dtype: int64"
      ]
     },
     "execution_count": 134,
     "metadata": {},
     "output_type": "execute_result"
    }
   ],
   "source": [
    "comic['播放量'].value_counts()"
   ]
  },
  {
   "cell_type": "markdown",
   "id": "ffea00db",
   "metadata": {},
   "source": [
    "可以发现value中是存在着-这种情况的"
   ]
  },
  {
   "cell_type": "code",
   "execution_count": 135,
   "id": "97ef4177",
   "metadata": {},
   "outputs": [],
   "source": [
    "comic['播放量'] = comic['播放量'].replace(to_replace='-', value = 0)"
   ]
  },
  {
   "cell_type": "code",
   "execution_count": 136,
   "id": "633df143",
   "metadata": {},
   "outputs": [],
   "source": [
    "comic['播放量'] = comic['播放量'].map(transform_count)  # 至此，我们完成了转换"
   ]
  },
  {
   "cell_type": "code",
   "execution_count": 137,
   "id": "be1f4b3e",
   "metadata": {},
   "outputs": [
    {
     "data": {
      "text/plain": [
       "标签\n",
       "乙女           924633.0\n",
       "偶像励志          56000.0\n",
       "偶像原创        3535000.0\n",
       "催泪           409000.0\n",
       "励志           201000.0\n",
       "              ...    \n",
       "音乐校园恋爱社团     193000.0\n",
       "音乐轻改萝莉      3335000.0\n",
       "魔法          3819000.0\n",
       "魔法原创          69000.0\n",
       "魔法原创神魔      3426000.0\n",
       "Name: 播放量, Length: 1076, dtype: float64"
      ]
     },
     "execution_count": 137,
     "metadata": {},
     "output_type": "execute_result"
    }
   ],
   "source": [
    "comic.groupby('标签')['播放量'].sum()  # 看到总和"
   ]
  },
  {
   "cell_type": "code",
   "execution_count": 138,
   "id": "56af70c6",
   "metadata": {},
   "outputs": [
    {
     "data": {
      "text/plain": [
       "<AxesSubplot:xlabel='标签'>"
      ]
     },
     "execution_count": 138,
     "metadata": {},
     "output_type": "execute_result"
    },
    {
     "data": {
      "image/png": "[encoded data removed]",
      "text/plain": [
       "<Figure size 432x288 with 1 Axes>"
      ]
     },
     "metadata": {},
     "output_type": "display_data"
    }
   ],
   "source": [
    "comic.groupby('标签')['播放量'].sum().sort_values(ascending=False)[:10].plot(kind='bar')"
   ]
  },
  {
   "cell_type": "markdown",
   "id": "04608ed0",
   "metadata": {},
   "source": [
    "可以发现观看人数最多的是 奇幻校园，奇幻提供了逻辑的合理性，校园则是贴合了观看人群的总体情况，基于此，更多的人喜欢的是热血奇幻战斗之类的"
   ]
  },
  {
   "cell_type": "markdown",
   "id": "87e70d75",
   "metadata": {},
   "source": []
  },
  {
   "cell_type": "markdown",
   "id": "8b7054c9",
   "metadata": {},
   "source": [
    "我们来看一下国家的情况"
   ]
  },
  {
   "cell_type": "code",
   "execution_count": 139,
   "id": "c523442a",
   "metadata": {},
   "outputs": [
    {
     "data": {
      "text/plain": [
       "<AxesSubplot:>"
      ]
     },
     "execution_count": 139,
     "metadata": {},
     "output_type": "execute_result"
    },
    {
     "data": {
      "image/png": "[encoded data removed]",
      "text/plain": [
       "<Figure size 432x288 with 1 Axes>"
      ]
     },
     "metadata": {},
     "output_type": "display_data"
    }
   ],
   "source": [
    "comic['国家'].value_counts().plot(kind='bar')"
   ]
  },
  {
   "cell_type": "code",
   "execution_count": 140,
   "id": "b230274e",
   "metadata": {},
   "outputs": [
    {
     "data": {
      "text/plain": [
       "<AxesSubplot:xlabel='国家'>"
      ]
     },
     "execution_count": 140,
     "metadata": {},
     "output_type": "execute_result"
    },
    {
     "data": {
      "image/png": "[encoded data removed]",
      "text/plain": [
       "<Figure size 432x288 with 1 Axes>"
      ]
     },
     "metadata": {},
     "output_type": "display_data"
    }
   ],
   "source": [
    "comic.groupby('国家')['播放量'].mean().plot(kind='bar')"
   ]
  }
 ],
 "metadata": {
  "kernelspec": {
   "display_name": "Python 3 (ipykernel)",
   "language": "python",
   "name": "python3"
  },
  "language_info": {
   "codemirror_mode": {
    "name": "ipython",
    "version": 3
   },
   "file_extension": ".py",
   "mimetype": "text/x-python",
   "name": "python",
   "nbconvert_exporter": "python",
   "pygments_lexer": "ipython3",
   "version": "3.7.9"
  }
 },
 "nbformat": 4,
 "nbformat_minor": 5
}
