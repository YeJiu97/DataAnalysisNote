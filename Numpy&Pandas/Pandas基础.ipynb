{
 "cells": [
  {
   "cell_type": "markdown",
   "id": "04fff7bc",
   "metadata": {},
   "source": [
    "# Pandas 数据结构\n",
    "\n",
    "numpy能够帮助我们处理数值型数据，但是我们还会有字符串，时间序列等类型的数据需要被处理，所以我们还需要使用pandas。\n",
    "\n",
    "pandas是一个Python Data Analysis Library（数据分析库），是基于numpy的一个开源的Python库，被广泛的用语数据分析，数据清洗等工作。"
   ]
  },
  {
   "cell_type": "code",
   "execution_count": 2,
   "id": "3305e14d",
   "metadata": {},
   "outputs": [],
   "source": [
    "# 导入Pandas\n",
    "import pandas as pd  # 为了方便，我们将pandas缩写成pd"
   ]
  },
  {
   "cell_type": "markdown",
   "id": "91e3c2a9",
   "metadata": {},
   "source": [
    "**Series**\n",
    "\n",
    "pandas series 类似表格种的一个 列 column\n",
    "\n",
    "语法为：\n",
    "```\n",
    "pd.Series(data, index, dtype, name, copy)\n",
    "```\n",
    "\n",
    "其中的参数是：\n",
    "1. data：一组数据，可以是字典，也可以是ndarray或者标量\n",
    "2. index：数据索引标签，如果不指定，默认从0开始\n",
    "3. dtype：数据类型，默认会自己判断\n",
    "4. name：设置名称\n",
    "5. copy：拷贝数据，默认为False"
   ]
  },
  {
   "cell_type": "code",
   "execution_count": 3,
   "id": "80174ce1",
   "metadata": {},
   "outputs": [
    {
     "name": "stdout",
     "output_type": "stream",
     "text": [
      "0    1\n",
      "1    2\n",
      "2    3\n",
      "3    4\n",
      "4    5\n",
      "dtype: int64\n"
     ]
    }
   ],
   "source": [
    "# 创建方法\n",
    "\n",
    "# 从列表创建\n",
    "\n",
    "s1 = pd.Series([1, 2, 3, 4, 5])\n",
    "print(s1)"
   ]
  },
  {
   "cell_type": "code",
   "execution_count": 4,
   "id": "e4a05f65",
   "metadata": {},
   "outputs": [
    {
     "name": "stdout",
     "output_type": "stream",
     "text": [
      "a    0\n",
      "b    1\n",
      "c    2\n",
      "d    3\n",
      "e    4\n",
      "dtype: int32\n"
     ]
    }
   ],
   "source": [
    "# 从ndarrday创建\n",
    "import numpy as np  # 同样，缩写\n",
    "\n",
    "s2 = pd.Series(np.arange(5), index=['a', 'b', 'c', 'd', 'e'])\n",
    "print(s2)"
   ]
  },
  {
   "cell_type": "code",
   "execution_count": 5,
   "id": "28dbbb34",
   "metadata": {},
   "outputs": [
    {
     "name": "stdout",
     "output_type": "stream",
     "text": [
      "name    zhangsan\n",
      "age           27\n",
      "tel        10087\n",
      "dtype: object\n"
     ]
    }
   ],
   "source": [
    "# 从字典创建\n",
    "\n",
    "temp_dict = {\"name\":\"zhangsan\", \"age\":27, \"tel\":10087}\n",
    "\n",
    "# 从字典数据直接传入data\n",
    "\n",
    "s3 = pd.Series(temp_dict)\n",
    "print(s3)"
   ]
  },
  {
   "cell_type": "code",
   "execution_count": 6,
   "id": "2804b056",
   "metadata": {},
   "outputs": [
    {
     "name": "stdout",
     "output_type": "stream",
     "text": [
      "a    1.0\n",
      "b    1.0\n",
      "c    1.0\n",
      "d    1.0\n",
      "e    1.0\n",
      "dtype: float64\n"
     ]
    }
   ],
   "source": [
    "# 从标量值进行构造\n",
    "\n",
    "s4 = pd.Series(1., index=list(\"abcde\"))\n",
    "print(s4)"
   ]
  },
  {
   "cell_type": "code",
   "execution_count": 7,
   "id": "f3f6596d",
   "metadata": {},
   "outputs": [
    {
     "name": "stdout",
     "output_type": "stream",
     "text": [
      "a    0\n",
      "b    1\n",
      "c    2\n",
      "d    3\n",
      "Name: python, dtype: int32\n"
     ]
    }
   ],
   "source": [
    "# 我们可以将其写成函数\n",
    "\n",
    "# coding: utf-8\n",
    "def create_series() -> pd.core.series.Series:\n",
    "    \"\"\"\n",
    "    :return: return a Series, def create_series() -> Series:\n",
    "    \"\"\"\n",
    "\n",
    "    s = pd.Series(np.arange(4), index=list(\"abcd\"), name=\"python\")\n",
    "    \n",
    "    return s\n",
    "\n",
    "series = create_series()\n",
    "print(series)"
   ]
  },
  {
   "cell_type": "code",
   "execution_count": 8,
   "id": "a5b13746",
   "metadata": {},
   "outputs": [
    {
     "name": "stdout",
     "output_type": "stream",
     "text": [
      "0\n"
     ]
    }
   ],
   "source": [
    "# 切边与索引，使用s2\n",
    "\n",
    "print(s2[0])"
   ]
  },
  {
   "cell_type": "code",
   "execution_count": 9,
   "id": "a91ab639",
   "metadata": {},
   "outputs": [
    {
     "name": "stdout",
     "output_type": "stream",
     "text": [
      "a    0\n",
      "b    1\n",
      "c    2\n",
      "dtype: int32\n"
     ]
    }
   ],
   "source": [
    "print(s2[:3])"
   ]
  },
  {
   "cell_type": "code",
   "execution_count": 10,
   "id": "718976f3",
   "metadata": {},
   "outputs": [
    {
     "name": "stdout",
     "output_type": "stream",
     "text": [
      "b    1\n",
      "a    0\n",
      "c    2\n",
      "dtype: int32\n"
     ]
    }
   ],
   "source": [
    "print(s2[[1, 0, 2]])"
   ]
  },
  {
   "cell_type": "code",
   "execution_count": 11,
   "id": "848e1856",
   "metadata": {},
   "outputs": [
    {
     "name": "stdout",
     "output_type": "stream",
     "text": [
      "d    3\n",
      "e    4\n",
      "dtype: int32\n"
     ]
    }
   ],
   "source": [
    "print(s2[s2>2])  # 将s2种所有大于2的数字打印出来"
   ]
  },
  {
   "cell_type": "code",
   "execution_count": 12,
   "id": "aff26824",
   "metadata": {},
   "outputs": [
    {
     "name": "stdout",
     "output_type": "stream",
     "text": [
      "0\n"
     ]
    }
   ],
   "source": [
    "print(s2[\"a\"])  # 像使用字典一样进行使用"
   ]
  },
  {
   "cell_type": "markdown",
   "id": "30e61f59",
   "metadata": {},
   "source": [
    "**Series 与 Python 的 Dict 类型对比**\n",
    "\n",
    "二者都存在映射关系，字典是一种将任意键映射到一组任意值的数据结构，而 Series 对象其实是一种将类型键映射到一组类型值的数据结构，类型至关重要。\n",
    "\n",
    "就像 Numpy 数组背后特定类型的经过编译的代码使得它在某些操作上比普通的 Python 列表更加高效一样，Pandas Serise 的类型信息适得它在某些操作上比 Python 的字典更高效。另外，和字典不同，Series 对象还支持数组形式的操作，比如切片。"
   ]
  },
  {
   "cell_type": "code",
   "execution_count": 13,
   "id": "fc470323",
   "metadata": {},
   "outputs": [
    {
     "name": "stdout",
     "output_type": "stream",
     "text": [
      "a    0\n",
      "b    2\n",
      "c    4\n",
      "d    6\n",
      "e    8\n",
      "dtype: int32\n"
     ]
    }
   ],
   "source": [
    "# 使用numpy进行运算\n",
    "\n",
    "# 向量化操作 - 对应位置相加\n",
    "result1 = s2 + s2\n",
    "print(result1)"
   ]
  },
  {
   "cell_type": "code",
   "execution_count": 14,
   "id": "db589797",
   "metadata": {},
   "outputs": [
    {
     "name": "stdout",
     "output_type": "stream",
     "text": [
      "a     0\n",
      "b     1\n",
      "c     4\n",
      "d     9\n",
      "e    16\n",
      "dtype: int32\n"
     ]
    }
   ],
   "source": [
    "# 想量化操作 - 对应位置相乘\n",
    "result2 = s2 * s2\n",
    "print(result2)"
   ]
  },
  {
   "cell_type": "code",
   "execution_count": 15,
   "id": "659ce802",
   "metadata": {},
   "outputs": [
    {
     "name": "stdout",
     "output_type": "stream",
     "text": [
      "a    2\n",
      "b    3\n",
      "c    4\n",
      "d    5\n",
      "e    6\n",
      "dtype: int32\n"
     ]
    }
   ],
   "source": [
    "# 每个位置加2\n",
    "result3 = s2 + 2\n",
    "print(result3)"
   ]
  },
  {
   "cell_type": "code",
   "execution_count": 16,
   "id": "7203412c",
   "metadata": {},
   "outputs": [
    {
     "name": "stdout",
     "output_type": "stream",
     "text": [
      "b    1\n",
      "c    2\n",
      "d    3\n",
      "e    4\n",
      "dtype: int32\n"
     ]
    }
   ],
   "source": [
    "# 自动对齐\n",
    "# Series 的操作默认是使用 index 的值进行对齐的,而不是相对位置\n",
    "\n",
    "print(s2[1:])"
   ]
  },
  {
   "cell_type": "code",
   "execution_count": 17,
   "id": "c7c15edb",
   "metadata": {},
   "outputs": [
    {
     "name": "stdout",
     "output_type": "stream",
     "text": [
      "a    0\n",
      "b    1\n",
      "c    2\n",
      "d    3\n",
      "dtype: int32\n"
     ]
    }
   ],
   "source": [
    "print(s2[:-1])"
   ]
  },
  {
   "cell_type": "code",
   "execution_count": 18,
   "id": "70b588e8",
   "metadata": {},
   "outputs": [
    {
     "name": "stdout",
     "output_type": "stream",
     "text": [
      "a    NaN\n",
      "b    2.0\n",
      "c    4.0\n",
      "d    6.0\n",
      "e    NaN\n",
      "dtype: float64\n"
     ]
    }
   ],
   "source": [
    "# 我们接着将这两个进行相加\n",
    "print(s2[1:]+s2[:-1])"
   ]
  },
  {
   "cell_type": "markdown",
   "id": "9ad10f15",
   "metadata": {},
   "source": [
    "对于 s2[1:] 而言，缺失了a的值；对于 s2[:-1] 而言，缺失了e的值。\n",
    "\n",
    "进行相加的时候，因为分别缺失了这两个位置的值，所以采用的是将其标注为NaN的方法，也就是将不能够对齐的数据当作是缺失值来进行处理。"
   ]
  },
  {
   "cell_type": "markdown",
   "id": "07e78163",
   "metadata": {},
   "source": [
    "**series关于缺失值的检测**\n",
    "\n",
    "Series.isna()可以用来检测缺失值，语法为：\n",
    "```\n",
    "Series.isna()\n",
    "```\n",
    "\n",
    "Series.fillna()可以用来填充缺失值，语法为：\n",
    "```\n",
    "Series.fillna(value=None, method=None, axix=None, inplace=False, limit=None, downcast=None)\n",
    "```\n",
    "其中的参数是：\n",
    "1. values：dect，Series或者DataFrame（填充nan的值，不能够是list）\n",
    "2. method：{‘backfill’, ‘bfill’, ‘pad’, ‘ffill’, None}, default None (填充方法，用前/后面的值进行填充)。\n",
    "3. axis： {0 or ‘index’} (前后或上下填充)\n",
    "4. limit： nt, default None (连续填充的值的数量)\n",
    "\n",
    "Series.dropna()用来删除缺失值，语法为：\n",
    "```\n",
    "Series.dropna(axis=0, inplace=False, how=None)\n",
    "```\n",
    "其中的参数是：\n",
    "1. axis：默认为0，表示逢空值剔除整行，如果设置参数 axis＝1 表示逢空值去掉整列。\n",
    "2. inplace： 如果设置 True，将计算得到的值直接覆盖之前的值并返回 None，修改的是源数据。\n",
    "3. how： 默认为 any 如果一行（或一列）里任何一个数据有出现 NA 就去掉整行，如果设置 how='all' 一行（或列）都是 NA 才去掉这整行。"
   ]
  },
  {
   "cell_type": "code",
   "execution_count": 19,
   "id": "05fcddc2",
   "metadata": {},
   "outputs": [
    {
     "name": "stdout",
     "output_type": "stream",
     "text": [
      "0    False\n",
      "1    False\n",
      "2     True\n",
      "3    False\n",
      "4     True\n",
      "dtype: bool\n"
     ]
    }
   ],
   "source": [
    "# 首先创建一个带缺失值的Series\n",
    "s = pd.Series([1, 2, None, 4, None])\n",
    "\n",
    "#检测是否存在着缺失值\n",
    "print(s.isna())"
   ]
  },
  {
   "cell_type": "code",
   "execution_count": 20,
   "id": "bfc0bd70",
   "metadata": {},
   "outputs": [
    {
     "name": "stdout",
     "output_type": "stream",
     "text": [
      "0    1.0\n",
      "1    2.0\n",
      "2    0.0\n",
      "3    4.0\n",
      "4    0.0\n",
      "dtype: float64\n"
     ]
    }
   ],
   "source": [
    "# 填充缺失值\n",
    "print(s.fillna(0.))"
   ]
  },
  {
   "cell_type": "code",
   "execution_count": 21,
   "id": "f836ea49",
   "metadata": {},
   "outputs": [
    {
     "name": "stdout",
     "output_type": "stream",
     "text": [
      "something\n"
     ]
    }
   ],
   "source": [
    "# 我们可以在定义时指定name属性\n",
    "\n",
    "s = pd.Series(np.arange(5), name = \"something\")\n",
    "print(s.name)"
   ]
  },
  {
   "cell_type": "code",
   "execution_count": 22,
   "id": "34dd7365",
   "metadata": {},
   "outputs": [
    {
     "name": "stdout",
     "output_type": "stream",
     "text": [
      "Index(['a', 'b', 'c', 'd', 'e'], dtype='object')\n"
     ]
    }
   ],
   "source": [
    "# 通过 index 和 values 来查看Series的内容\n",
    "s = pd.Series(np.arange(5), index = list(\"abcde\"))\n",
    "\n",
    "# 通过index来查看索引\n",
    "print(s.index)"
   ]
  },
  {
   "cell_type": "code",
   "execution_count": 23,
   "id": "842c1432",
   "metadata": {},
   "outputs": [
    {
     "name": "stdout",
     "output_type": "stream",
     "text": [
      "[0 1 2 3 4]\n"
     ]
    }
   ],
   "source": [
    "# 通过values来查看值\n",
    "\n",
    "print(s.values)"
   ]
  },
  {
   "cell_type": "markdown",
   "id": "958192ce",
   "metadata": {},
   "source": [
    "**DataFrame**\n",
    "\n",
    "DataFrame是pandas种的二维数据结构，可以看成一个Excel中的工作表，亦或者是SQL表，或者是存储了Series对象的字典，并且它含有一组有序的列，每列可以是不同的值类型。\n",
    "\n",
    "DataFrame既有行索引也有列索引，它可以被看作由 Series 组成的字典（共同用一个索引），其中的index用于指定行的label，columns用于指定列的label，如果参数不传入，那么会按照传入的内容进行设定。\n",
    "\n",
    "DataFrame 是一个二维的 ndarray，构造的方法如下所示：\n",
    "\n",
    "```\n",
    "pandas.DataFrame(data, index, columns, dtype, copy)\n",
    "```\n",
    "\n",
    "参数如下所示：\n",
    "1. data：一组数据，比如：ndarray，series，map或者lists等\n",
    "2. index：索引值，或者可以成为行标签\n",
    "3. columns：列标签，默认为RangeIndex（0,1,2，...，n）\n",
    "4. dtype：数据类型\n",
    "5. copy：拷贝数据，默认为False"
   ]
  },
  {
   "cell_type": "code",
   "execution_count": 24,
   "id": "60c962be",
   "metadata": {},
   "outputs": [
    {
     "name": "stdout",
     "output_type": "stream",
     "text": [
      "   0\n",
      "0  1\n",
      "1  2\n",
      "2  3\n",
      "3  4\n",
      "4  5\n"
     ]
    }
   ],
   "source": [
    "# 使用单个列表创建\n",
    "\n",
    "data = [1, 2, 3, 4, 5]\n",
    "df = pd.DataFrame(data)\n",
    "\n",
    "print(df)"
   ]
  },
  {
   "cell_type": "code",
   "execution_count": 25,
   "id": "2eeff9a0",
   "metadata": {},
   "outputs": [
    {
     "name": "stdout",
     "output_type": "stream",
     "text": [
      "        Name  Age\n",
      "0   xiaoming   10\n",
      "1   xiaohong   11\n",
      "2  xiaozhang   12\n"
     ]
    }
   ],
   "source": [
    "# 使用嵌套列表创建并指定列索引\n",
    "\n",
    "data = [[\"xiaoming\", 10], [\"xiaohong\", 11], [\"xiaozhang\", 12]]\n",
    "df = pd.DataFrame(data, columns=[\"Name\", \"Age\"])\n",
    "\n",
    "print(df)"
   ]
  },
  {
   "cell_type": "code",
   "execution_count": 26,
   "id": "48f131ea",
   "metadata": {},
   "outputs": [
    {
     "name": "stdout",
     "output_type": "stream",
     "text": [
      "       Name  Age\n",
      "0  xiaoming   10\n",
      "1  zhangsan   11\n",
      "2      lisi   12\n"
     ]
    }
   ],
   "source": [
    "# 从字典创建\n",
    "\n",
    "# 使用数组创建\n",
    "data = {\"Name\":[\"xiaoming\", \"zhangsan\", \"lisi\"], \"Age\":[10, 11, 12]}\n",
    "df = pd.DataFrame(data)\n",
    "\n",
    "print(df)"
   ]
  },
  {
   "cell_type": "code",
   "execution_count": 27,
   "id": "2382b51f",
   "metadata": {},
   "outputs": [
    {
     "name": "stdout",
     "output_type": "stream",
     "text": [
      "        a  b    c\n",
      "first   1  2  NaN\n",
      "second  5  6  7.0\n"
     ]
    }
   ],
   "source": [
    "# 从字典列表创建\n",
    "\n",
    "data = [{'a':1, 'b':2}, {'a':5, 'b':6, 'c':7}]\n",
    "df = pd.DataFrame(data, index=[\"first\", \"second\"]) # 指定行索引\n",
    "\n",
    "print(df)  # 如果有缺失，则自动填充为NaN值"
   ]
  },
  {
   "cell_type": "markdown",
   "id": "af966e3a",
   "metadata": {},
   "source": [
    "## 基本属性与整体情况查询\n",
    "\n",
    "DataFrame的基础属性有：\n",
    "1. df.shape：形状，行数列数\n",
    "2. df.dtypes：列数据类型\n",
    "3. df.ndim：数据维度\n",
    "4. df.index：行索引\n",
    "5. df.columns：列索引\n",
    "6. df.values：对象值，二维ndarray数组\n",
    "\n",
    "DataFrame的整体情况查询：\n",
    "1. df.head()：显示头部几行\n",
    "2. df.tail()：显示尾部几行\n",
    "3. df.info()：显示相关信息，比如说行数，列数，列索引，列非空值个数，列类型，内存占用\n",
    "4. df.describe()：快速总和统计结果，计数，均值，标准差，最大值，四分位数，最小值。"
   ]
  },
  {
   "cell_type": "code",
   "execution_count": 28,
   "id": "08378059",
   "metadata": {},
   "outputs": [
    {
     "name": "stdout",
     "output_type": "stream",
     "text": [
      "          A         B         C         D\n",
      "0 -1.593162 -0.183747 -0.256429 -0.718094\n",
      "1  0.743444  0.742997 -1.428645 -1.785965\n",
      "2  0.255944 -0.888109  1.552158 -0.676974\n",
      "3  1.251777  2.095795 -0.260908  0.261940\n",
      "4  0.774631 -1.331098  0.170060  0.806067\n",
      "5  0.102216  0.281761  0.804488 -0.571827\n"
     ]
    }
   ],
   "source": [
    "# 我们构建一个DataFrame结构\n",
    "\n",
    "df = pd.DataFrame(np.random.randn(6,4), columns=list(\"ABCD\"))  # 所以生成\n",
    "print(df)"
   ]
  },
  {
   "cell_type": "code",
   "execution_count": 29,
   "id": "f61af2fc",
   "metadata": {},
   "outputs": [
    {
     "name": "stdout",
     "output_type": "stream",
     "text": [
      "     A          B   C:  D      E    F\n",
      "0  1.0 2013-01-02  1.0  3   test  foo\n",
      "1  1.0 2013-01-02  1.0  3  train  foo\n",
      "2  1.0 2013-01-02  1.0  3   test  foo\n",
      "3  1.0 2013-01-02  1.0  3  train  foo\n"
     ]
    }
   ],
   "source": [
    "# 或者我们也可以向DataFrame进行字典传入数据\n",
    "\n",
    "df2 = pd.DataFrame({'A':1.,\n",
    "                  'B':pd.Timestamp('20130102'),\n",
    "                  'C:':pd.Series(1, index=list(range(4)), dtype=\"float32\"),\n",
    "                   'D':np.array([3]*4, dtype=\"int32\"),\n",
    "                   'E':pd.Categorical([\"test\", \"train\", \"test\", \"train\"]),\n",
    "                   'F':'foo'})\n",
    "\n",
    "print(df2)"
   ]
  },
  {
   "cell_type": "markdown",
   "id": "6c091f5a",
   "metadata": {},
   "source": [
    "字典的每个key代表一列，其中value可以是各种能够转换为Series的对象。\n",
    "\n",
    "series要求所有的类型都一致，而DataFrame值要求每一列数据的格式相同。"
   ]
  },
  {
   "cell_type": "code",
   "execution_count": 30,
   "id": "deaaadf4",
   "metadata": {},
   "outputs": [
    {
     "name": "stdout",
     "output_type": "stream",
     "text": [
      "A            float64\n",
      "B     datetime64[ns]\n",
      "C:           float32\n",
      "D              int32\n",
      "E           category\n",
      "F             object\n",
      "dtype: object\n"
     ]
    }
   ],
   "source": [
    "# 我们来查看一下数据\n",
    "print(df2.dtypes)"
   ]
  },
  {
   "cell_type": "code",
   "execution_count": 31,
   "id": "ccc6ff1c",
   "metadata": {},
   "outputs": [
    {
     "name": "stdout",
     "output_type": "stream",
     "text": [
      "(4, 6)\n"
     ]
    }
   ],
   "source": [
    "print(df2.shape)"
   ]
  },
  {
   "cell_type": "code",
   "execution_count": 32,
   "id": "7e777c6a",
   "metadata": {},
   "outputs": [
    {
     "name": "stdout",
     "output_type": "stream",
     "text": [
      "2\n"
     ]
    }
   ],
   "source": [
    "print(df2.ndim)"
   ]
  },
  {
   "cell_type": "code",
   "execution_count": 33,
   "id": "29f46f40",
   "metadata": {},
   "outputs": [
    {
     "name": "stdout",
     "output_type": "stream",
     "text": [
      "          A         B         C         D\n",
      "0 -1.593162 -0.183747 -0.256429 -0.718094\n",
      "1  0.743444  0.742997 -1.428645 -1.785965\n",
      "2  0.255944 -0.888109  1.552158 -0.676974\n"
     ]
    }
   ],
   "source": [
    "# 头尾数据\n",
    "\n",
    "print(df.head(3))  # 查看头三行的数据"
   ]
  },
  {
   "cell_type": "code",
   "execution_count": 34,
   "id": "38232c12",
   "metadata": {},
   "outputs": [
    {
     "name": "stdout",
     "output_type": "stream",
     "text": [
      "          A         B         C         D\n",
      "3  1.251777  2.095795 -0.260908  0.261940\n",
      "4  0.774631 -1.331098  0.170060  0.806067\n",
      "5  0.102216  0.281761  0.804488 -0.571827\n"
     ]
    }
   ],
   "source": [
    "print(df.tail(3))  # 查看尾部三行的数据"
   ]
  },
  {
   "cell_type": "code",
   "execution_count": 35,
   "id": "fa281080",
   "metadata": {},
   "outputs": [
    {
     "name": "stdout",
     "output_type": "stream",
     "text": [
      "RangeIndex(start=0, stop=6, step=1)\n"
     ]
    }
   ],
   "source": [
    "# 使用index查看行索引\n",
    "print(df.index)"
   ]
  },
  {
   "cell_type": "code",
   "execution_count": 36,
   "id": "c8878e39",
   "metadata": {},
   "outputs": [
    {
     "name": "stdout",
     "output_type": "stream",
     "text": [
      "Index(['A', 'B', 'C', 'D'], dtype='object')\n"
     ]
    }
   ],
   "source": [
    "# 使用columns查看列索引\n",
    "print(df.columns)"
   ]
  },
  {
   "cell_type": "code",
   "execution_count": 37,
   "id": "cd40f610",
   "metadata": {},
   "outputs": [
    {
     "name": "stdout",
     "output_type": "stream",
     "text": [
      "[[-1.59316207 -0.18374661 -0.25642935 -0.71809394]\n",
      " [ 0.74344351  0.7429974  -1.42864489 -1.78596498]\n",
      " [ 0.25594383 -0.88810928  1.55215826 -0.67697367]\n",
      " [ 1.25177673  2.09579466 -0.26090801  0.26193986]\n",
      " [ 0.77463057 -1.33109809  0.17006023  0.8060673 ]\n",
      " [ 0.10221606  0.2817609   0.80448756 -0.57182743]]\n"
     ]
    }
   ],
   "source": [
    "# 使用values查看数据\n",
    "print(df.values)"
   ]
  },
  {
   "cell_type": "code",
   "execution_count": 38,
   "id": "742586bf",
   "metadata": {},
   "outputs": [
    {
     "name": "stdout",
     "output_type": "stream",
     "text": [
      "<class 'pandas.core.frame.DataFrame'>\n",
      "Int64Index: 4 entries, 0 to 3\n",
      "Data columns (total 6 columns):\n",
      " #   Column  Non-Null Count  Dtype         \n",
      "---  ------  --------------  -----         \n",
      " 0   A       4 non-null      float64       \n",
      " 1   B       4 non-null      datetime64[ns]\n",
      " 2   C:      4 non-null      float32       \n",
      " 3   D       4 non-null      int32         \n",
      " 4   E       4 non-null      category      \n",
      " 5   F       4 non-null      object        \n",
      "dtypes: category(1), datetime64[ns](1), float32(1), float64(1), int32(1), object(1)\n",
      "memory usage: 288.0+ bytes\n",
      "None\n"
     ]
    }
   ],
   "source": [
    "# 使用info查看df2的基本信息\n",
    "print(df2.info())"
   ]
  },
  {
   "cell_type": "code",
   "execution_count": 39,
   "id": "d29ac55d",
   "metadata": {},
   "outputs": [
    {
     "name": "stdout",
     "output_type": "stream",
     "text": [
      "          A         B         C         D\n",
      "0 -1.593162 -0.183747 -0.256429 -0.718094\n",
      "1  0.743444  0.742997 -1.428645 -1.785965\n",
      "2  0.255944 -0.888109  1.552158 -0.676974\n",
      "3  1.251777  2.095795 -0.260908  0.261940\n",
      "4  0.774631 -1.331098  0.170060  0.806067\n",
      "5  0.102216  0.281761  0.804488 -0.571827\n"
     ]
    }
   ],
   "source": [
    "print(df)"
   ]
  },
  {
   "cell_type": "code",
   "execution_count": 40,
   "id": "84bd3710",
   "metadata": {},
   "outputs": [
    {
     "name": "stdout",
     "output_type": "stream",
     "text": [
      "              A         B         C         D\n",
      "count  6.000000  6.000000  6.000000  6.000000\n",
      "mean   0.255808  0.119600  0.096787 -0.447475\n",
      "std    0.994103  1.227378  1.020193  0.895272\n",
      "min   -1.593162 -1.331098 -1.428645 -1.785965\n",
      "25%    0.140648 -0.712019 -0.259788 -0.707814\n",
      "50%    0.499694  0.049007 -0.043185 -0.624401\n",
      "75%    0.766834  0.627688  0.645881  0.053498\n",
      "max    1.251777  2.095795  1.552158  0.806067\n"
     ]
    }
   ],
   "source": [
    "# 使用 describe查看统计结果\n",
    "print(df.describe())"
   ]
  },
  {
   "cell_type": "code",
   "execution_count": 41,
   "id": "7710bedb",
   "metadata": {},
   "outputs": [
    {
     "name": "stdout",
     "output_type": "stream",
     "text": [
      "          0         1         2         3         4         5\n",
      "A -1.593162  0.743444  0.255944  1.251777  0.774631  0.102216\n",
      "B -0.183747  0.742997 -0.888109  2.095795 -1.331098  0.281761\n",
      "C -0.256429 -1.428645  1.552158 -0.260908  0.170060  0.804488\n",
      "D -0.718094 -1.785965 -0.676974  0.261940  0.806067 -0.571827\n"
     ]
    }
   ],
   "source": [
    "# 可以使用 .T 来转置df\n",
    "print(df.T)"
   ]
  },
  {
   "cell_type": "markdown",
   "id": "e241c714",
   "metadata": {},
   "source": [
    "## 索引\n",
    "\n",
    "虽然DataFrame 支持 ndarray 的索引语法，但是推荐使用 .loc，.iloc 方法来进行索引"
   ]
  },
  {
   "cell_type": "code",
   "execution_count": 42,
   "id": "b02ae74e",
   "metadata": {},
   "outputs": [
    {
     "name": "stdout",
     "output_type": "stream",
     "text": [
      "          A         B         C         D\n",
      "a -0.209089  1.460903 -0.774186  1.071432\n",
      "b  0.180691 -1.298926  0.032505 -1.877595\n",
      "c  1.480017 -0.529967 -0.496745 -0.881392\n",
      "d  0.364233 -0.918856  1.318477  1.350162\n",
      "e -1.175525  0.050099  0.358032 -1.476623\n",
      "f -1.088668  2.668866 -0.862178 -1.233069\n"
     ]
    }
   ],
   "source": [
    "# 我们创建一个6行3列的正太分布结构\n",
    "\n",
    "df = pd.DataFrame(np.random.randn(6,4), index=list(\"abcdef\"), columns=list(\"ABCD\"))\n",
    "print(df)"
   ]
  },
  {
   "cell_type": "code",
   "execution_count": 43,
   "id": "2707278f",
   "metadata": {},
   "outputs": [
    {
     "name": "stdout",
     "output_type": "stream",
     "text": [
      "   W  X   Y   Z\n",
      "a  0  1   2   3\n",
      "b  4  5   6   7\n",
      "c  8  9  10  11\n"
     ]
    }
   ],
   "source": [
    "# 接着我们来创建一个3行4列的结构\n",
    "\n",
    "df2 = pd.DataFrame(np.arange(12).reshape(3, 4), index=list('abc'), columns=list(\"WXYZ\"))\n",
    "print(df2)"
   ]
  },
  {
   "cell_type": "code",
   "execution_count": 44,
   "id": "c6c9c6d8",
   "metadata": {},
   "outputs": [
    {
     "name": "stdout",
     "output_type": "stream",
     "text": [
      "a   -0.209089\n",
      "b    0.180691\n",
      "c    1.480017\n",
      "d    0.364233\n",
      "e   -1.175525\n",
      "f   -1.088668\n",
      "Name: A, dtype: float64\n"
     ]
    }
   ],
   "source": [
    "# 读取单列\n",
    "print(df[\"A\"])"
   ]
  },
  {
   "cell_type": "code",
   "execution_count": 45,
   "id": "6fdb23d6",
   "metadata": {},
   "outputs": [
    {
     "name": "stdout",
     "output_type": "stream",
     "text": [
      "          A         C\n",
      "a -0.209089 -0.774186\n",
      "b  0.180691  0.032505\n",
      "c  1.480017 -0.496745\n",
      "d  0.364233  1.318477\n",
      "e -1.175525  0.358032\n",
      "f -1.088668 -0.862178\n"
     ]
    }
   ],
   "source": [
    "print(df[[\"A\", \"C\"]])"
   ]
  },
  {
   "cell_type": "code",
   "execution_count": 46,
   "id": "c497e737",
   "metadata": {},
   "outputs": [
    {
     "name": "stdout",
     "output_type": "stream",
     "text": [
      "a   -0.209089\n",
      "b    0.180691\n",
      "c    1.480017\n",
      "d    0.364233\n",
      "e   -1.175525\n",
      "f   -1.088668\n",
      "Name: A, dtype: float64\n"
     ]
    }
   ],
   "source": [
    "# 或者我们可以使用 df.A 来读取列\n",
    "print(df.A)"
   ]
  },
  {
   "cell_type": "code",
   "execution_count": 47,
   "id": "703c5506",
   "metadata": {},
   "outputs": [
    {
     "name": "stdout",
     "output_type": "stream",
     "text": [
      "          A         B         C         D\n",
      "a -0.209089  1.460903 -0.774186  1.071432\n",
      "b  0.180691 -1.298926  0.032505 -1.877595\n",
      "c  1.480017 -0.529967 -0.496745 -0.881392\n"
     ]
    }
   ],
   "source": [
    "# 行索引读取行\n",
    "# 使用切片读取多行\n",
    "print(df[0:3])"
   ]
  },
  {
   "cell_type": "code",
   "execution_count": 48,
   "id": "ea0733ef",
   "metadata": {},
   "outputs": [
    {
     "name": "stdout",
     "output_type": "stream",
     "text": [
      "          A         B         C         D\n",
      "a -0.209089  1.460903 -0.774186  1.071432\n",
      "b  0.180691 -1.298926  0.032505 -1.877595\n",
      "c  1.480017 -0.529967 -0.496745 -0.881392\n"
     ]
    }
   ],
   "source": [
    "# 行索引读取\n",
    "print(df[\"a\":\"c\"])"
   ]
  },
  {
   "cell_type": "code",
   "execution_count": 49,
   "id": "fe06e77a",
   "metadata": {},
   "outputs": [
    {
     "name": "stdout",
     "output_type": "stream",
     "text": [
      "          A         D\n",
      "a -0.209089  1.071432\n",
      "b  0.180691 -1.877595\n",
      "c  1.480017 -0.881392\n"
     ]
    }
   ],
   "source": [
    "# 读取多行多列\n",
    "print(df[\"a\":\"c\"][[\"A\",\"D\"]])"
   ]
  },
  {
   "cell_type": "code",
   "execution_count": 50,
   "id": "8b761b12",
   "metadata": {},
   "outputs": [
    {
     "name": "stdout",
     "output_type": "stream",
     "text": [
      "W    0\n",
      "X    1\n",
      "Y    2\n",
      "Z    3\n",
      "Name: a, dtype: int32\n"
     ]
    }
   ],
   "source": [
    "# 使用 .loc\n",
    "print(df2.loc['a'])"
   ]
  },
  {
   "cell_type": "code",
   "execution_count": 51,
   "id": "be7281f4",
   "metadata": {},
   "outputs": [
    {
     "name": "stdout",
     "output_type": "stream",
     "text": [
      "   W  X   Y   Z\n",
      "a  0  1   2   3\n",
      "c  8  9  10  11\n"
     ]
    }
   ],
   "source": [
    "# 查询多行\n",
    "print(df2.loc[[\"a\", \"c\"]])"
   ]
  },
  {
   "cell_type": "code",
   "execution_count": 52,
   "id": "f37c0cbb",
   "metadata": {},
   "outputs": [
    {
     "name": "stdout",
     "output_type": "stream",
     "text": [
      "   W  Y\n",
      "a  0  2\n",
      "b  4  6\n"
     ]
    }
   ],
   "source": [
    "# 连续切片\n",
    "print(df2.loc[['a', 'b'], [\"W\", \"Y\"]])"
   ]
  },
  {
   "cell_type": "code",
   "execution_count": 53,
   "id": "0ecb8a3a",
   "metadata": {},
   "outputs": [
    {
     "name": "stdout",
     "output_type": "stream",
     "text": [
      "   W  Y\n",
      "a  0  2\n",
      "b  4  6\n"
     ]
    }
   ],
   "source": [
    "print(df2.loc[df2.index[0:2], [\"W\", \"Y\"]])"
   ]
  },
  {
   "cell_type": "code",
   "execution_count": 54,
   "id": "3901e009",
   "metadata": {},
   "outputs": [
    {
     "name": "stdout",
     "output_type": "stream",
     "text": [
      "   W  X   Y\n",
      "a  0  1   2\n",
      "b  4  5   6\n",
      "c  8  9  10\n"
     ]
    }
   ],
   "source": [
    "print(df2.loc['a':'c', 'W':'Y'])"
   ]
  },
  {
   "cell_type": "code",
   "execution_count": 55,
   "id": "b678733c",
   "metadata": {},
   "outputs": [
    {
     "name": "stdout",
     "output_type": "stream",
     "text": [
      "   W  X  Y  Z\n",
      "a  0  1  2  3\n",
      "b  4  5  6  7\n"
     ]
    }
   ],
   "source": [
    "# 使用 .iloc\n",
    "# 获取前两行\n",
    "print(df2.iloc[0:2])"
   ]
  },
  {
   "cell_type": "code",
   "execution_count": 56,
   "id": "9d5891e6",
   "metadata": {},
   "outputs": [
    {
     "name": "stdout",
     "output_type": "stream",
     "text": [
      "   W  X  Y\n",
      "a  0  1  2\n",
      "b  4  5  6\n"
     ]
    }
   ],
   "source": [
    "# 获取前2行前3列\n",
    "print(df2.iloc[0:2, 0:3])"
   ]
  },
  {
   "cell_type": "code",
   "execution_count": 57,
   "id": "dbb8b5a3",
   "metadata": {},
   "outputs": [
    {
     "name": "stdout",
     "output_type": "stream",
     "text": [
      "   W  X\n",
      "a  0  1\n",
      "b  4  5\n",
      "c  8  9\n"
     ]
    }
   ],
   "source": [
    "# 获取所有行，前2列\n",
    "print(df2.iloc[:, 0:2])"
   ]
  },
  {
   "cell_type": "code",
   "execution_count": 58,
   "id": "d94c12e7",
   "metadata": {},
   "outputs": [
    {
     "name": "stdout",
     "output_type": "stream",
     "text": [
      "   W  X  Y  Z\n",
      "a  0  1  2  3\n",
      "b  4  5  6  7\n"
     ]
    }
   ],
   "source": [
    "# 获取前2行，所有列\n",
    "print(df2.iloc[0:2, :])"
   ]
  },
  {
   "cell_type": "markdown",
   "id": "814e9209",
   "metadata": {},
   "source": [
    "布尔索引被定义为 numpy 的一个非常重要的功能, 它在 Pandas 中经常使用。它的主要任务是使用 DataFrame 中数据的实际值。"
   ]
  },
  {
   "cell_type": "code",
   "execution_count": 59,
   "id": "819cd008",
   "metadata": {},
   "outputs": [
    {
     "name": "stdout",
     "output_type": "stream",
     "text": [
      "       A      B      C      D\n",
      "a  False   True  False   True\n",
      "b   True  False   True  False\n",
      "c   True  False  False  False\n",
      "d   True  False   True   True\n",
      "e  False   True   True  False\n",
      "f  False   True  False  False\n"
     ]
    }
   ],
   "source": [
    "print(df > 0)"
   ]
  },
  {
   "cell_type": "markdown",
   "id": "22edc418",
   "metadata": {},
   "source": [
    "我们会发现大于0的地方为 True ，小于0的地方为 False"
   ]
  },
  {
   "cell_type": "code",
   "execution_count": 60,
   "id": "12ddd51b",
   "metadata": {},
   "outputs": [
    {
     "name": "stdout",
     "output_type": "stream",
     "text": [
      "a    False\n",
      "b     True\n",
      "c     True\n",
      "d     True\n",
      "e    False\n",
      "f    False\n",
      "Name: A, dtype: bool\n"
     ]
    }
   ],
   "source": [
    "# 我们尝试获取所有 A 列大于0的行：\n",
    "print(df['A'] > 0)"
   ]
  },
  {
   "cell_type": "code",
   "execution_count": 61,
   "id": "7ea48f16",
   "metadata": {},
   "outputs": [
    {
     "name": "stdout",
     "output_type": "stream",
     "text": [
      "          A         B         C         D\n",
      "b  0.180691 -1.298926  0.032505 -1.877595\n",
      "c  1.480017 -0.529967 -0.496745 -0.881392\n",
      "d  0.364233 -0.918856  1.318477  1.350162\n"
     ]
    }
   ],
   "source": [
    "print(df[df['A'] > 0])"
   ]
  },
  {
   "cell_type": "code",
   "execution_count": 62,
   "id": "5ba3167d",
   "metadata": {},
   "outputs": [
    {
     "name": "stdout",
     "output_type": "stream",
     "text": [
      "     W    X    Y    Z\n",
      "a  NaN  NaN  2.0  3.0\n",
      "b  4.0  5.0  6.0  7.0\n",
      "c  8.0  9.0  NaN  NaN\n"
     ]
    }
   ],
   "source": [
    "# 我们也能传入多个条件，不同的条件之间需要用括号括起来。\n",
    "\n",
    "print(df2[(df2 > 1) & (df2 < 10)])"
   ]
  },
  {
   "cell_type": "markdown",
   "id": "74c8d1db",
   "metadata": {},
   "source": [
    "## 层次化索引"
   ]
  },
  {
   "cell_type": "code",
   "execution_count": 63,
   "id": "ba8f8511",
   "metadata": {},
   "outputs": [
    {
     "name": "stdout",
     "output_type": "stream",
     "text": [
      "first   male      16\n",
      "        female    17\n",
      "second  male      21\n",
      "        female    18\n",
      "third   male      19\n",
      "        female    22\n",
      "dtype: int64\n"
     ]
    }
   ],
   "source": [
    "# 我们来创建一个series数据结构\n",
    "data = [16, 17, 21, 18, 19, 22]\n",
    "\n",
    "s = pd.Series(data, index=[[\"first\", \"first\", \"second\", \"second\", \"third\", \"third\"], [\"male\", \"female\", \"male\", \"female\", \"male\", \"female\"]])\n",
    "print(s)"
   ]
  },
  {
   "cell_type": "code",
   "execution_count": 64,
   "id": "1ec96cc3",
   "metadata": {},
   "outputs": [
    {
     "name": "stdout",
     "output_type": "stream",
     "text": [
      "MultiIndex([( 'first',   'male'),\n",
      "            ( 'first', 'female'),\n",
      "            ('second',   'male'),\n",
      "            ('second', 'female'),\n",
      "            ( 'third',   'male'),\n",
      "            ( 'third', 'female')],\n",
      "           )\n"
     ]
    }
   ],
   "source": [
    "# 显示层次化索引\n",
    "print(s.index)"
   ]
  },
  {
   "cell_type": "code",
   "execution_count": 65,
   "id": "6edce5f1",
   "metadata": {},
   "outputs": [
    {
     "name": "stdout",
     "output_type": "stream",
     "text": [
      "               Ch          Ma          En        \n",
      "                A   B   C   A   B   C   A   B   C\n",
      "first  male    16  16  16  17  10  15  11  10  12\n",
      "       female  19  16  10  15  15  13  10  15  16\n",
      "second male    17  12  13  17  14  13  17  11  19\n",
      "       female  13  19  11  10  10  13  18  10  14\n",
      "third  male    17  13  17  16  15  11  15  15  12\n",
      "       female  14  12  16  19  11  16  12  12  13\n"
     ]
    }
   ],
   "source": [
    "# DataFrame 层次化索引\n",
    "data = np.random.randint(10, 20, (6, 9))  # [10， 20)之间的随机整数\n",
    "index = [[\"first\", \"first\", \"second\", \"second\", \"third\", \"third\"], [\"male\", \"female\", \"male\", \"female\", \"male\", \"female\"]]\n",
    "columns = [[\"Ch\", \"Ch\", \"Ch\", \"Ma\", \"Ma\", \"Ma\", \"En\", \"En\", \"En\"], [\"A\", \"B\", \"C\", \"A\", \"B\", \"C\", \"A\", \"B\", \"C\"]]\n",
    "df = pd.DataFrame(data, index=index, columns=columns)\n",
    "\n",
    "print(df)"
   ]
  },
  {
   "cell_type": "code",
   "execution_count": 66,
   "id": "f8676b83",
   "metadata": {},
   "outputs": [
    {
     "name": "stdout",
     "output_type": "stream",
     "text": [
      "MultiIndex([( 'first',   'male'),\n",
      "            ( 'first', 'female'),\n",
      "            ('second',   'male'),\n",
      "            ('second', 'female'),\n",
      "            ( 'third',   'male'),\n",
      "            ( 'third', 'female')],\n",
      "           )\n"
     ]
    }
   ],
   "source": [
    "# 显示层次化索引\n",
    "print(df.index)"
   ]
  },
  {
   "cell_type": "code",
   "execution_count": 67,
   "id": "98060a0e",
   "metadata": {},
   "outputs": [
    {
     "name": "stdout",
     "output_type": "stream",
     "text": [
      "MultiIndex([('Ch', 'A'),\n",
      "            ('Ch', 'B'),\n",
      "            ('Ch', 'C'),\n",
      "            ('Ma', 'A'),\n",
      "            ('Ma', 'B'),\n",
      "            ('Ma', 'C'),\n",
      "            ('En', 'A'),\n",
      "            ('En', 'B'),\n",
      "            ('En', 'C')],\n",
      "           )\n"
     ]
    }
   ],
   "source": [
    "print(df.columns)"
   ]
  },
  {
   "cell_type": "code",
   "execution_count": 68,
   "id": "35310ce4",
   "metadata": {},
   "outputs": [
    {
     "name": "stdout",
     "output_type": "stream",
     "text": [
      "male      16\n",
      "female    17\n",
      "dtype: int64\n"
     ]
    }
   ],
   "source": [
    "# 按层级统计数据\n",
    "print(s[\"first\"])"
   ]
  },
  {
   "cell_type": "code",
   "execution_count": 69,
   "id": "4382e473",
   "metadata": {},
   "outputs": [
    {
     "name": "stdout",
     "output_type": "stream",
     "text": [
      "first   male      16\n",
      "        female    17\n",
      "second  male      21\n",
      "        female    18\n",
      "dtype: int64\n"
     ]
    }
   ],
   "source": [
    "# 获取一二班的男女生人数\n",
    "print(s[\"first\":\"second\"])"
   ]
  },
  {
   "cell_type": "code",
   "execution_count": 70,
   "id": "cbc7b9b6",
   "metadata": {},
   "outputs": [
    {
     "name": "stdout",
     "output_type": "stream",
     "text": [
      "first  male      16\n",
      "       female    17\n",
      "third  male      19\n",
      "       female    22\n",
      "dtype: int64\n"
     ]
    }
   ],
   "source": [
    "print(s[[\"first\", \"third\"]])"
   ]
  },
  {
   "cell_type": "code",
   "execution_count": 71,
   "id": "03bb8e62",
   "metadata": {},
   "outputs": [
    {
     "name": "stdout",
     "output_type": "stream",
     "text": [
      "16\n"
     ]
    }
   ],
   "source": [
    "# 获取一班的男生人数\n",
    "print(s[\"first\", \"male\"])"
   ]
  },
  {
   "cell_type": "code",
   "execution_count": 72,
   "id": "c29d47e9",
   "metadata": {},
   "outputs": [
    {
     "name": "stdout",
     "output_type": "stream",
     "text": [
      "first     17\n",
      "second    18\n",
      "third     22\n",
      "dtype: int64\n"
     ]
    }
   ],
   "source": [
    "print(s[:, \"female\"])"
   ]
  },
  {
   "cell_type": "code",
   "execution_count": 73,
   "id": "18c43464",
   "metadata": {},
   "outputs": [
    {
     "name": "stdout",
     "output_type": "stream",
     "text": [
      "16\n"
     ]
    }
   ],
   "source": [
    "# 获取一班的男生人数\n",
    "print(s[\"first\"][\"male\"])"
   ]
  },
  {
   "cell_type": "code",
   "execution_count": 74,
   "id": "1488453e",
   "metadata": {},
   "outputs": [
    {
     "name": "stdout",
     "output_type": "stream",
     "text": [
      "first     17\n",
      "second    18\n",
      "third     22\n",
      "dtype: int64\n"
     ]
    }
   ],
   "source": [
    "# 获取各班的女生人数\n",
    "print(s[\"first\":\"thrid\"][:, \"female\"])"
   ]
  },
  {
   "cell_type": "code",
   "execution_count": 75,
   "id": "a3999bab",
   "metadata": {},
   "outputs": [
    {
     "name": "stdout",
     "output_type": "stream",
     "text": [
      "                A   B   C\n",
      "first  male    17  10  15\n",
      "       female  15  15  13\n",
      "second male    17  14  13\n",
      "       female  10  10  13\n",
      "third  male    16  15  11\n",
      "       female  19  11  16\n"
     ]
    }
   ],
   "source": [
    "# 获取各班的学生数学成绩各等级人数\n",
    "print(df[\"Ma\"])"
   ]
  },
  {
   "cell_type": "code",
   "execution_count": 76,
   "id": "ad39c0d8",
   "metadata": {},
   "outputs": [
    {
     "name": "stdout",
     "output_type": "stream",
     "text": [
      "        Ch          Ma          En        \n",
      "         A   B   C   A   B   C   A   B   C\n",
      "male    16  16  16  17  10  15  11  10  12\n",
      "female  19  16  10  15  15  13  10  15  16\n"
     ]
    }
   ],
   "source": [
    "# 获取一班的所有项\n",
    "print(df.loc[\"first\"])"
   ]
  },
  {
   "cell_type": "code",
   "execution_count": 77,
   "id": "ced3a150",
   "metadata": {},
   "outputs": [
    {
     "name": "stdout",
     "output_type": "stream",
     "text": [
      "         A   B   C\n",
      "male    11  10  12\n",
      "female  10  15  16\n"
     ]
    }
   ],
   "source": [
    "# 获取一班男女英语成绩各等级的人数\n",
    "print(df.loc[\"first\", \"En\"])"
   ]
  },
  {
   "cell_type": "code",
   "execution_count": 78,
   "id": "d13865d5",
   "metadata": {},
   "outputs": [
    {
     "name": "stdout",
     "output_type": "stream",
     "text": [
      "first   male      16\n",
      "        female    19\n",
      "second  male      17\n",
      "        female    13\n",
      "third   male      17\n",
      "        female    14\n",
      "Name: A, dtype: int32\n"
     ]
    }
   ],
   "source": [
    "# 获取各班语文成绩为A的人数\n",
    "print(df[\"Ch\"][\"A\"])"
   ]
  },
  {
   "cell_type": "code",
   "execution_count": 79,
   "id": "3bbcbc54",
   "metadata": {},
   "outputs": [
    {
     "name": "stdout",
     "output_type": "stream",
     "text": [
      "        Ch          En        \n",
      "         A   B   C   A   B   C\n",
      "male    16  16  16  11  10  12\n",
      "female  19  16  10  10  15  16\n"
     ]
    }
   ],
   "source": [
    "# 获取一班男女生的语文和英语成绩各等级人数:\n",
    "print(df.loc[\"first\", [\"Ch\", \"En\"]])"
   ]
  },
  {
   "cell_type": "code",
   "execution_count": 80,
   "id": "5e259444",
   "metadata": {},
   "outputs": [
    {
     "name": "stdout",
     "output_type": "stream",
     "text": [
      "male      16\n",
      "female    19\n",
      "Name: A, dtype: int32\n"
     ]
    }
   ],
   "source": [
    "print(df.loc[\"first\", \"Ch\"][\"A\"])"
   ]
  },
  {
   "cell_type": "code",
   "execution_count": 81,
   "id": "fcfb436c",
   "metadata": {},
   "outputs": [
    {
     "name": "stdout",
     "output_type": "stream",
     "text": [
      "Ch  A    16\n",
      "    B    16\n",
      "    C    16\n",
      "Ma  A    17\n",
      "    B    10\n",
      "    C    15\n",
      "En  A    11\n",
      "    B    10\n",
      "    C    12\n",
      "Name: male, dtype: int32\n"
     ]
    }
   ],
   "source": [
    "print(df.loc[\"first\",:].loc[\"male\"])"
   ]
  },
  {
   "cell_type": "markdown",
   "id": "5226cf5a",
   "metadata": {},
   "source": [
    "## 数据的合并\n",
    "\n",
    "pandas提供了merge和join两个方法来完成数据的合并，merge方法主要基于两个DataFrame的共同列进行合并，join方法则是主要基于两个DataFrame的索引进行合并。"
   ]
  },
  {
   "cell_type": "markdown",
   "id": "197bbdde",
   "metadata": {},
   "source": [
    "merge方法是基于共同的列，将两个DataFrame进行合并，语法如下所示：\n",
    "```\n",
    "pandas.merge(left, right, how=\"inner\", on=None, left_on=None, right_on=None, left_index=False, right_index=False, sort=False, suffixes=('_x', '_y'), copy=True, indicator=False, validate=None)\n",
    "```\n",
    "\n",
    "参数说明：\n",
    "1. left/right：左/右位置的 DataFrame。\n",
    "2. how：数据合并的方式。\n",
    "3. left：基于左 DataFrame 列的数据合并；right：基于右DataFrame列的数据合并；outer：基于列的数据外合并（取并集）；inner：基于列的数据内合并（取交集）；默认为inner。\n",
    "4. on：用来合并的列名，这个参数需要保证两个 DataFrame 有相同的列名。\n",
    "5. left_on/right_on：左/右 DataFrame 合并的列名，也可为索引，数组和列表。\n",
    "6. left_index/right_index：是否以 index 作为数据合并的列名，True 表示是。\n",
    "7. sort：根据 DataFrame 合并的 keys 排序，默认是 True。\n",
    "8. suffixes: 若有相同列且该列没有作为合并的列，可通过 suffixes 设置该列的后缀名，一般为元组和列表类型。"
   ]
  },
  {
   "cell_type": "code",
   "execution_count": 82,
   "id": "67989054",
   "metadata": {},
   "outputs": [
    {
     "name": "stdout",
     "output_type": "stream",
     "text": [
      "  key  data1\n",
      "0   s      0\n",
      "1   s      1\n",
      "2   w      2\n",
      "3   x      3\n",
      "4   x      4\n",
      "5   n      5\n",
      "6   f      6\n",
      "7   c      7\n"
     ]
    }
   ],
   "source": [
    "# 创建两个DataFrame\n",
    "\n",
    "df1 = pd.DataFrame({'key':['s','s','w','x','x','n','f','c'], 'data1':range(8)})\n",
    "print(df1)"
   ]
  },
  {
   "cell_type": "code",
   "execution_count": 83,
   "id": "477f1e8f",
   "metadata": {},
   "outputs": [
    {
     "name": "stdout",
     "output_type": "stream",
     "text": [
      "  key  data2\n",
      "0   w      0\n",
      "1   w      1\n",
      "2   s      2\n",
      "3   s      3\n",
      "4   x      4\n",
      "5   f      5\n"
     ]
    }
   ],
   "source": [
    "df2 = pd.DataFrame({'key':['w','w','s','s','x','f'], 'data2':range(6)})\n",
    "print(df2)"
   ]
  },
  {
   "cell_type": "code",
   "execution_count": 84,
   "id": "ff58edd8",
   "metadata": {},
   "outputs": [
    {
     "name": "stdout",
     "output_type": "stream",
     "text": [
      "  key  data1  data2\n",
      "0   s      0      2\n",
      "1   s      0      3\n",
      "2   s      1      2\n",
      "3   s      1      3\n",
      "4   w      2      0\n",
      "5   w      2      1\n",
      "6   x      3      4\n",
      "7   x      4      4\n",
      "8   f      6      5\n"
     ]
    }
   ],
   "source": [
    "# 默认情况之下的合并\n",
    "\n",
    "print(pd.merge(df1, df2))"
   ]
  },
  {
   "cell_type": "markdown",
   "id": "32454bd9",
   "metadata": {},
   "source": [
    "可以发现有些一行消失了，因为默认使用的是inner内链接方式，结果做的是交集。"
   ]
  },
  {
   "cell_type": "code",
   "execution_count": 85,
   "id": "6f383c42",
   "metadata": {},
   "outputs": [
    {
     "name": "stdout",
     "output_type": "stream",
     "text": [
      "   key  data1  data2\n",
      "0    s      0    2.0\n",
      "1    s      0    3.0\n",
      "2    s      1    2.0\n",
      "3    s      1    3.0\n",
      "4    w      2    0.0\n",
      "5    w      2    1.0\n",
      "6    x      3    4.0\n",
      "7    x      4    4.0\n",
      "8    n      5    NaN\n",
      "9    f      6    5.0\n",
      "10   c      7    NaN\n"
     ]
    }
   ],
   "source": [
    "print(pd.merge(df1, df2, how=\"outer\", on=\"key\"))"
   ]
  },
  {
   "cell_type": "markdown",
   "id": "27411d86",
   "metadata": {},
   "source": [
    "outer 外链接方式，可以理解为基于共同列的并集进行链接，参数on设置链接的共有列名。\n",
    "\n",
    "若两个DataFrame间出了on设置的连接列外并无相同列，则该列的值设置为NaN。"
   ]
  },
  {
   "cell_type": "code",
   "execution_count": 86,
   "id": "78671fe0",
   "metadata": {},
   "outputs": [
    {
     "name": "stdout",
     "output_type": "stream",
     "text": [
      "   key  data1  data2\n",
      "0    s      0    2.0\n",
      "1    s      0    3.0\n",
      "2    s      1    2.0\n",
      "3    s      1    3.0\n",
      "4    w      2    0.0\n",
      "5    w      2    1.0\n",
      "6    x      3    4.0\n",
      "7    x      4    4.0\n",
      "8    n      5    NaN\n",
      "9    f      6    5.0\n",
      "10   c      7    NaN\n"
     ]
    }
   ],
   "source": [
    "# 左链接\n",
    "print(pd.merge(df1, df2, how=\"left\"))"
   ]
  },
  {
   "cell_type": "markdown",
   "id": "89ba9eae",
   "metadata": {},
   "source": [
    "left 是左链接，可以理解为基于左边位置的DataFrame的进行行连接。"
   ]
  },
  {
   "cell_type": "code",
   "execution_count": 87,
   "id": "6f37362b",
   "metadata": {},
   "outputs": [
    {
     "name": "stdout",
     "output_type": "stream",
     "text": [
      "  key1 key2  val\n",
      "0  foo  one    1\n",
      "1  foo  two    2\n",
      "2  bar  one    3\n"
     ]
    }
   ],
   "source": [
    "# 基于多列的连接\n",
    "df1 = pd.DataFrame({'key1': ['foo', 'foo', 'bar'], 'key2': ['one', 'two', 'one'],'val': [1, 2, 3]})\n",
    "print(df1)"
   ]
  },
  {
   "cell_type": "code",
   "execution_count": 88,
   "id": "bbdbacd8",
   "metadata": {},
   "outputs": [
    {
     "name": "stdout",
     "output_type": "stream",
     "text": [
      "  key1 key2  val\n",
      "0  foo  one    4\n",
      "1  foo  one    5\n",
      "2  bar  one    6\n",
      "3  bar  two    7\n"
     ]
    }
   ],
   "source": [
    "df2 = pd.DataFrame({'key1': ['foo', 'foo','bar','bar'], 'key2': ['one', 'one', 'one','two'],'val': [4,5,6,7]})\n",
    "print(df2)"
   ]
  },
  {
   "cell_type": "code",
   "execution_count": 89,
   "id": "b0732606",
   "metadata": {},
   "outputs": [
    {
     "name": "stdout",
     "output_type": "stream",
     "text": [
      "  key1 key2  val_x  val_y\n",
      "0  foo  one    1.0      4\n",
      "1  foo  one    1.0      5\n",
      "2  bar  one    3.0      6\n",
      "3  bar  two    NaN      7\n"
     ]
    }
   ],
   "source": [
    "# 多列的右连接\n",
    "print(pd.merge(df1, df2, on=[\"key1\", \"key2\"], how=\"right\"))"
   ]
  },
  {
   "cell_type": "markdown",
   "id": "14c7a58c",
   "metadata": {},
   "source": [
    "当合并的数据有相同的列时，结构会默认在后面添加 _x, _y 来区分，我们也可以通过 suffixes 参数来手动指定："
   ]
  },
  {
   "cell_type": "code",
   "execution_count": 90,
   "id": "da64456c",
   "metadata": {},
   "outputs": [
    {
     "name": "stdout",
     "output_type": "stream",
     "text": [
      "  key1 key2  val_left  val_right\n",
      "0  foo  one         1          4\n",
      "1  foo  one         1          5\n",
      "2  bar  one         3          6\n"
     ]
    }
   ],
   "source": [
    "print(pd.merge(df1, df2, on=[\"key1\", \"key2\"], suffixes=[\"_left\", \"_right\"]))"
   ]
  },
  {
   "cell_type": "markdown",
   "id": "9a4d2f0c",
   "metadata": {},
   "source": [
    "join 方法更为方便的实现行索引上的合并，语法为：\n",
    "```\n",
    "DataFrame.join(other, on=None, how='left', lsuffix='', rsuffix='', sort=False)\n",
    "```\n",
    "参数说明：\n",
    "1. other：DataFrame，或者带有名字的 Series，或者 list，如果传递的是 Series，那么其 name 属性应当是一个集合，并且该集合将会作为结果 DataFrame 的列名。\n",
    "2. on：列名称，或者列名称的 list/tuple，或者类似形状的数组连接的列，默认使用索引连接。\n",
    "3. how： {‘left’, ‘right’, ‘outer’, ‘inner’} , 连接的方式，默认为左连接。\n",
    "4. lsuffix：String 左 DataFrame 中重复列的后缀。\n",
    "5. rsuffix：String 右 DataFrame 中重复列的后缀。\n",
    "6. sort：按照字典顺序对结果在连接键上排序。如果为False，连接键的顺序取决于连接类型（关键字）。"
   ]
  },
  {
   "cell_type": "code",
   "execution_count": 91,
   "id": "ce288b3b",
   "metadata": {},
   "outputs": [
    {
     "name": "stdout",
     "output_type": "stream",
     "text": [
      "     A  B  C  D\n",
      "one  0  1  2  3\n",
      "two  4  5  6  7\n"
     ]
    }
   ],
   "source": [
    "# 简单创建两个DataFrame\n",
    "\n",
    "df1 = pd.DataFrame(np.arange(8).reshape(2, 4), index=[\"one\", \"two\"], columns=list(\"ABCD\"))\n",
    "print(df1)"
   ]
  },
  {
   "cell_type": "code",
   "execution_count": 92,
   "id": "8c9d9e25",
   "metadata": {},
   "outputs": [
    {
     "name": "stdout",
     "output_type": "stream",
     "text": [
      "       W  X   Y   Z\n",
      "one    0  1   2   3\n",
      "two    4  5   6   7\n",
      "three  8  9  10  11\n"
     ]
    }
   ],
   "source": [
    "df2 = pd.DataFrame(np.arange(12).reshape(3, 4), index=[\"one\", \"two\", \"three\"], columns=list(\"WXYZ\"))\n",
    "print(df2)"
   ]
  },
  {
   "cell_type": "code",
   "execution_count": 93,
   "id": "6410f46d",
   "metadata": {},
   "outputs": [
    {
     "name": "stdout",
     "output_type": "stream",
     "text": [
      "     A  B  C  D  W  X  Y  Z\n",
      "one  0  1  2  3  0  1  2  3\n",
      "two  4  5  6  7  4  5  6  7\n"
     ]
    }
   ],
   "source": [
    "# 默认情况之下进行合并\n",
    "print(df1.join(df2))"
   ]
  },
  {
   "cell_type": "markdown",
   "id": "f781402a",
   "metadata": {},
   "source": [
    "可以发现，df1和df2按照相同的行索引进行了合并，并且df2的第三行被删除了。"
   ]
  },
  {
   "cell_type": "code",
   "execution_count": 94,
   "id": "480f6cb4",
   "metadata": {},
   "outputs": [
    {
     "name": "stdout",
     "output_type": "stream",
     "text": [
      "       W  X   Y   Z    A    B    C    D\n",
      "one    0  1   2   3  0.0  1.0  2.0  3.0\n",
      "two    4  5   6   7  4.0  5.0  6.0  7.0\n",
      "three  8  9  10  11  NaN  NaN  NaN  NaN\n"
     ]
    }
   ],
   "source": [
    "print(df2.join(df1))"
   ]
  },
  {
   "cell_type": "markdown",
   "id": "f1d58c0d",
   "metadata": {},
   "source": [
    "可见会以前者的索引为基准来进行合并，并且不足的地方会自动填充 NaN 值，超出的地方会自动删除。"
   ]
  },
  {
   "attachments": {
    "image.png": {
     "image/png": "[encoded data removed]"
    }
   },
   "cell_type": "markdown",
   "id": "f10b2fec",
   "metadata": {},
   "source": [
    "## 分割和组合\n",
    "\n",
    "分组的过程可以分为：\n",
    "\n",
    "1. 拆分： 进行分组的根据\n",
    "2. 应用： 每个分组运行的计算规则\n",
    "3. 合并： 把每个分组的计算结果合并起来\n",
    "\n",
    "![image.png](attachment:image.png)\n",
    "\n",
    "分组功能主要利用pandas的groupby函数。\n",
    "\n",
    "虽然分组用其他函数也可以完成，但是groupby这个函数相对来说比较方便。\n",
    "\n",
    "groupby的语法为：\n",
    "```\n",
    "DataFrame.groupby(by=None, axis=0, level=None, as_index=True, sort=True, group_keys=True, squeeze=<no_default>, observed=False, dropna=True)\n",
    "```\n",
    "\n",
    "参数为：\n",
    "1. by：接收 list，string，mapping，generator等，用语确定分组的依据，没有默认值\n",
    "2. axis：接收int，表示操作的轴向，默认为0，对列进行操作\n",
    "3. level：接收 int 或者索引名，代表标签所在级别\n",
    "4. as_index：表示聚合后的聚合标签是否以DataFrame索引形式输出，默认为True\n",
    "5. sort：表示是否对分组依据分组标签进行排序\n",
    "6. group_keys：表示是否允许的情况返回数据进行降为\n",
    "7. squeeze：表示是否允许的情况下对返回数据进行降为"
   ]
  },
  {
   "cell_type": "code",
   "execution_count": 95,
   "id": "e3f5e905",
   "metadata": {},
   "outputs": [
    {
     "name": "stdout",
     "output_type": "stream",
     "text": [
      "  lessons grade  male  female\n",
      "0      Ch     A    10      14\n",
      "1      En     A    12      14\n",
      "2      Ch     B    18      11\n",
      "3      En     B    12      13\n",
      "4      Ch     C    12      16\n",
      "5      Ma     A    18      12\n",
      "6      En     C    13      15\n",
      "7      Ma     B    15      12\n"
     ]
    }
   ],
   "source": [
    "data = {\"lessons\": ['Ch', 'En', 'Ch', 'En', 'Ch', 'Ma', 'En', 'Ma'],\n",
    "         \t  \"grade\": ['A', 'A', 'B', 'B', 'C', 'A', 'C', 'B'],\n",
    "        \t  \"male\": np.random.randint(10, 20, 8),  # [10, 20)的8个随机整数\n",
    "       \t \t  \"female\": np.random.randint(10, 20, 8)}\n",
    "df = pd.DataFrame(data)\n",
    "print(df)"
   ]
  },
  {
   "cell_type": "code",
   "execution_count": 96,
   "id": "b3171bf6",
   "metadata": {},
   "outputs": [
    {
     "name": "stdout",
     "output_type": "stream",
     "text": [
      "<pandas.core.groupby.generic.DataFrameGroupBy object at 0x0000016E561078C8>\n"
     ]
    }
   ],
   "source": [
    "# 对课程lessons分组，我们可以得到什么呢？\n",
    "print(df.groupby(by=\"lessons\"))"
   ]
  },
  {
   "cell_type": "markdown",
   "id": "a73730e5",
   "metadata": {},
   "source": [
    "此时，并没有进行任何的计算，而是返回了一个 DataFrameGroupBy 对象，用groupby方法分组后的结果并不能直接查看，而是被存在内存中，输出的是内存地址。\n",
    "\n",
    "DataFrameGroupBy 对象有很多经过优化的方法：\n",
    "1. count：计算分组种非NA值的数量\n",
    "2. sum：计算非NA的值的和\n",
    "3. mean：计算非NA的值的平均数\n",
    "4. median：计算非NA值的算术中位数\n",
    "5. std，var：无偏（分母为n-1）标准差和方差\n",
    "6. min，max：非NA的值的最小值和最大值"
   ]
  },
  {
   "cell_type": "code",
   "execution_count": 97,
   "id": "eebcfd8e",
   "metadata": {},
   "outputs": [
    {
     "name": "stdout",
     "output_type": "stream",
     "text": [
      "       male  female\n",
      "grade              \n",
      "A        40      40\n",
      "B        45      36\n",
      "C        25      31\n"
     ]
    }
   ],
   "source": [
    "# 各等级的男生人数\n",
    "group1 = df.groupby(by=\"grade\")\n",
    "print(group1.sum())"
   ]
  },
  {
   "cell_type": "code",
   "execution_count": 98,
   "id": "6558237c",
   "metadata": {},
   "outputs": [
    {
     "name": "stdout",
     "output_type": "stream",
     "text": [
      "         grade  male  female\n",
      "lessons                     \n",
      "Ch           3     3       3\n",
      "En           3     3       3\n",
      "Ma           2     2       2\n"
     ]
    }
   ],
   "source": [
    "# size()返回每个分组的元素个数\n",
    "group2 = df.groupby(by=\"lessons\")\n",
    "print(group2.count())"
   ]
  },
  {
   "cell_type": "code",
   "execution_count": 99,
   "id": "eab1f787",
   "metadata": {},
   "outputs": [
    {
     "name": "stdout",
     "output_type": "stream",
     "text": [
      "lessons\n",
      "Ch    3\n",
      "En    3\n",
      "Ma    2\n",
      "dtype: int64\n"
     ]
    }
   ],
   "source": [
    "print(group2.size())"
   ]
  },
  {
   "cell_type": "code",
   "execution_count": 100,
   "id": "00a362f4",
   "metadata": {},
   "outputs": [
    {
     "name": "stdout",
     "output_type": "stream",
     "text": [
      "               male  female\n",
      "lessons grade              \n",
      "Ch      A        10      14\n",
      "        B        18      11\n",
      "        C        12      16\n",
      "En      A        12      14\n",
      "        B        12      13\n",
      "        C        13      15\n",
      "Ma      A        18      12\n",
      "        B        15      12\n"
     ]
    }
   ],
   "source": [
    "# 按照学科和成绩进行分组\n",
    "group3 = df.groupby(by=[df[\"lessons\"], df[\"grade\"]])\n",
    "print(group3.sum())"
   ]
  },
  {
   "cell_type": "code",
   "execution_count": 101,
   "id": "b09024da",
   "metadata": {},
   "outputs": [
    {
     "name": "stdout",
     "output_type": "stream",
     "text": [
      "lessons  grade\n",
      "Ch       A        10\n",
      "         B        18\n",
      "         C        12\n",
      "En       A        12\n",
      "         B        12\n",
      "         C        13\n",
      "Ma       A        18\n",
      "         B        15\n",
      "Name: male, dtype: int32\n"
     ]
    }
   ],
   "source": [
    "# 我们在分组统计之后如果只想查看男生的情况，当然也是可以的\n",
    "print(df.groupby(by=[df[\"lessons\"], df[\"grade\"]]).sum()[\"male\"])"
   ]
  },
  {
   "cell_type": "markdown",
   "id": "2bfee03a",
   "metadata": {},
   "source": [
    "## 读写数据\n",
    "\n",
    "如果文件每一行的多 个元素是用逗号隔开的，则这种格式叫作csv。\n",
    "\n",
    "其他由空格或制表符分隔的列表数据通常存储在各种类型的文本文件中（扩展名一般 为 .txt )。\n",
    "\n",
    "因此这种文件类型是最常见的数据源，它易于转录和解释。pandas的下列函数专门用来处理 这种文件类型：read_csv、read_table、to_csv。"
   ]
  },
  {
   "cell_type": "markdown",
   "id": "9f49214e",
   "metadata": {},
   "source": [
    "第一个常见的函数是 read_cvs，语法为：\n",
    "```\n",
    "pd.read_csv(filepath, encoding, sep, header, names, usecols, index_col, skiprows, nrows......)\n",
    "```\n",
    "\n",
    "参数的含义为：\n",
    "\n",
    "1. filepath： 文件存储路径，可以用r\"\"进行非转义限定，路径最好是纯英文（文件名也是），不然会经常碰到编码不对的问题，最方便是直接将文件存储在pandas默认的路径下，则直接输入文件名即可\n",
    "2. encoding: pandas默认编码是utf-8，如果是csv，且数据中有中文时，则要指定encoding=‘gbk’\n",
    "3. sep: 指定分割符形式，CSV默认逗号分割，可以忽略这个参数，如果是其它分割方式，则要填写\n",
    "4. header: 指定第一行是否是列名，通常有三种用法，忽略或header=0(表示数据第一行为列名），5. header=None（表明数据没有列名），常与names搭配使用\n",
    "6. names: 指定列名，通常用一个字符串列表表示，当header=0时，用names可以替换掉第数据中的第一行作为列名，如果header=None，用names可以增加一行作为列名，如果没有header参数时，用names会增加一行作为列名，原数据的第一行仍然保留\n",
    "7. usecols: 一个字符串列表，可以指定读取的列名\n",
    "8. index_col: 一个字符串列表，指定哪几列作为索引\n",
    "9. skiprows: 跳过多少行再读取数据，通常是数据不太干净，需要去除掉表头才会用到\n",
    "10. nrows: 仅读取多少行，后面的处理也都仅限于读取的这些行\n",
    "\n"
   ]
  },
  {
   "cell_type": "code",
   "execution_count": 102,
   "id": "ac15631d",
   "metadata": {},
   "outputs": [
    {
     "name": "stdout",
     "output_type": "stream",
     "text": [
      "   PassengerId  Survived  Pclass  \\\n",
      "0            1         0       3   \n",
      "1            2         1       1   \n",
      "2            3         1       3   \n",
      "3            4         1       1   \n",
      "4            5         0       3   \n",
      "\n",
      "                                                Name     Sex   Age  SibSp  \\\n",
      "0                            Braund, Mr. Owen Harris    male  22.0      1   \n",
      "1  Cumings, Mrs. John Bradley (Florence Briggs Th...  female  38.0      1   \n",
      "2                             Heikkinen, Miss. Laina  female  26.0      0   \n",
      "3       Futrelle, Mrs. Jacques Heath (Lily May Peel)  female  35.0      1   \n",
      "4                           Allen, Mr. William Henry    male  35.0      0   \n",
      "\n",
      "   Parch            Ticket     Fare Cabin Embarked  \n",
      "0      0         A/5 21171   7.2500   NaN        S  \n",
      "1      0          PC 17599  71.2833   C85        C  \n",
      "2      0  STON/O2. 3101282   7.9250   NaN        S  \n",
      "3      0            113803  53.1000  C123        S  \n",
      "4      0            373450   8.0500   NaN        S  \n"
     ]
    }
   ],
   "source": [
    "# 我们以泰坦尼克号作为数据例子进行尝试\n",
    "# 数据文件就在当前的目录之下\n",
    "\n",
    "data = pd.read_csv(\"titanic_train.csv\")\n",
    "print(data.head())"
   ]
  },
  {
   "cell_type": "markdown",
   "id": "e48403e0",
   "metadata": {},
   "source": [
    "读取txt文件，参数与cvs是一致的，其中要注意的是txt格式可能会有多种分割符号。\n",
    "\n",
    "语法为：\n",
    "```\n",
    "pd.read_table(filepath,encoding,sep,header,names,usecols,index_col,skiprows,nrows……）\n",
    "```\n",
    "\n",
    "我们创建一个名为 temp.txt 的文件，并且给出数据：\n",
    "```\n",
    "1, 5, 2, 3, cat\n",
    "2, 7, 8, 5, dog\n",
    "3, 3, 6, 7, horse\n",
    "2, 2, 8, 3, duck\n",
    "4, 4, 2, 1, mouse \n",
    "```"
   ]
  },
  {
   "cell_type": "code",
   "execution_count": 103,
   "id": "246d50bc",
   "metadata": {},
   "outputs": [
    {
     "name": "stdout",
     "output_type": "stream",
     "text": [
      "   a  b  c  d        e\n",
      "0  1  5  2  3      cat\n",
      "1  2  7  8  5      dog\n",
      "2  3  3  6  7    horse\n",
      "3  2  2  8  3     duck\n",
      "4  4  4  2  1   mouse \n"
     ]
    }
   ],
   "source": [
    "# 我们来使用read_table进行读取\n",
    "\n",
    "data2 = pd.read_table(\"temp.txt\", sep=',', names=list(\"abcde\"))\n",
    "print(data2)"
   ]
  },
  {
   "cell_type": "markdown",
   "id": "f087ff3a",
   "metadata": {},
   "source": [
    "我们可以使用to_csv方法把数据写入CSV文件种并生成，语法为：\n",
    "```\n",
    "DataFrame.to_csv(path_or_buf, sep, na_rep, float_format, columns, header, index...)  \n",
    "```\n",
    "\n",
    "参数的含义是：\n",
    "1. path_or_buf: 字符串或文件句柄，默认无文件路径或对象，如果没有提供，结果将返回为字符串。\n",
    "2. sep: 默认字符 **‘ ，’** 输出文件的字段分隔符。\n",
    "3. na_rep : 默认为 ‘’ 浮点数格式字符串。\n",
    "4. float_format : 默认为 None, 浮点数格式字符串\n",
    "5. columns : 顺序，可选列写入.\n",
    "6. header : 字符串或布尔列表，默认为true,写出列名。如果给定字符串列表，则假定为列名的别名。\n",
    "7. index : 布尔值，默认为Ture, 写入行名称（索引）"
   ]
  },
  {
   "cell_type": "code",
   "execution_count": 104,
   "id": "e5bfebff",
   "metadata": {},
   "outputs": [],
   "source": [
    "# 我们来将data2写入csv中\n",
    "\n",
    "data2.to_csv(\"write.csv\")"
   ]
  },
  {
   "attachments": {
    "image.png": {
     "image/png": "[encoded data removed]"
    }
   },
   "cell_type": "markdown",
   "id": "8e939956",
   "metadata": {},
   "source": [
    "我们可以在目录中发现：\n",
    "\n",
    "![image.png](attachment:image.png)\n",
    "\n",
    "我们可以再接着导入以下这个文件"
   ]
  },
  {
   "cell_type": "code",
   "execution_count": 105,
   "id": "e6a92fdc",
   "metadata": {},
   "outputs": [
    {
     "name": "stdout",
     "output_type": "stream",
     "text": [
      "   Unnamed: 0  a  b  c  d        e\n",
      "0           0  1  5  2  3      cat\n",
      "1           1  2  7  8  5      dog\n",
      "2           2  3  3  6  7    horse\n",
      "3           3  2  2  8  3     duck\n",
      "4           4  4  4  2  1   mouse \n"
     ]
    }
   ],
   "source": [
    "data3 = pd.read_csv(\"write.csv\")\n",
    "print(data3)"
   ]
  },
  {
   "cell_type": "markdown",
   "id": "d6c5275b",
   "metadata": {},
   "source": [
    "可以发现我们成功了。"
   ]
  },
  {
   "cell_type": "markdown",
   "id": "99e55750",
   "metadata": {},
   "source": [
    "## 缺失值数据处理\n",
    "\n",
    "在使用 python 里的 pandas 库进行数据分析工作时，很多时候我们都会遇到这样一个问题：数据缺失。"
   ]
  },
  {
   "cell_type": "code",
   "execution_count": 106,
   "id": "210f73f4",
   "metadata": {},
   "outputs": [
    {
     "name": "stdout",
     "output_type": "stream",
     "text": [
      "              A         B         C         D         E\n",
      "one   -0.538795  0.335668       NaN -1.527980  1.603514\n",
      "two    0.402971 -2.613029  0.423040 -0.413605       NaN\n",
      "three -0.239593  0.600934  1.588833  0.766949 -0.618520\n",
      "four  -1.098495 -2.117678 -0.734386 -1.231634       NaN\n"
     ]
    }
   ],
   "source": [
    "# 我们来构建一组包含缺失元素的数组\n",
    "df = pd.DataFrame(np.random.randn(4, 5), index = [\"one\", \"two\", \"three\", \"four\"], columns=list(\"ABCDE\"))\n",
    "df.iloc[0, 2] = np.nan\n",
    "df.iloc[[1,3], 4] = np.nan\n",
    "\n",
    "print(df)"
   ]
  },
  {
   "cell_type": "markdown",
   "id": "4ff95fb1",
   "metadata": {},
   "source": [
    "第一个方法是删除缺失值，再遇到某列数据大量丢失的时候，我们常用的方法是：将该含有过多空值的行/列删除，通常这也是一种行之有效的做法。\n",
    "\n",
    "在pandas种，我们采用dropna函数来实现这一操作。\n",
    "\n",
    "语法为：\n",
    "```\n",
    "DataFrame.dropna(axis=0, how='any', thresh=None, subset=None, inplace=False)\n",
    "```\n",
    "\n",
    "参数的含义为：\n",
    "1. axis: axis=0 表示 index 行, axis=1 表示 columns 列，默认为0\n",
    "2. how: \"all\" 表示这一行或列中的元素全部缺失，才删除这一行或列，\"any\" 表示这一行或列中只要有元素缺失，就删除这一行或列\n",
    "3. thresh: axis 中至少有 thresh 个非缺失值，否则删除。\n",
    "4. subset: 在某些列的子集中选择出现了缺失值的列删除，不在子集中的含有缺失值得列或行不会删除。\n",
    "5. inplace: 刷选过缺失值得新数据是存为副本还是直接在原数据上进行修改。默认是 False，即创建新的对象进行修改，原对象不变，和深复制和浅复制有些类似。"
   ]
  },
  {
   "cell_type": "code",
   "execution_count": 107,
   "id": "0534854e",
   "metadata": {},
   "outputs": [
    {
     "name": "stdout",
     "output_type": "stream",
     "text": [
      "              A         B         C         D        E\n",
      "three -0.239593  0.600934  1.588833  0.766949 -0.61852\n"
     ]
    }
   ],
   "source": [
    "# 丢弃所有缺失数据的行得到新的数据\n",
    "print(df.dropna(how=\"any\"))"
   ]
  },
  {
   "cell_type": "markdown",
   "id": "8e48d67a",
   "metadata": {},
   "source": [
    "有时如果样本过少，我们不适合删除缺失值，常用的方法时将均值、中位值等填充进缺失值，一般用 fillna 函数实现这一操作。\n",
    "\n",
    "函数语法为：\n",
    "```\n",
    "DataFrame.fillna(value=None, method=None, axis=None, inplace=False, limit=None, downcast=None, **kwargs)\n",
    "```\n",
    "\n",
    "参数含义为：\n",
    "1. value: 需要用什么值去填充缺失值\n",
    "2. axis: 确定填充维度，从行开始或是从列开始\n",
    "3. method: ffill: 用缺失值前面的一个值代替缺失值，如果 axis =1，那么就是横向的前面的值替换后面的缺失值，如果 axis=0，那么则是上面的值替换下面的缺失值。backfill/bfill，缺失值后面的一个值代替前面的缺失值。注意这个参数不能与value同时出现\n",
    "4. limit: 确定填充的个数，如果 limit=2，则只填充两个缺失值。"
   ]
  },
  {
   "cell_type": "code",
   "execution_count": 108,
   "id": "1e012e99",
   "metadata": {},
   "outputs": [
    {
     "name": "stdout",
     "output_type": "stream",
     "text": [
      "              A         B         C         D         E\n",
      "one   -0.538795  0.335668  0.425829 -1.527980  1.603514\n",
      "two    0.402971 -2.613029  0.423040 -0.413605  0.492497\n",
      "three -0.239593  0.600934  1.588833  0.766949 -0.618520\n",
      "four  -1.098495 -2.117678 -0.734386 -1.231634  0.492497\n"
     ]
    }
   ],
   "source": [
    "# 以每行均值填充\n",
    "\n",
    "print(df.fillna(value=df.mean()))"
   ]
  },
  {
   "cell_type": "markdown",
   "id": "473e5fd8",
   "metadata": {},
   "source": [
    "使用 isna、isnull 判断缺失值\n",
    "\n",
    "```\n",
    "DataFrame.isna()\n",
    "DataFrame.isnull()\n",
    "```\n",
    "isna 判断是否 Nan，一般是数值字段的 null\n",
    "\n",
    "isnull 主要是判断字符型是否有值， 可以判断所有的空值，但是 python 的数值字段比如 int float 为空的时候默认是 Nan"
   ]
  },
  {
   "cell_type": "code",
   "execution_count": 109,
   "id": "08441a39",
   "metadata": {},
   "outputs": [
    {
     "name": "stdout",
     "output_type": "stream",
     "text": [
      "           A      B      C      D      E\n",
      "one    False  False   True  False  False\n",
      "two    False  False  False  False   True\n",
      "three  False  False  False  False  False\n",
      "four   False  False  False  False   True\n"
     ]
    }
   ],
   "source": [
    "# 查找缺失值的位置\n",
    "\n",
    "print(pd.isnull(df))"
   ]
  },
  {
   "cell_type": "markdown",
   "id": "d959451a",
   "metadata": {},
   "source": [
    "## 数据特征分析\n",
    "\n",
    "sort_index方法：.sort_index() 方法在指定轴上根据索引进行排序，默认为零轴，升序。\n",
    "\n",
    "语法为：\n",
    "```\n",
    ".sort_index(axis=0,ascending=True)\n",
    "```\n",
    "\n",
    "参数为：\n",
    "1. axis: 指定要排序的轴。\n",
    "2. ascending : 指递增排序。"
   ]
  },
  {
   "cell_type": "code",
   "execution_count": 110,
   "id": "e96d2a4d",
   "metadata": {},
   "outputs": [
    {
     "name": "stdout",
     "output_type": "stream",
     "text": [
      "    0   1   2   3   4\n",
      "c   0   1   2   3   4\n",
      "a   5   6   7   8   9\n",
      "b  10  11  12  13  14\n",
      "d  15  16  17  18  19\n"
     ]
    }
   ],
   "source": [
    "df1 = pd.DataFrame(np.arange(20).reshape(4,5), index = list(\"cabd\"))\n",
    "print(df1)"
   ]
  },
  {
   "cell_type": "code",
   "execution_count": 111,
   "id": "cc3cbd8d",
   "metadata": {},
   "outputs": [
    {
     "name": "stdout",
     "output_type": "stream",
     "text": [
      "    0   1   2   3   4\n",
      "d  15  16  17  18  19\n",
      "c   0   1   2   3   4\n",
      "b  10  11  12  13  14\n",
      "a   5   6   7   8   9\n"
     ]
    }
   ],
   "source": [
    "# 规定按照降序排序\n",
    "print(df1.sort_index(ascending=False))"
   ]
  },
  {
   "cell_type": "markdown",
   "id": "a18383d6",
   "metadata": {},
   "source": [
    "sort_values 方法：.sort_values() 方法在指定轴上根据数值进行排序，默认为零轴，升序。\n",
    "\n",
    "语法为：\n",
    "```\n",
    "Series.sort_values(axis=0, ascending=True)\n",
    "DataFrame.sort_values(by, axis=0, ascending=True)\n",
    "```\n",
    "参数的含义为：\n",
    "1. by: axis 轴上的某个索引或索引列表。\n",
    "2. ascending : 指递增排序。"
   ]
  },
  {
   "cell_type": "code",
   "execution_count": 112,
   "id": "f2f115bf",
   "metadata": {},
   "outputs": [
    {
     "name": "stdout",
     "output_type": "stream",
     "text": [
      "    0   1   2   3   4\n",
      "a   0   1   2   3   4\n",
      "b   5   6   7   8   9\n",
      "c  10  11  12  13  14\n",
      "d  15  16  17  18  19\n"
     ]
    }
   ],
   "source": [
    "df2 = pd.DataFrame(np.arange(20).reshape(4,5), index = list(\"abcd\"))\n",
    "print(df2)"
   ]
  },
  {
   "cell_type": "code",
   "execution_count": 115,
   "id": "c2986c26",
   "metadata": {},
   "outputs": [
    {
     "name": "stdout",
     "output_type": "stream",
     "text": [
      "    0   1   2   3   4\n",
      "d  15  16  17  18  19\n",
      "c  10  11  12  13  14\n",
      "b   5   6   7   8   9\n",
      "a   0   1   2   3   4\n"
     ]
    }
   ],
   "source": [
    "# 默认在0轴上，指定对索引为2的那一列按照降序排序\n",
    "print(df2.sort_values(2, ascending=False))"
   ]
  },
  {
   "cell_type": "code",
   "execution_count": 117,
   "id": "d08d5d8b",
   "metadata": {},
   "outputs": [
    {
     "name": "stdout",
     "output_type": "stream",
     "text": [
      "    4   3   2   1   0\n",
      "a   4   3   2   1   0\n",
      "b   9   8   7   6   5\n",
      "c  14  13  12  11  10\n",
      "d  19  18  17  16  15\n"
     ]
    }
   ],
   "source": [
    "# 指定在1轴上，对索引为‘c’的那一行进行降序排序\n",
    "print(df2.sort_values('a',axis=1, ascending=False))"
   ]
  },
  {
   "attachments": {
    "image-3.png": {
     "image/png": "[encoded data removed]"
    },
    "image-4.png": {
     "image/png": "[encoded data removed]"
    },
    "image.png": {
     "image/png": "[encoded data removed]"
    }
   },
   "cell_type": "markdown",
   "id": "daf88060",
   "metadata": {},
   "source": [
    "**基本统计数据**\n",
    "\n",
    "适用于 Series 和 DataFrame 类型：\n",
    "![image.png](attachment:image.png)\n",
    "\n",
    "适用于 Series 类型的方法：\n",
    "![image-3.png](attachment:image-3.png)\n",
    "\n",
    "适用于 Series 和 DataFrame 类型：\n",
    "![image-4.png](attachment:image-4.png)"
   ]
  },
  {
   "cell_type": "code",
   "execution_count": 118,
   "id": "f428b064",
   "metadata": {},
   "outputs": [
    {
     "name": "stdout",
     "output_type": "stream",
     "text": [
      "0     7.5\n",
      "1     8.5\n",
      "2     9.5\n",
      "3    10.5\n",
      "4    11.5\n",
      "dtype: float64\n"
     ]
    }
   ],
   "source": [
    "# 在0轴上的均值\n",
    "print(df1.mean(axis=0))"
   ]
  },
  {
   "cell_type": "code",
   "execution_count": 119,
   "id": "a13081ff",
   "metadata": {},
   "outputs": [
    {
     "name": "stdout",
     "output_type": "stream",
     "text": [
      "c     2.0\n",
      "a     7.0\n",
      "b    12.0\n",
      "d    17.0\n",
      "dtype: float64\n"
     ]
    }
   ],
   "source": [
    "# 在1轴上的均值\n",
    "print(df1.mean(axis=1))"
   ]
  }
 ],
 "metadata": {
  "kernelspec": {
   "display_name": "Python 3 (ipykernel)",
   "language": "python",
   "name": "python3"
  },
  "language_info": {
   "codemirror_mode": {
    "name": "ipython",
    "version": 3
   },
   "file_extension": ".py",
   "mimetype": "text/x-python",
   "name": "python",
   "nbconvert_exporter": "python",
   "pygments_lexer": "ipython3",
   "version": "3.7.9"
  }
 },
 "nbformat": 4,
 "nbformat_minor": 5
}
