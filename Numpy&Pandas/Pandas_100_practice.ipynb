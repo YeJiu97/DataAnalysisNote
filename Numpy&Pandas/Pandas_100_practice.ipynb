{
 "cells": [
  {
   "cell_type": "markdown",
   "id": "85baad42",
   "metadata": {},
   "source": [
    "## Pandas 百题大冲关｜题目版"
   ]
  },
  {
   "cell_type": "markdown",
   "id": "b98c7fe9",
   "metadata": {},
   "source": [
    "---"
   ]
  },
  {
   "cell_type": "markdown",
   "id": "1eb7203e",
   "metadata": {},
   "source": [
    "#### 介绍"
   ]
  },
  {
   "cell_type": "markdown",
   "id": "0f51728b",
   "metadata": {},
   "source": [
    "Pandas 是基于 NumPy 的一种数据处理工具，该工具为了解决数据分析任务而创建。Pandas 纳入了大量库和一些标准的数据模型，提供了高效地操作大型数据集所需的函数和方法。Pandas 百题大冲关分为基础篇和进阶篇，每部分各有 50 道练习题。基础部分的练习题在于熟悉 Pandas 常用方法的使用，而进阶部分则侧重于 Pandas 方法的组合应用。"
   ]
  },
  {
   "cell_type": "markdown",
   "id": "3ad4d5a2",
   "metadata": {},
   "source": [
    "如果你对 Pandas 的使用还不熟悉，我们建议你先学习 [<i class=\"fa fa-external-link-square\" aria-hidden=\"true\"> Pandas 数据处理基础课程</i>](https://www.lanqiao.cn/courses/906) 后再使用本课程进行复习和检验。"
   ]
  },
  {
   "cell_type": "markdown",
   "id": "637fcefa",
   "metadata": {},
   "source": [
    "___"
   ]
  },
  {
   "cell_type": "markdown",
   "id": "6094001e",
   "metadata": {},
   "source": [
    "<div class=\"alert alert-info\"><p>你需要先学习前一个实验内容，才能使用题目版。如果题目未给出示例数据，请自行生成示例数据后再执行题目操作。</p></div>"
   ]
  },
  {
   "cell_type": "markdown",
   "id": "3bfd598b",
   "metadata": {},
   "source": [
    "### 基础部分"
   ]
  },
  {
   "cell_type": "markdown",
   "id": "db162f53",
   "metadata": {},
   "source": [
    "**1. 导入 Pandas：**"
   ]
  },
  {
   "cell_type": "markdown",
   "id": "90b29f59",
   "metadata": {},
   "source": [
    "练习 Pandas 之前，首先需要导入 Pandas 模块，并约定简称为 `pd`。"
   ]
  },
  {
   "cell_type": "code",
   "execution_count": null,
   "id": "9f3ce733",
   "metadata": {},
   "outputs": [],
   "source": [
    "# 在预留的空白单元格中补充代码"
   ]
  },
  {
   "cell_type": "markdown",
   "id": "ee5d7120",
   "metadata": {},
   "source": [
    "**2. 查看 Pandas 版本信息：**"
   ]
  },
  {
   "cell_type": "code",
   "execution_count": null,
   "id": "f178be71",
   "metadata": {},
   "outputs": [],
   "source": []
  },
  {
   "cell_type": "markdown",
   "id": "10d8806a",
   "metadata": {},
   "source": [
    "Pandas 的数据结构：Pandas 主要有 Series（一维数组），DataFrame（二维数组），Panel（三维数组），Panel4D（四维数组），PanelND（更多维数组）等数据结构。其中 Series 和 DataFrame 应用的最为广泛。"
   ]
  },
  {
   "cell_type": "markdown",
   "id": "dcc35220",
   "metadata": {},
   "source": [
    "- Series 是一维带标签的数组，它可以包含任何数据类型。包括整数，字符串，浮点数，Python 对象等。Series 可以通过标签来定位。\n",
    "- DataFrame 是二维的带标签的数据结构。我们可以通过标签来定位数据。这是 NumPy 所没有的。"
   ]
  },
  {
   "cell_type": "markdown",
   "id": "9422730b",
   "metadata": {},
   "source": [
    "### 创建 Series 数据类型"
   ]
  },
  {
   "cell_type": "markdown",
   "id": "1b5611e1",
   "metadata": {},
   "source": [
    "Pandas 中，Series 可以被看作由 1 列数据组成的数据集。"
   ]
  },
  {
   "cell_type": "markdown",
   "id": "47608264",
   "metadata": {},
   "source": [
    "创建 Series 语法：`s = pd.Series(data, index=index)`，可以通过多种方式进行创建，以下介绍了 3 个常用方法。"
   ]
  },
  {
   "cell_type": "markdown",
   "id": "5703d1de",
   "metadata": {},
   "source": [
    "**3. 从列表创建 Series：**"
   ]
  },
  {
   "cell_type": "code",
   "execution_count": null,
   "id": "ae455cf2",
   "metadata": {},
   "outputs": [],
   "source": [
    "arr = [0, 1, 2, 3, 4]"
   ]
  },
  {
   "cell_type": "code",
   "execution_count": null,
   "id": "9caf7684",
   "metadata": {},
   "outputs": [],
   "source": [
    "s1"
   ]
  },
  {
   "cell_type": "markdown",
   "id": "cc4817ee",
   "metadata": {},
   "source": [
    "**4. 从 Ndarray 创建 Series：**"
   ]
  },
  {
   "cell_type": "code",
   "execution_count": null,
   "id": "a3fd0e52",
   "metadata": {},
   "outputs": [],
   "source": [
    "import numpy as np\n",
    "\n",
    "n = np.random.randn(5)  # 创建一个随机 Ndarray 数组"
   ]
  },
  {
   "cell_type": "code",
   "execution_count": null,
   "id": "402b9406",
   "metadata": {},
   "outputs": [],
   "source": [
    "s2"
   ]
  },
  {
   "cell_type": "markdown",
   "id": "58ff343f",
   "metadata": {},
   "source": [
    "**5. 从字典创建 Series：**"
   ]
  },
  {
   "cell_type": "code",
   "execution_count": null,
   "id": "6efa5034",
   "metadata": {},
   "outputs": [],
   "source": [
    "d = {'a': 1, 'b': 2, 'c': 3, 'd': 4, 'e': 5}  # 定义示例字典"
   ]
  },
  {
   "cell_type": "code",
   "execution_count": null,
   "id": "91c95e2f",
   "metadata": {},
   "outputs": [],
   "source": [
    "s3"
   ]
  },
  {
   "cell_type": "markdown",
   "id": "9d23bbe9",
   "metadata": {},
   "source": [
    "### Series 基本操作"
   ]
  },
  {
   "cell_type": "markdown",
   "id": "374b834b",
   "metadata": {},
   "source": [
    "**6. 修改 Series 索引：**"
   ]
  },
  {
   "cell_type": "code",
   "execution_count": null,
   "id": "9eeba679",
   "metadata": {},
   "outputs": [],
   "source": [
    "print(s1)  # 以 s1 为例"
   ]
  },
  {
   "cell_type": "code",
   "execution_count": null,
   "id": "a487ffd8",
   "metadata": {},
   "outputs": [],
   "source": []
  },
  {
   "cell_type": "markdown",
   "id": "0c8f881e",
   "metadata": {},
   "source": [
    "**7. Series 纵向拼接：**"
   ]
  },
  {
   "cell_type": "code",
   "execution_count": null,
   "id": "e05e3134",
   "metadata": {},
   "outputs": [],
   "source": []
  },
  {
   "cell_type": "markdown",
   "id": "457e74ec",
   "metadata": {},
   "source": [
    "**8. Series 按指定索引删除元素：**"
   ]
  },
  {
   "cell_type": "code",
   "execution_count": null,
   "id": "43ecaa31",
   "metadata": {},
   "outputs": [],
   "source": []
  },
  {
   "cell_type": "markdown",
   "id": "c1dd101b",
   "metadata": {},
   "source": [
    "**9. Series 修改指定索引元素：**"
   ]
  },
  {
   "cell_type": "code",
   "execution_count": null,
   "id": "9ba5bd98",
   "metadata": {},
   "outputs": [],
   "source": []
  },
  {
   "cell_type": "markdown",
   "id": "03ff5ed7",
   "metadata": {},
   "source": [
    "**10. Series 按指定索引查找元素：**"
   ]
  },
  {
   "cell_type": "code",
   "execution_count": null,
   "id": "5996e74d",
   "metadata": {},
   "outputs": [],
   "source": []
  },
  {
   "cell_type": "markdown",
   "id": "90fd74be",
   "metadata": {},
   "source": [
    "**11. Series 切片操作：**"
   ]
  },
  {
   "cell_type": "code",
   "execution_count": null,
   "id": "88326f27",
   "metadata": {},
   "outputs": [],
   "source": []
  },
  {
   "cell_type": "markdown",
   "id": "ca0f3f36",
   "metadata": {},
   "source": [
    "### Series 运算"
   ]
  },
  {
   "cell_type": "markdown",
   "id": "0dad7505",
   "metadata": {},
   "source": [
    "**12. Series 加法运算：**"
   ]
  },
  {
   "cell_type": "markdown",
   "id": "f15e4e7c",
   "metadata": {},
   "source": [
    "Series 的加法运算是按照索引计算，如果索引不同则填充为 `NaN`（空值）。"
   ]
  },
  {
   "cell_type": "code",
   "execution_count": null,
   "id": "90949796",
   "metadata": {},
   "outputs": [],
   "source": []
  },
  {
   "cell_type": "markdown",
   "id": "f505d2c1",
   "metadata": {},
   "source": [
    "**13. Series 减法运算：**"
   ]
  },
  {
   "cell_type": "markdown",
   "id": "09fcbcff",
   "metadata": {},
   "source": [
    "Series的减法运算是按照索引对应计算，如果不同则填充为 `NaN`（空值）。"
   ]
  },
  {
   "cell_type": "code",
   "execution_count": null,
   "id": "387d9ea6",
   "metadata": {},
   "outputs": [],
   "source": []
  },
  {
   "cell_type": "markdown",
   "id": "310e384a",
   "metadata": {},
   "source": [
    "**14. Series 乘法运算：**"
   ]
  },
  {
   "cell_type": "markdown",
   "id": "eed1e390",
   "metadata": {},
   "source": [
    "Series 的乘法运算是按照索引对应计算，如果索引不同则填充为 `NaN`（空值）。"
   ]
  },
  {
   "cell_type": "code",
   "execution_count": null,
   "id": "76b51d71",
   "metadata": {},
   "outputs": [],
   "source": []
  },
  {
   "cell_type": "markdown",
   "id": "70961bac",
   "metadata": {},
   "source": [
    "**15. Series 除法运算：**"
   ]
  },
  {
   "cell_type": "markdown",
   "id": "e530524a",
   "metadata": {},
   "source": [
    "Series 的除法运算是按照索引对应计算，如果索引不同则填充为 `NaN`（空值）。"
   ]
  },
  {
   "cell_type": "code",
   "execution_count": null,
   "id": "f7de4b89",
   "metadata": {},
   "outputs": [],
   "source": []
  },
  {
   "cell_type": "markdown",
   "id": "f6a84b31",
   "metadata": {},
   "source": [
    "**16. Series 求中位数：**"
   ]
  },
  {
   "cell_type": "code",
   "execution_count": null,
   "id": "41b71791",
   "metadata": {},
   "outputs": [],
   "source": []
  },
  {
   "cell_type": "markdown",
   "id": "331a7e3a",
   "metadata": {},
   "source": [
    "**17. Series 求和：**"
   ]
  },
  {
   "cell_type": "code",
   "execution_count": null,
   "id": "cb9c39c4",
   "metadata": {},
   "outputs": [],
   "source": []
  },
  {
   "cell_type": "markdown",
   "id": "bd81ffdf",
   "metadata": {},
   "source": [
    "**18. Series 求最大值：**"
   ]
  },
  {
   "cell_type": "code",
   "execution_count": null,
   "id": "df28f2f8",
   "metadata": {},
   "outputs": [],
   "source": []
  },
  {
   "cell_type": "markdown",
   "id": "70d5382d",
   "metadata": {},
   "source": [
    "**19. Series 求最小值：**"
   ]
  },
  {
   "cell_type": "code",
   "execution_count": null,
   "id": "8464810e",
   "metadata": {},
   "outputs": [],
   "source": []
  },
  {
   "cell_type": "markdown",
   "id": "6cd1fd07",
   "metadata": {},
   "source": [
    "### 创建 DataFrame 数据类型"
   ]
  },
  {
   "cell_type": "markdown",
   "id": "fc77bba9",
   "metadata": {},
   "source": [
    "与 Sereis 不同，DataFrame 可以存在多列数据。一般情况下，DataFrame 也更加常用。"
   ]
  },
  {
   "cell_type": "markdown",
   "id": "9529a203",
   "metadata": {},
   "source": [
    "**20. 通过 NumPy 数组创建 DataFrame：**"
   ]
  },
  {
   "cell_type": "code",
   "execution_count": null,
   "id": "c6fd4a2b",
   "metadata": {},
   "outputs": [],
   "source": [
    "dates = pd.date_range('today', periods=6)  # 定义时间序列作为 index\n",
    "num_arr = np.random.randn(6, 4)  # 传入 numpy 随机数组\n",
    "columns = ['A', 'B', 'C', 'D']  # 将列表作为列名"
   ]
  },
  {
   "cell_type": "code",
   "execution_count": null,
   "id": "83929f9c",
   "metadata": {},
   "outputs": [],
   "source": [
    "df1 = "
   ]
  },
  {
   "cell_type": "markdown",
   "id": "f2e5fd0e",
   "metadata": {},
   "source": [
    "**21. 通过字典数组创建 DataFrame：**"
   ]
  },
  {
   "cell_type": "code",
   "execution_count": null,
   "id": "2be232b5",
   "metadata": {},
   "outputs": [],
   "source": [
    "data = {'animal': ['cat', 'cat', 'snake', 'dog', 'dog', 'cat', 'snake', 'cat', 'dog', 'dog'],\n",
    "        'age': [2.5, 3, 0.5, np.nan, 5, 2, 4.5, np.nan, 7, 3],\n",
    "        'visits': [1, 3, 2, 3, 2, 3, 1, 1, 2, 1],\n",
    "        'priority': ['yes', 'yes', 'no', 'yes', 'no', 'no', 'no', 'yes', 'no', 'no']}\n",
    "\n",
    "labels = ['a', 'b', 'c', 'd', 'e', 'f', 'g', 'h', 'i', 'j']"
   ]
  },
  {
   "cell_type": "code",
   "execution_count": null,
   "id": "7785d1bd",
   "metadata": {},
   "outputs": [],
   "source": [
    "df2 = "
   ]
  },
  {
   "cell_type": "markdown",
   "id": "a6683e1f",
   "metadata": {},
   "source": [
    "**22. 查看 DataFrame 的数据类型：**"
   ]
  },
  {
   "cell_type": "code",
   "execution_count": null,
   "id": "7657728b",
   "metadata": {},
   "outputs": [],
   "source": [
    "df2"
   ]
  },
  {
   "cell_type": "markdown",
   "id": "2ad3d03c",
   "metadata": {},
   "source": [
    "### DataFrame 基本操作"
   ]
  },
  {
   "cell_type": "markdown",
   "id": "4415af59",
   "metadata": {},
   "source": [
    "**23. 预览 DataFrame 的前 5 行数据：**"
   ]
  },
  {
   "cell_type": "markdown",
   "id": "f55fbbff",
   "metadata": {},
   "source": [
    "此方法对快速了解陌生数据集结构十分有用。"
   ]
  },
  {
   "cell_type": "code",
   "execution_count": null,
   "id": "16e73b99",
   "metadata": {},
   "outputs": [],
   "source": []
  },
  {
   "cell_type": "markdown",
   "id": "66d85cb6",
   "metadata": {},
   "source": [
    "**24. 查看 DataFrame 的后 3 行数据：**"
   ]
  },
  {
   "cell_type": "code",
   "execution_count": null,
   "id": "2d51d579",
   "metadata": {},
   "outputs": [],
   "source": []
  },
  {
   "cell_type": "markdown",
   "id": "cf08affb",
   "metadata": {},
   "source": [
    "**25.查看 DataFrame 的索引：**"
   ]
  },
  {
   "cell_type": "code",
   "execution_count": null,
   "id": "5543f2d8",
   "metadata": {},
   "outputs": [],
   "source": []
  },
  {
   "cell_type": "markdown",
   "id": "e568c93e",
   "metadata": {},
   "source": [
    "**26. 查看 DataFrame 的列名：**"
   ]
  },
  {
   "cell_type": "code",
   "execution_count": null,
   "id": "9b7b200c",
   "metadata": {},
   "outputs": [],
   "source": []
  },
  {
   "cell_type": "markdown",
   "id": "2600896a",
   "metadata": {},
   "source": [
    "**27. 查看 DataFrame 的数值：**"
   ]
  },
  {
   "cell_type": "code",
   "execution_count": null,
   "id": "1601df97",
   "metadata": {},
   "outputs": [],
   "source": []
  },
  {
   "cell_type": "markdown",
   "id": "0cbcfd9b",
   "metadata": {},
   "source": [
    "**28. 查看 DataFrame 的统计数据：**"
   ]
  },
  {
   "cell_type": "code",
   "execution_count": null,
   "id": "fe914e5e",
   "metadata": {},
   "outputs": [],
   "source": []
  },
  {
   "cell_type": "markdown",
   "id": "11e1aa01",
   "metadata": {},
   "source": [
    "**29. DataFrame 转置操作：**"
   ]
  },
  {
   "cell_type": "code",
   "execution_count": null,
   "id": "2469dd77",
   "metadata": {},
   "outputs": [],
   "source": []
  },
  {
   "cell_type": "markdown",
   "id": "6068a85a",
   "metadata": {},
   "source": [
    "**30. 对 DataFrame 进行按列排序：**"
   ]
  },
  {
   "cell_type": "code",
   "execution_count": null,
   "id": "00dc16f1",
   "metadata": {},
   "outputs": [],
   "source": []
  },
  {
   "cell_type": "markdown",
   "id": "36370ee0",
   "metadata": {},
   "source": [
    "**31. 对 DataFrame 数据切片：**"
   ]
  },
  {
   "cell_type": "code",
   "execution_count": null,
   "id": "b9afa308",
   "metadata": {},
   "outputs": [],
   "source": []
  },
  {
   "cell_type": "markdown",
   "id": "ecfc10d6",
   "metadata": {},
   "source": [
    "**32. 对 DataFrame 通过标签查询（单列）：**"
   ]
  },
  {
   "cell_type": "code",
   "execution_count": null,
   "id": "70f9f216",
   "metadata": {},
   "outputs": [],
   "source": []
  },
  {
   "cell_type": "markdown",
   "id": "029b43b3",
   "metadata": {},
   "source": [
    "**33. 对 DataFrame 通过标签查询（多列）：**"
   ]
  },
  {
   "cell_type": "code",
   "execution_count": null,
   "id": "7fd5967b",
   "metadata": {},
   "outputs": [],
   "source": []
  },
  {
   "cell_type": "markdown",
   "id": "6be7d2f7",
   "metadata": {},
   "source": [
    "**34. 对 DataFrame 通过位置查询：**"
   ]
  },
  {
   "cell_type": "code",
   "execution_count": null,
   "id": "698dcd2a",
   "metadata": {},
   "outputs": [],
   "source": []
  },
  {
   "cell_type": "markdown",
   "id": "b7199ff2",
   "metadata": {},
   "source": [
    "**35. DataFrame 副本拷贝：**"
   ]
  },
  {
   "cell_type": "code",
   "execution_count": null,
   "id": "bd6c5204",
   "metadata": {},
   "outputs": [],
   "source": [
    "# 从 df2 生成 DataFrame 副本"
   ]
  },
  {
   "cell_type": "code",
   "execution_count": null,
   "id": "9cf52823",
   "metadata": {},
   "outputs": [],
   "source": []
  },
  {
   "cell_type": "markdown",
   "id": "066e3f4a",
   "metadata": {},
   "source": [
    "**36. 判断 DataFrame 元素是否为空：**"
   ]
  },
  {
   "cell_type": "code",
   "execution_count": null,
   "id": "d2df68bf",
   "metadata": {},
   "outputs": [],
   "source": []
  },
  {
   "cell_type": "markdown",
   "id": "0487dd1b",
   "metadata": {},
   "source": [
    "**37. 添加列数据：**"
   ]
  },
  {
   "cell_type": "code",
   "execution_count": null,
   "id": "dd89c93e",
   "metadata": {},
   "outputs": [],
   "source": [
    "num = pd.Series([0, 1, 2, 3, 4, 5, 6, 7, 8, 9], index=df3.index)\n",
    "# 添加以 'No.' 为列名的新数据列\n",
    "df3"
   ]
  },
  {
   "cell_type": "code",
   "execution_count": null,
   "id": "b5747a55",
   "metadata": {},
   "outputs": [],
   "source": []
  },
  {
   "cell_type": "markdown",
   "id": "7e45f457",
   "metadata": {},
   "source": [
    "**38. 根据 DataFrame 的下标值进行更改：**"
   ]
  },
  {
   "cell_type": "code",
   "execution_count": null,
   "id": "1943436e",
   "metadata": {},
   "outputs": [],
   "source": []
  },
  {
   "cell_type": "markdown",
   "id": "068fd2be",
   "metadata": {},
   "source": [
    "**39. 根据 DataFrame 的标签对数据进行修改：**"
   ]
  },
  {
   "cell_type": "code",
   "execution_count": null,
   "id": "315f1b5b",
   "metadata": {},
   "outputs": [],
   "source": []
  },
  {
   "cell_type": "markdown",
   "id": "ed06288e",
   "metadata": {},
   "source": [
    "**40. DataFrame 求平均值操作：**"
   ]
  },
  {
   "cell_type": "code",
   "execution_count": null,
   "id": "39081f61",
   "metadata": {},
   "outputs": [],
   "source": []
  },
  {
   "cell_type": "markdown",
   "id": "1ebbbdcc",
   "metadata": {},
   "source": [
    "**41. 对 DataFrame 中任意列做求和操作：**"
   ]
  },
  {
   "cell_type": "code",
   "execution_count": null,
   "id": "4d46f806",
   "metadata": {},
   "outputs": [],
   "source": []
  },
  {
   "cell_type": "markdown",
   "id": "5734c99a",
   "metadata": {},
   "source": [
    "### 字符串操作"
   ]
  },
  {
   "cell_type": "markdown",
   "id": "d3f40e3b",
   "metadata": {},
   "source": [
    "**42. 将字符串转化为小写字母：**"
   ]
  },
  {
   "cell_type": "code",
   "execution_count": null,
   "id": "259124c8",
   "metadata": {},
   "outputs": [],
   "source": [
    "string = pd.Series(['A', 'B', 'C', 'Aaba', 'Baca',\n",
    "                    np.nan, 'CABA', 'dog', 'cat'])\n",
    "print(string)"
   ]
  },
  {
   "cell_type": "code",
   "execution_count": null,
   "id": "5d474399",
   "metadata": {},
   "outputs": [],
   "source": []
  },
  {
   "cell_type": "markdown",
   "id": "08b15aa6",
   "metadata": {},
   "source": [
    "**43. 将字符串转化为大写字母：**"
   ]
  },
  {
   "cell_type": "code",
   "execution_count": null,
   "id": "78bc358b",
   "metadata": {},
   "outputs": [],
   "source": [
    "string"
   ]
  },
  {
   "cell_type": "markdown",
   "id": "704b2922",
   "metadata": {},
   "source": [
    "### DataFrame 缺失值操作"
   ]
  },
  {
   "cell_type": "markdown",
   "id": "e676fc30",
   "metadata": {},
   "source": [
    "**44. 对缺失值进行填充：**"
   ]
  },
  {
   "cell_type": "code",
   "execution_count": null,
   "id": "c8bdac64",
   "metadata": {},
   "outputs": [],
   "source": [
    "df4 = df3.copy()\n",
    "df4"
   ]
  },
  {
   "cell_type": "code",
   "execution_count": null,
   "id": "7c5abf23",
   "metadata": {},
   "outputs": [],
   "source": []
  },
  {
   "cell_type": "markdown",
   "id": "54072e5c",
   "metadata": {},
   "source": [
    "**45. 删除存在缺失值的行：**"
   ]
  },
  {
   "cell_type": "code",
   "execution_count": null,
   "id": "0d5d3c0c",
   "metadata": {},
   "outputs": [],
   "source": []
  },
  {
   "cell_type": "markdown",
   "id": "043b4613",
   "metadata": {},
   "source": [
    "**46. DataFrame 按指定列对齐：**"
   ]
  },
  {
   "cell_type": "code",
   "execution_count": null,
   "id": "360f6cb1",
   "metadata": {},
   "outputs": [],
   "source": [
    "left = pd.DataFrame({'key': ['foo1', 'foo2'], 'one': [1, 2]})\n",
    "right = pd.DataFrame({'key': ['foo2', 'foo3'], 'two': [4, 5]})\n",
    "\n",
    "print(left)\n",
    "print(right)\n",
    "\n",
    "# 按照 key 列对齐连接，只存在 foo2 相同，所以最后变成一行"
   ]
  },
  {
   "cell_type": "code",
   "execution_count": null,
   "id": "39831329",
   "metadata": {},
   "outputs": [],
   "source": []
  },
  {
   "cell_type": "markdown",
   "id": "1c49d2f8",
   "metadata": {},
   "source": [
    "### DataFrame 文件操作"
   ]
  },
  {
   "cell_type": "markdown",
   "id": "4c2d7803",
   "metadata": {},
   "source": [
    "**47. CSV 文件写入：**"
   ]
  },
  {
   "cell_type": "code",
   "execution_count": null,
   "id": "70a847f0",
   "metadata": {},
   "outputs": [],
   "source": [
    "# df3 保存为 'animal.csv'\n",
    "df3"
   ]
  },
  {
   "cell_type": "code",
   "execution_count": null,
   "id": "9ad4303e",
   "metadata": {},
   "outputs": [],
   "source": []
  },
  {
   "cell_type": "markdown",
   "id": "06c2e7f6",
   "metadata": {},
   "source": [
    "**48. CSV 文件读取：**"
   ]
  },
  {
   "cell_type": "code",
   "execution_count": null,
   "id": "42200a7e",
   "metadata": {},
   "outputs": [],
   "source": [
    "# 读取 'animal.csv' 文件\n",
    "df_animal = "
   ]
  },
  {
   "cell_type": "code",
   "execution_count": null,
   "id": "815abfb4",
   "metadata": {},
   "outputs": [],
   "source": []
  },
  {
   "cell_type": "markdown",
   "id": "48c7cd48",
   "metadata": {},
   "source": [
    "**49. Excel 写入操作：**"
   ]
  },
  {
   "cell_type": "code",
   "execution_count": null,
   "id": "a95c1386",
   "metadata": {},
   "outputs": [],
   "source": [
    "# df3 保存为 'animal.xlsx'\n",
    "df3"
   ]
  },
  {
   "cell_type": "code",
   "execution_count": null,
   "id": "174eed5b",
   "metadata": {},
   "outputs": [],
   "source": []
  },
  {
   "cell_type": "markdown",
   "id": "8a9a496d",
   "metadata": {},
   "source": [
    "**50. Excel 读取操作：**"
   ]
  },
  {
   "cell_type": "code",
   "execution_count": null,
   "id": "401ba153",
   "metadata": {},
   "outputs": [],
   "source": [
    "# 读取 'animal.xlsx' 文件"
   ]
  },
  {
   "cell_type": "markdown",
   "id": "e30e5fca",
   "metadata": {},
   "source": [
    "### 进阶部分"
   ]
  },
  {
   "cell_type": "markdown",
   "id": "388d8a47",
   "metadata": {},
   "source": [
    "### 时间序列索引"
   ]
  },
  {
   "cell_type": "markdown",
   "id": "881a0859",
   "metadata": {},
   "source": [
    "**51. 建立一个以 2018 年每一天为索引，值为随机数的 Series：**"
   ]
  },
  {
   "cell_type": "code",
   "execution_count": null,
   "id": "f8348226",
   "metadata": {},
   "outputs": [],
   "source": [
    "s = "
   ]
  },
  {
   "cell_type": "markdown",
   "id": "8adedf1d",
   "metadata": {},
   "source": [
    "**52. 统计`s` 中每一个周三对应值的和：**"
   ]
  },
  {
   "cell_type": "code",
   "execution_count": null,
   "id": "5a41f076",
   "metadata": {},
   "outputs": [],
   "source": []
  },
  {
   "cell_type": "markdown",
   "id": "1760a871",
   "metadata": {},
   "source": [
    "**53. 统计`s`中每个月值的平均值：**"
   ]
  },
  {
   "cell_type": "code",
   "execution_count": null,
   "id": "5c1ad8b0",
   "metadata": {},
   "outputs": [],
   "source": []
  },
  {
   "cell_type": "markdown",
   "id": "806e11a9",
   "metadata": {},
   "source": [
    "**54. 将 Series 中的时间进行转换（秒转分钟）：**"
   ]
  },
  {
   "cell_type": "code",
   "execution_count": null,
   "id": "b823c6fe",
   "metadata": {},
   "outputs": [],
   "source": []
  },
  {
   "cell_type": "markdown",
   "id": "e81d99e1",
   "metadata": {},
   "source": [
    "**55. 转换为 UTC 世界时间标准：**"
   ]
  },
  {
   "cell_type": "code",
   "execution_count": null,
   "id": "0c09e702",
   "metadata": {},
   "outputs": [],
   "source": []
  },
  {
   "cell_type": "markdown",
   "id": "4ff5df1c",
   "metadata": {},
   "source": [
    "**56. 转换为上海所在时区：**"
   ]
  },
  {
   "cell_type": "code",
   "execution_count": null,
   "id": "d976b9c8",
   "metadata": {},
   "outputs": [],
   "source": []
  },
  {
   "cell_type": "markdown",
   "id": "80868dd0",
   "metadata": {},
   "source": [
    "**57.不同时间表示方式的转换：**"
   ]
  },
  {
   "cell_type": "code",
   "execution_count": null,
   "id": "6aa75ae9",
   "metadata": {},
   "outputs": [],
   "source": []
  },
  {
   "cell_type": "markdown",
   "id": "db565b70",
   "metadata": {},
   "source": [
    "### Series 多重索引"
   ]
  },
  {
   "cell_type": "markdown",
   "id": "47f50038",
   "metadata": {},
   "source": [
    "**58. 创建多重索引 Series：**"
   ]
  },
  {
   "cell_type": "markdown",
   "id": "34d954ce",
   "metadata": {},
   "source": [
    "构建一个 `letters = ['A', 'B', 'C']` 和 `numbers = list(range(10))`为索引，值为随机数的多重索引 Series。"
   ]
  },
  {
   "cell_type": "code",
   "execution_count": null,
   "id": "5442a713",
   "metadata": {},
   "outputs": [],
   "source": [
    "s = "
   ]
  },
  {
   "cell_type": "markdown",
   "id": "7bf1905a",
   "metadata": {},
   "source": [
    "**59. 多重索引 Series 查询：**"
   ]
  },
  {
   "cell_type": "code",
   "execution_count": null,
   "id": "bfe87bc9",
   "metadata": {},
   "outputs": [],
   "source": []
  },
  {
   "cell_type": "markdown",
   "id": "49ae7d5f",
   "metadata": {},
   "source": [
    "**60. 多重索引 Series 切片：**"
   ]
  },
  {
   "cell_type": "code",
   "execution_count": null,
   "id": "cf38c932",
   "metadata": {},
   "outputs": [],
   "source": []
  },
  {
   "cell_type": "markdown",
   "id": "824150b3",
   "metadata": {},
   "source": [
    "### DataFrame 多重索引"
   ]
  },
  {
   "cell_type": "markdown",
   "id": "5c805e00",
   "metadata": {},
   "source": [
    "**61. 根据多重索引创建 DataFrame：**"
   ]
  },
  {
   "cell_type": "markdown",
   "id": "40e25123",
   "metadata": {},
   "source": [
    "创建一个以 `letters = ['A', 'B']` 和 `numbers = list(range(6))`为索引，值为随机数据的多重索引 DataFrame。"
   ]
  },
  {
   "cell_type": "code",
   "execution_count": null,
   "id": "7cf08759",
   "metadata": {},
   "outputs": [],
   "source": [
    "frame = "
   ]
  },
  {
   "cell_type": "markdown",
   "id": "474ba5b5",
   "metadata": {},
   "source": [
    "**62. 多重索引设置列名称：**"
   ]
  },
  {
   "cell_type": "code",
   "execution_count": null,
   "id": "3f3cb17f",
   "metadata": {},
   "outputs": [],
   "source": []
  },
  {
   "cell_type": "markdown",
   "id": "f1c3c2e0",
   "metadata": {},
   "source": [
    "**63. DataFrame 多重索引分组求和：**"
   ]
  },
  {
   "cell_type": "code",
   "execution_count": null,
   "id": "2382ec88",
   "metadata": {},
   "outputs": [],
   "source": []
  },
  {
   "cell_type": "markdown",
   "id": "4a59c0f2",
   "metadata": {},
   "source": [
    "**64. DataFrame 行列名称转换：**"
   ]
  },
  {
   "cell_type": "code",
   "execution_count": null,
   "id": "38050b31",
   "metadata": {},
   "outputs": [],
   "source": []
  },
  {
   "cell_type": "markdown",
   "id": "18427083",
   "metadata": {},
   "source": [
    "**65. DataFrame 索引转换：**"
   ]
  },
  {
   "cell_type": "code",
   "execution_count": null,
   "id": "46bcc7c7",
   "metadata": {},
   "outputs": [],
   "source": []
  },
  {
   "cell_type": "markdown",
   "id": "dfcce60d",
   "metadata": {},
   "source": [
    "**66. DataFrame 条件查找：**"
   ]
  },
  {
   "cell_type": "code",
   "execution_count": null,
   "id": "302d621c",
   "metadata": {},
   "outputs": [],
   "source": [
    "# 示例数据\n",
    "data = {'animal': ['cat', 'cat', 'snake', 'dog', 'dog', 'cat', 'snake', 'cat', 'dog', 'dog'],\n",
    "        'age': [2.5, 3, 0.5, np.nan, 5, 2, 4.5, np.nan, 7, 3],\n",
    "        'visits': [1, 3, 2, 3, 2, 3, 1, 1, 2, 1],\n",
    "        'priority': ['yes', 'yes', 'no', 'yes', 'no', 'no', 'no', 'yes', 'no', 'no']}\n",
    "\n",
    "labels = ['a', 'b', 'c', 'd', 'e', 'f', 'g', 'h', 'i', 'j']\n",
    "df = pd.DataFrame(data, index=labels)\n",
    "df"
   ]
  },
  {
   "cell_type": "markdown",
   "id": "9c7ebfa8",
   "metadata": {},
   "source": [
    "查找 `age` 大于 `3` 的全部信息"
   ]
  },
  {
   "cell_type": "code",
   "execution_count": null,
   "id": "6077226a",
   "metadata": {},
   "outputs": [],
   "source": []
  },
  {
   "cell_type": "markdown",
   "id": "1c639cdf",
   "metadata": {},
   "source": [
    "**67. 根据行列索引切片：**"
   ]
  },
  {
   "cell_type": "code",
   "execution_count": null,
   "id": "a23e9d51",
   "metadata": {},
   "outputs": [],
   "source": []
  },
  {
   "cell_type": "markdown",
   "id": "8a664675",
   "metadata": {},
   "source": [
    "**68. DataFrame 多重条件查询：**"
   ]
  },
  {
   "cell_type": "markdown",
   "id": "560fbbd2",
   "metadata": {},
   "source": [
    "查找 `age<3` 且为 `cat` 的全部数据。"
   ]
  },
  {
   "cell_type": "code",
   "execution_count": null,
   "id": "4b22734f",
   "metadata": {},
   "outputs": [],
   "source": []
  },
  {
   "cell_type": "markdown",
   "id": "88387cae",
   "metadata": {},
   "source": [
    "**69. DataFrame 按关键字查询：**"
   ]
  },
  {
   "cell_type": "code",
   "execution_count": null,
   "id": "f86558ee",
   "metadata": {},
   "outputs": [],
   "source": []
  },
  {
   "cell_type": "markdown",
   "id": "d7a0a8ae",
   "metadata": {},
   "source": [
    "**70. DataFrame 按标签及列名查询：**"
   ]
  },
  {
   "cell_type": "code",
   "execution_count": null,
   "id": "52e2c475",
   "metadata": {},
   "outputs": [],
   "source": []
  },
  {
   "cell_type": "markdown",
   "id": "f08fa4ee",
   "metadata": {},
   "source": [
    "**71. DataFrame 多条件排序：**"
   ]
  },
  {
   "cell_type": "markdown",
   "id": "f53a0a43",
   "metadata": {},
   "source": [
    "按照 `age` 降序，`visits` 升序排列"
   ]
  },
  {
   "cell_type": "code",
   "execution_count": null,
   "id": "7b92ca25",
   "metadata": {},
   "outputs": [],
   "source": []
  },
  {
   "cell_type": "markdown",
   "id": "21e58112",
   "metadata": {},
   "source": [
    "**72.DataFrame 多值替换：**"
   ]
  },
  {
   "cell_type": "markdown",
   "id": "4fb1ab88",
   "metadata": {},
   "source": [
    "将 `priority` 列的 `yes` 值替换为 `True`，`no` 值替换为 `False`。"
   ]
  },
  {
   "cell_type": "code",
   "execution_count": null,
   "id": "74d3ed93",
   "metadata": {},
   "outputs": [],
   "source": []
  },
  {
   "cell_type": "markdown",
   "id": "48cd0e1c",
   "metadata": {},
   "source": [
    "**73. DataFrame 分组求和：**"
   ]
  },
  {
   "cell_type": "code",
   "execution_count": null,
   "id": "b60655c6",
   "metadata": {},
   "outputs": [],
   "source": []
  },
  {
   "cell_type": "markdown",
   "id": "a29ed0d6",
   "metadata": {},
   "source": [
    "**74. 使用列表拼接多个 DataFrame：**"
   ]
  },
  {
   "cell_type": "code",
   "execution_count": null,
   "id": "38bf4e4f",
   "metadata": {},
   "outputs": [],
   "source": [
    "temp_df1 = pd.DataFrame(np.random.randn(5, 4))  # 生成由随机数组成的 DataFrame 1\n",
    "temp_df2 = pd.DataFrame(np.random.randn(5, 4))  # 生成由随机数组成的 DataFrame 2\n",
    "temp_df3 = pd.DataFrame(np.random.randn(5, 4))  # 生成由随机数组成的 DataFrame 3"
   ]
  },
  {
   "cell_type": "code",
   "execution_count": null,
   "id": "504e50b9",
   "metadata": {},
   "outputs": [],
   "source": []
  },
  {
   "cell_type": "markdown",
   "id": "7cd29754",
   "metadata": {},
   "source": [
    "**75. 找出 DataFrame 表中和最小的列：**"
   ]
  },
  {
   "cell_type": "code",
   "execution_count": null,
   "id": "d8749708",
   "metadata": {},
   "outputs": [],
   "source": [
    "df = pd.DataFrame(np.random.random(size=(5, 10)), columns=list('abcdefghij'))"
   ]
  },
  {
   "cell_type": "code",
   "execution_count": null,
   "id": "48c73cb9",
   "metadata": {},
   "outputs": [],
   "source": [
    "df"
   ]
  },
  {
   "cell_type": "markdown",
   "id": "07352e2e",
   "metadata": {},
   "source": [
    "**76. DataFrame 中每个元素减去每一行的平均值：**"
   ]
  },
  {
   "cell_type": "code",
   "execution_count": null,
   "id": "f0727117",
   "metadata": {},
   "outputs": [],
   "source": [
    "df = pd.DataFrame(np.random.random(size=(5, 3)))"
   ]
  },
  {
   "cell_type": "code",
   "execution_count": null,
   "id": "2135a672",
   "metadata": {},
   "outputs": [],
   "source": [
    "df"
   ]
  },
  {
   "cell_type": "markdown",
   "id": "4f0c1a3c",
   "metadata": {},
   "source": [
    "**77. DataFrame 分组，并得到每一组中最大三个数之和：**"
   ]
  },
  {
   "cell_type": "code",
   "execution_count": null,
   "id": "3e40804e",
   "metadata": {},
   "outputs": [],
   "source": [
    "df = pd.DataFrame({'A': list('aaabbcaabcccbbc'),\n",
    "                   'B': [12, 345, 3, 1, 45, 14, 4, 52, 54, 23, 235, 21, 57, 3, 87]})"
   ]
  },
  {
   "cell_type": "code",
   "execution_count": null,
   "id": "e2c4a681",
   "metadata": {},
   "outputs": [],
   "source": [
    "df"
   ]
  },
  {
   "cell_type": "markdown",
   "id": "b1540cf9",
   "metadata": {},
   "source": [
    "### 透视表"
   ]
  },
  {
   "cell_type": "markdown",
   "id": "3dbed235",
   "metadata": {},
   "source": [
    "当分析庞大的数据时，为了更好的发掘数据特征之间的关系，且不破坏原数据，就可以利用透视表 `pivot_table` 进行操作。"
   ]
  },
  {
   "cell_type": "markdown",
   "id": "ad4cbd8f",
   "metadata": {},
   "source": [
    "**78. 透视表的创建：**"
   ]
  },
  {
   "cell_type": "markdown",
   "id": "7177b230",
   "metadata": {},
   "source": [
    "新建表将 `A, B, C` 列作为索引进行聚合。"
   ]
  },
  {
   "cell_type": "code",
   "execution_count": null,
   "id": "8f589d24",
   "metadata": {},
   "outputs": [],
   "source": [
    "df = pd.DataFrame({'A': ['one', 'one', 'two', 'three'] * 3,\n",
    "                   'B': ['A', 'B', 'C'] * 4,\n",
    "                   'C': ['foo', 'foo', 'foo', 'bar', 'bar', 'bar'] * 2,\n",
    "                   'D': np.random.randn(12),\n",
    "                   'E': np.random.randn(12)})"
   ]
  },
  {
   "cell_type": "code",
   "execution_count": null,
   "id": "775d084d",
   "metadata": {},
   "outputs": [],
   "source": [
    "df"
   ]
  },
  {
   "cell_type": "markdown",
   "id": "def04a47",
   "metadata": {},
   "source": [
    "**79. 透视表按指定行进行聚合：**"
   ]
  },
  {
   "cell_type": "markdown",
   "id": "efa686d4",
   "metadata": {},
   "source": [
    "将该 DataFrame 的 `D` 列聚合，按照 `A,B` 列为索引进行聚合，聚合的方式为默认求均值。"
   ]
  },
  {
   "cell_type": "code",
   "execution_count": null,
   "id": "06cc50ed",
   "metadata": {},
   "outputs": [],
   "source": []
  },
  {
   "cell_type": "markdown",
   "id": "8ed9964e",
   "metadata": {},
   "source": [
    "**80. 透视表聚合方式定义：**"
   ]
  },
  {
   "cell_type": "markdown",
   "id": "5eeb5c52",
   "metadata": {},
   "source": [
    "上一题中 `D` 列聚合时，采用默认求均值的方法，若想使用更多的方式可以在 `aggfunc` 中实现。"
   ]
  },
  {
   "cell_type": "code",
   "execution_count": null,
   "id": "6b660533",
   "metadata": {},
   "outputs": [],
   "source": []
  },
  {
   "cell_type": "markdown",
   "id": "a697618e",
   "metadata": {},
   "source": [
    "**81. 透视表利用额外列进行辅助分割：**"
   ]
  },
  {
   "cell_type": "markdown",
   "id": "01b65d1a",
   "metadata": {},
   "source": [
    "`D` 列按照 `A,B` 列进行聚合时，若关心 `C` 列对 `D` 列的影响，可以加入 `columns` 值进行分析。"
   ]
  },
  {
   "cell_type": "code",
   "execution_count": null,
   "id": "eb4f475c",
   "metadata": {},
   "outputs": [],
   "source": []
  },
  {
   "cell_type": "markdown",
   "id": "acdb27cf",
   "metadata": {},
   "source": [
    "**82. 透视表的缺省值处理：**"
   ]
  },
  {
   "cell_type": "markdown",
   "id": "c4889a77",
   "metadata": {},
   "source": [
    "在透视表中由于不同的聚合方式，相应缺少的组合将为缺省值，可以加入 `fill_value` 对缺省值处理。"
   ]
  },
  {
   "cell_type": "code",
   "execution_count": null,
   "id": "ce94df7d",
   "metadata": {},
   "outputs": [],
   "source": []
  },
  {
   "cell_type": "markdown",
   "id": "3d2b25dc",
   "metadata": {},
   "source": [
    "### 绝对类型"
   ]
  },
  {
   "cell_type": "markdown",
   "id": "0b02d412",
   "metadata": {},
   "source": [
    "在数据的形式上主要包括数量型和性质型，数量型表示着数据可数范围可变，而性质型表示范围已经确定不可改变，绝对型数据就是性质型数据的一种。"
   ]
  },
  {
   "cell_type": "markdown",
   "id": "fdcf2073",
   "metadata": {},
   "source": [
    "**83. 绝对型数据定义：**"
   ]
  },
  {
   "cell_type": "code",
   "execution_count": null,
   "id": "0e659f9d",
   "metadata": {},
   "outputs": [],
   "source": [
    "df = pd.DataFrame({\"id\": [1, 2, 3, 4, 5, 6], \"raw_grade\": [\n",
    "                  'a', 'b', 'b', 'a', 'a', 'e']})"
   ]
  },
  {
   "cell_type": "code",
   "execution_count": null,
   "id": "2461358a",
   "metadata": {},
   "outputs": [],
   "source": [
    "df"
   ]
  },
  {
   "cell_type": "markdown",
   "id": "44687c50",
   "metadata": {},
   "source": [
    "**84. 对绝对型数据重命名：**"
   ]
  },
  {
   "cell_type": "code",
   "execution_count": null,
   "id": "08f7f24e",
   "metadata": {},
   "outputs": [],
   "source": []
  },
  {
   "cell_type": "markdown",
   "id": "5b5904e3",
   "metadata": {},
   "source": [
    "**85. 重新排列绝对型数据并补充相应的缺省值：**"
   ]
  },
  {
   "cell_type": "code",
   "execution_count": null,
   "id": "5261ca36",
   "metadata": {},
   "outputs": [],
   "source": []
  },
  {
   "cell_type": "markdown",
   "id": "8982a9db",
   "metadata": {},
   "source": [
    "**86. 对绝对型数据进行排序：**"
   ]
  },
  {
   "cell_type": "code",
   "execution_count": null,
   "id": "0ce4d8c9",
   "metadata": {},
   "outputs": [],
   "source": []
  },
  {
   "cell_type": "markdown",
   "id": "44ea5a82",
   "metadata": {},
   "source": [
    "**87. 对绝对型数据进行分组：**"
   ]
  },
  {
   "cell_type": "code",
   "execution_count": null,
   "id": "0c53b338",
   "metadata": {},
   "outputs": [],
   "source": []
  },
  {
   "cell_type": "markdown",
   "id": "4102f4ef",
   "metadata": {},
   "source": [
    "### 数据清洗"
   ]
  },
  {
   "cell_type": "markdown",
   "id": "5df68308",
   "metadata": {},
   "source": [
    "常常我们得到的数据是不符合我们最终处理的数据要求，包括许多缺省值以及坏的数据，需要我们对数据进行清洗。"
   ]
  },
  {
   "cell_type": "markdown",
   "id": "16fac241",
   "metadata": {},
   "source": [
    "**88. 缺失值拟合：**"
   ]
  },
  {
   "cell_type": "markdown",
   "id": "f3aa54e6",
   "metadata": {},
   "source": [
    "在`FilghtNumber`中有数值缺失，其中数值为按 10 增长，补充相应的缺省值使得数据完整，并让数据为 `int` 类型。"
   ]
  },
  {
   "cell_type": "code",
   "execution_count": null,
   "id": "630b26d4",
   "metadata": {},
   "outputs": [],
   "source": [
    "df = pd.DataFrame({'From_To': ['LoNDon_paris', 'MAdrid_miLAN', 'londON_StockhOlm',\n",
    "                               'Budapest_PaRis', 'Brussels_londOn'],\n",
    "                   'FlightNumber': [10045, np.nan, 10065, np.nan, 10085],\n",
    "                   'RecentDelays': [[23, 47], [], [24, 43, 87], [13], [67, 32]],\n",
    "                   'Airline': ['KLM(!)', '<Air France> (12)', '(British Airways. )',\n",
    "                               '12. Air France', '\"Swiss Air\"']})"
   ]
  },
  {
   "cell_type": "code",
   "execution_count": null,
   "id": "479c8835",
   "metadata": {},
   "outputs": [],
   "source": [
    "df"
   ]
  },
  {
   "cell_type": "markdown",
   "id": "ac8a0336",
   "metadata": {},
   "source": [
    "**89. 数据列拆分：**"
   ]
  },
  {
   "cell_type": "markdown",
   "id": "e8f9e658",
   "metadata": {},
   "source": [
    "其中`From_to`应该为两独立的两列`From`和`To`，将`From_to`依照`_`拆分为独立两列建立为一个新表。"
   ]
  },
  {
   "cell_type": "code",
   "execution_count": null,
   "id": "94597be1",
   "metadata": {},
   "outputs": [],
   "source": []
  },
  {
   "cell_type": "markdown",
   "id": "c0dd8998",
   "metadata": {},
   "source": [
    "**90. 字符标准化：**"
   ]
  },
  {
   "cell_type": "markdown",
   "id": "9b3443b9",
   "metadata": {},
   "source": [
    "其中注意到地点的名字都不规范（如：`londON`应该为`London`）需要对数据进行标准化处理。"
   ]
  },
  {
   "cell_type": "code",
   "execution_count": null,
   "id": "fc3612e9",
   "metadata": {},
   "outputs": [],
   "source": []
  },
  {
   "cell_type": "markdown",
   "id": "e18cb455",
   "metadata": {},
   "source": [
    "**91. 删除坏数据加入整理好的数据：**"
   ]
  },
  {
   "cell_type": "markdown",
   "id": "0bcc3236",
   "metadata": {},
   "source": [
    "将最开始的 `From_to` 列删除，加入整理好的 `From` 和 `to` 列。"
   ]
  },
  {
   "cell_type": "code",
   "execution_count": null,
   "id": "3689ccbc",
   "metadata": {},
   "outputs": [],
   "source": []
  },
  {
   "cell_type": "markdown",
   "id": "6ae35286",
   "metadata": {},
   "source": [
    "**92. 去除多余字符：**"
   ]
  },
  {
   "cell_type": "markdown",
   "id": "fbdf3954",
   "metadata": {},
   "source": [
    "如同 `airline` 列中许多数据有许多其他字符，会对后期的数据分析有较大影响，需要对这类数据进行修正。"
   ]
  },
  {
   "cell_type": "code",
   "execution_count": null,
   "id": "446abec2",
   "metadata": {},
   "outputs": [],
   "source": []
  },
  {
   "cell_type": "markdown",
   "id": "bb2bd9b8",
   "metadata": {},
   "source": [
    "**93. 格式规范：**"
   ]
  },
  {
   "cell_type": "markdown",
   "id": "a33529d6",
   "metadata": {},
   "source": [
    "在 `RecentDelays` 中记录的方式为列表类型，由于其长度不一，这会为后期数据分析造成很大麻烦。这里将 `RecentDelays` 的列表拆开，取出列表中的相同位置元素作为一列，若为空值即用 `NaN` 代替。"
   ]
  },
  {
   "cell_type": "code",
   "execution_count": null,
   "id": "345fd58b",
   "metadata": {},
   "outputs": [],
   "source": []
  },
  {
   "cell_type": "markdown",
   "id": "a1b6ace6",
   "metadata": {},
   "source": [
    "### 数据预处理"
   ]
  },
  {
   "cell_type": "markdown",
   "id": "e4c0f7a0",
   "metadata": {},
   "source": [
    "**94. 信息区间划分：**"
   ]
  },
  {
   "cell_type": "markdown",
   "id": "325849a8",
   "metadata": {},
   "source": [
    "班级一部分同学的数学成绩表，如下图所示"
   ]
  },
  {
   "cell_type": "markdown",
   "id": "b3edfeb1",
   "metadata": {},
   "source": [
    "```python\n",
    "df=pd.DataFrame({'name':['Alice','Bob','Candy','Dany','Ella','Frank','Grace','Jenny'],'grades':[58,83,79,65,93,45,61,88]})\n",
    "```"
   ]
  },
  {
   "cell_type": "markdown",
   "id": "ec8b7a9f",
   "metadata": {},
   "source": [
    "但我们更加关心的是该同学是否及格，将该数学成绩按照是否`>60`来进行划分。"
   ]
  },
  {
   "cell_type": "code",
   "execution_count": null,
   "id": "7377b78a",
   "metadata": {},
   "outputs": [],
   "source": []
  },
  {
   "cell_type": "markdown",
   "id": "ed46ceb6",
   "metadata": {},
   "source": [
    "**95. 数据去重：**"
   ]
  },
  {
   "cell_type": "markdown",
   "id": "59b9a3fd",
   "metadata": {},
   "source": [
    "一个列为`A`的 DataFrame 数据，如下图所示"
   ]
  },
  {
   "cell_type": "markdown",
   "id": "a9e4752f",
   "metadata": {},
   "source": [
    "```python\n",
    "df = pd.DataFrame({'A': [1, 2, 2, 3, 4, 5, 5, 5, 6, 7, 7]})\n",
    "```"
   ]
  },
  {
   "cell_type": "markdown",
   "id": "e0beb7ec",
   "metadata": {},
   "source": [
    "尝试将 A 列中连续重复的数据清除。"
   ]
  },
  {
   "cell_type": "code",
   "execution_count": null,
   "id": "bd2980ec",
   "metadata": {},
   "outputs": [],
   "source": []
  },
  {
   "cell_type": "markdown",
   "id": "1d10cd78",
   "metadata": {},
   "source": [
    "**96. 数据归一化：**"
   ]
  },
  {
   "cell_type": "markdown",
   "id": "c22cb4df",
   "metadata": {},
   "source": [
    "有时候，DataFrame 中不同列之间的数据差距太大，需要对其进行归一化处理。"
   ]
  },
  {
   "cell_type": "markdown",
   "id": "fb7953d4",
   "metadata": {},
   "source": [
    "其中，Max-Min 归一化是简单而常见的一种方式，公式如下:"
   ]
  },
  {
   "cell_type": "markdown",
   "id": "35aad831",
   "metadata": {},
   "source": [
    "$$Y=\\frac{X-X_{min}}{X_{max}-X_{min}}$$"
   ]
  },
  {
   "cell_type": "code",
   "execution_count": null,
   "id": "32cf9479",
   "metadata": {},
   "outputs": [],
   "source": []
  },
  {
   "cell_type": "markdown",
   "id": "890f976e",
   "metadata": {},
   "source": [
    "### Pandas 绘图操作"
   ]
  },
  {
   "cell_type": "markdown",
   "id": "f77db26f",
   "metadata": {},
   "source": [
    "为了更好的了解数据包含的信息，最直观的方法就是将其绘制成图。"
   ]
  },
  {
   "cell_type": "markdown",
   "id": "262e3087",
   "metadata": {},
   "source": [
    "**97. Series 可视化：**"
   ]
  },
  {
   "cell_type": "code",
   "execution_count": null,
   "id": "0c6e7958",
   "metadata": {},
   "outputs": [],
   "source": []
  },
  {
   "cell_type": "markdown",
   "id": "01bf1533",
   "metadata": {},
   "source": [
    "**98. DataFrame 折线图：**"
   ]
  },
  {
   "cell_type": "code",
   "execution_count": null,
   "id": "a0f9110c",
   "metadata": {},
   "outputs": [],
   "source": []
  },
  {
   "cell_type": "markdown",
   "id": "4fb463d6",
   "metadata": {},
   "source": [
    "**99. DataFrame 散点图：**"
   ]
  },
  {
   "cell_type": "code",
   "execution_count": null,
   "id": "ddab43be",
   "metadata": {},
   "outputs": [],
   "source": []
  },
  {
   "cell_type": "markdown",
   "id": "6c6e7784",
   "metadata": {},
   "source": [
    "**100. DataFrame 柱形图：**"
   ]
  },
  {
   "cell_type": "code",
   "execution_count": null,
   "id": "f5e4a786",
   "metadata": {},
   "outputs": [],
   "source": []
  }
 ],
 "metadata": {
  "kernelspec": {
   "display_name": "Python 3 (ipykernel)",
   "language": "python",
   "name": "python3"
  },
  "language_info": {
   "codemirror_mode": {
    "name": "ipython",
    "version": 3
   },
   "file_extension": ".py",
   "mimetype": "text/x-python",
   "name": "python",
   "nbconvert_exporter": "python",
   "pygments_lexer": "ipython3",
   "version": "3.7.9"
  }
 },
 "nbformat": 4,
 "nbformat_minor": 5
}
